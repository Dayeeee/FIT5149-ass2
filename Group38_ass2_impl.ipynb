{
 "cells": [
  {
   "cell_type": "code",
   "execution_count": 96,
   "metadata": {},
   "outputs": [
    {
     "name": "stderr",
     "output_type": "stream",
     "text": [
      "Warning message:\n",
      "\"package 'tsfeatures' is in use and will not be installed\"\n",
      "Warning message:\n",
      "\"package 'zoo' is in use and will not be installed\"\n",
      "Warning message:\n",
      "\"package 'ClusterR' is in use and will not be installed\"\n",
      "Warning message:\n",
      "\"package 'TSA' is in use and will not be installed\"\n"
     ]
    }
   ],
   "source": [
    "# install necessary libraries\n",
    "library(dplyr) \n",
    "library(reshape2) \n",
    "library(ggplot2) # visualization\n",
    "install.packages('tsfeatures')\n",
    "library(tsfeatures) # feature selection\n",
    "install.packages('zoo')\n",
    "library(zoo) # windows processing\n",
    "install.packages('ClusterR')\n",
    "library(ClusterR) # GMM\n",
    "install.packages('TSA')\n",
    "library(TSA)  # Fourier"
   ]
  },
  {
   "cell_type": "code",
   "execution_count": 97,
   "metadata": {},
   "outputs": [],
   "source": [
    "# load the train and test dataset\n",
    "our_train = read.csv('./train_data_withlabels.csv')\n",
    "our_test = read.csv('./test_data_nolabels.csv')"
   ]
  },
  {
   "cell_type": "code",
   "execution_count": 3,
   "metadata": {},
   "outputs": [
    {
     "data": {
      "text/html": [
       "<table>\n",
       "<caption>A data.frame: 6 × 16</caption>\n",
       "<thead>\n",
       "\t<tr><th></th><th scope=col>X</th><th scope=col>load</th><th scope=col>ac</th><th scope=col>ev</th><th scope=col>oven</th><th scope=col>wash</th><th scope=col>dryer</th><th scope=col>hourofday</th><th scope=col>dayofweek</th><th scope=col>dif</th><th scope=col>absdif</th><th scope=col>max</th><th scope=col>var</th><th scope=col>entropy</th><th scope=col>nonlinear</th><th scope=col>hurst</th></tr>\n",
       "\t<tr><th></th><th scope=col>&lt;int&gt;</th><th scope=col>&lt;dbl&gt;</th><th scope=col>&lt;int&gt;</th><th scope=col>&lt;int&gt;</th><th scope=col>&lt;int&gt;</th><th scope=col>&lt;int&gt;</th><th scope=col>&lt;int&gt;</th><th scope=col>&lt;int&gt;</th><th scope=col>&lt;chr&gt;</th><th scope=col>&lt;dbl&gt;</th><th scope=col>&lt;dbl&gt;</th><th scope=col>&lt;dbl&gt;</th><th scope=col>&lt;dbl&gt;</th><th scope=col>&lt;dbl&gt;</th><th scope=col>&lt;dbl&gt;</th><th scope=col>&lt;dbl&gt;</th></tr>\n",
       "</thead>\n",
       "<tbody>\n",
       "\t<tr><th scope=row>1</th><td>105541</td><td>2.245</td><td>0</td><td>0</td><td>0</td><td>0</td><td>0</td><td>0</td><td>Sun</td><td> 0.987</td><td>0.987</td><td>6.215</td><td>3.074549</td><td>0.6788858</td><td>0.05290291</td><td>0.9940715</td></tr>\n",
       "\t<tr><th scope=row>2</th><td>105542</td><td>2.259</td><td>0</td><td>0</td><td>0</td><td>0</td><td>0</td><td>0</td><td>Sun</td><td> 0.014</td><td>0.014</td><td>6.215</td><td>3.172867</td><td>0.6674503</td><td>0.05482926</td><td>0.9941540</td></tr>\n",
       "\t<tr><th scope=row>3</th><td>105543</td><td>2.269</td><td>0</td><td>0</td><td>0</td><td>0</td><td>0</td><td>0</td><td>Sun</td><td> 0.010</td><td>0.010</td><td>6.215</td><td>3.270112</td><td>0.6477770</td><td>0.05699074</td><td>0.9942200</td></tr>\n",
       "\t<tr><th scope=row>4</th><td>105544</td><td>2.268</td><td>0</td><td>0</td><td>0</td><td>0</td><td>0</td><td>0</td><td>Sun</td><td>-0.001</td><td>0.001</td><td>6.215</td><td>3.303763</td><td>0.6292270</td><td>0.05760593</td><td>0.9941497</td></tr>\n",
       "\t<tr><th scope=row>5</th><td>105545</td><td>2.270</td><td>0</td><td>0</td><td>0</td><td>0</td><td>0</td><td>0</td><td>Sun</td><td> 0.002</td><td>0.002</td><td>6.215</td><td>3.302744</td><td>0.6212951</td><td>0.08263997</td><td>0.9940406</td></tr>\n",
       "\t<tr><th scope=row>6</th><td>105546</td><td>2.259</td><td>0</td><td>0</td><td>0</td><td>0</td><td>0</td><td>0</td><td>Sun</td><td>-0.011</td><td>0.011</td><td>6.215</td><td>3.298258</td><td>0.6269564</td><td>0.08978753</td><td>0.9939864</td></tr>\n",
       "</tbody>\n",
       "</table>\n"
      ],
      "text/latex": [
       "A data.frame: 6 × 16\n",
       "\\begin{tabular}{r|llllllllllllllll}\n",
       "  & X & load & ac & ev & oven & wash & dryer & hourofday & dayofweek & dif & absdif & max & var & entropy & nonlinear & hurst\\\\\n",
       "  & <int> & <dbl> & <int> & <int> & <int> & <int> & <int> & <int> & <chr> & <dbl> & <dbl> & <dbl> & <dbl> & <dbl> & <dbl> & <dbl>\\\\\n",
       "\\hline\n",
       "\t1 & 105541 & 2.245 & 0 & 0 & 0 & 0 & 0 & 0 & Sun &  0.987 & 0.987 & 6.215 & 3.074549 & 0.6788858 & 0.05290291 & 0.9940715\\\\\n",
       "\t2 & 105542 & 2.259 & 0 & 0 & 0 & 0 & 0 & 0 & Sun &  0.014 & 0.014 & 6.215 & 3.172867 & 0.6674503 & 0.05482926 & 0.9941540\\\\\n",
       "\t3 & 105543 & 2.269 & 0 & 0 & 0 & 0 & 0 & 0 & Sun &  0.010 & 0.010 & 6.215 & 3.270112 & 0.6477770 & 0.05699074 & 0.9942200\\\\\n",
       "\t4 & 105544 & 2.268 & 0 & 0 & 0 & 0 & 0 & 0 & Sun & -0.001 & 0.001 & 6.215 & 3.303763 & 0.6292270 & 0.05760593 & 0.9941497\\\\\n",
       "\t5 & 105545 & 2.270 & 0 & 0 & 0 & 0 & 0 & 0 & Sun &  0.002 & 0.002 & 6.215 & 3.302744 & 0.6212951 & 0.08263997 & 0.9940406\\\\\n",
       "\t6 & 105546 & 2.259 & 0 & 0 & 0 & 0 & 0 & 0 & Sun & -0.011 & 0.011 & 6.215 & 3.298258 & 0.6269564 & 0.08978753 & 0.9939864\\\\\n",
       "\\end{tabular}\n"
      ],
      "text/markdown": [
       "\n",
       "A data.frame: 6 × 16\n",
       "\n",
       "| <!--/--> | X &lt;int&gt; | load &lt;dbl&gt; | ac &lt;int&gt; | ev &lt;int&gt; | oven &lt;int&gt; | wash &lt;int&gt; | dryer &lt;int&gt; | hourofday &lt;int&gt; | dayofweek &lt;chr&gt; | dif &lt;dbl&gt; | absdif &lt;dbl&gt; | max &lt;dbl&gt; | var &lt;dbl&gt; | entropy &lt;dbl&gt; | nonlinear &lt;dbl&gt; | hurst &lt;dbl&gt; |\n",
       "|---|---|---|---|---|---|---|---|---|---|---|---|---|---|---|---|---|\n",
       "| 1 | 105541 | 2.245 | 0 | 0 | 0 | 0 | 0 | 0 | Sun |  0.987 | 0.987 | 6.215 | 3.074549 | 0.6788858 | 0.05290291 | 0.9940715 |\n",
       "| 2 | 105542 | 2.259 | 0 | 0 | 0 | 0 | 0 | 0 | Sun |  0.014 | 0.014 | 6.215 | 3.172867 | 0.6674503 | 0.05482926 | 0.9941540 |\n",
       "| 3 | 105543 | 2.269 | 0 | 0 | 0 | 0 | 0 | 0 | Sun |  0.010 | 0.010 | 6.215 | 3.270112 | 0.6477770 | 0.05699074 | 0.9942200 |\n",
       "| 4 | 105544 | 2.268 | 0 | 0 | 0 | 0 | 0 | 0 | Sun | -0.001 | 0.001 | 6.215 | 3.303763 | 0.6292270 | 0.05760593 | 0.9941497 |\n",
       "| 5 | 105545 | 2.270 | 0 | 0 | 0 | 0 | 0 | 0 | Sun |  0.002 | 0.002 | 6.215 | 3.302744 | 0.6212951 | 0.08263997 | 0.9940406 |\n",
       "| 6 | 105546 | 2.259 | 0 | 0 | 0 | 0 | 0 | 0 | Sun | -0.011 | 0.011 | 6.215 | 3.298258 | 0.6269564 | 0.08978753 | 0.9939864 |\n",
       "\n"
      ],
      "text/plain": [
       "  X      load  ac ev oven wash dryer hourofday dayofweek dif    absdif max  \n",
       "1 105541 2.245 0  0  0    0    0     0         Sun        0.987 0.987  6.215\n",
       "2 105542 2.259 0  0  0    0    0     0         Sun        0.014 0.014  6.215\n",
       "3 105543 2.269 0  0  0    0    0     0         Sun        0.010 0.010  6.215\n",
       "4 105544 2.268 0  0  0    0    0     0         Sun       -0.001 0.001  6.215\n",
       "5 105545 2.270 0  0  0    0    0     0         Sun        0.002 0.002  6.215\n",
       "6 105546 2.259 0  0  0    0    0     0         Sun       -0.011 0.011  6.215\n",
       "  var      entropy   nonlinear  hurst    \n",
       "1 3.074549 0.6788858 0.05290291 0.9940715\n",
       "2 3.172867 0.6674503 0.05482926 0.9941540\n",
       "3 3.270112 0.6477770 0.05699074 0.9942200\n",
       "4 3.303763 0.6292270 0.05760593 0.9941497\n",
       "5 3.302744 0.6212951 0.08263997 0.9940406\n",
       "6 3.298258 0.6269564 0.08978753 0.9939864"
      ]
     },
     "metadata": {},
     "output_type": "display_data"
    }
   ],
   "source": [
    "# for setting the index\n",
    "our_train.len = length(our_train$X)\n",
    "our_test.len = length(our_test$X)\n",
    "# view the structure of train dataset\n",
    "head(our_train)"
   ]
  },
  {
   "cell_type": "code",
   "execution_count": 4,
   "metadata": {},
   "outputs": [
    {
     "data": {
      "text/html": [
       "<table>\n",
       "<caption>A data.frame: 6 × 11</caption>\n",
       "<thead>\n",
       "\t<tr><th></th><th scope=col>X</th><th scope=col>load</th><th scope=col>hourofday</th><th scope=col>dayofweek</th><th scope=col>dif</th><th scope=col>absdif</th><th scope=col>max</th><th scope=col>var</th><th scope=col>entropy</th><th scope=col>nonlinear</th><th scope=col>hurst</th></tr>\n",
       "\t<tr><th></th><th scope=col>&lt;int&gt;</th><th scope=col>&lt;dbl&gt;</th><th scope=col>&lt;int&gt;</th><th scope=col>&lt;chr&gt;</th><th scope=col>&lt;dbl&gt;</th><th scope=col>&lt;dbl&gt;</th><th scope=col>&lt;dbl&gt;</th><th scope=col>&lt;dbl&gt;</th><th scope=col>&lt;dbl&gt;</th><th scope=col>&lt;dbl&gt;</th><th scope=col>&lt;dbl&gt;</th></tr>\n",
       "</thead>\n",
       "<tbody>\n",
       "\t<tr><th scope=row>1</th><td>1</td><td>1.869</td><td>0</td><td>Mon</td><td> 0.000</td><td>0.000</td><td>0</td><td>0</td><td>0</td><td>0</td><td>0</td></tr>\n",
       "\t<tr><th scope=row>2</th><td>2</td><td>1.673</td><td>0</td><td>Mon</td><td>-0.196</td><td>0.196</td><td>0</td><td>0</td><td>0</td><td>0</td><td>0</td></tr>\n",
       "\t<tr><th scope=row>3</th><td>3</td><td>1.660</td><td>0</td><td>Mon</td><td>-0.013</td><td>0.013</td><td>0</td><td>0</td><td>0</td><td>0</td><td>0</td></tr>\n",
       "\t<tr><th scope=row>4</th><td>4</td><td>1.772</td><td>0</td><td>Mon</td><td> 0.112</td><td>0.112</td><td>0</td><td>0</td><td>0</td><td>0</td><td>0</td></tr>\n",
       "\t<tr><th scope=row>5</th><td>5</td><td>1.679</td><td>0</td><td>Mon</td><td>-0.093</td><td>0.093</td><td>0</td><td>0</td><td>0</td><td>0</td><td>0</td></tr>\n",
       "\t<tr><th scope=row>6</th><td>6</td><td>1.775</td><td>0</td><td>Mon</td><td> 0.096</td><td>0.096</td><td>0</td><td>0</td><td>0</td><td>0</td><td>0</td></tr>\n",
       "</tbody>\n",
       "</table>\n"
      ],
      "text/latex": [
       "A data.frame: 6 × 11\n",
       "\\begin{tabular}{r|lllllllllll}\n",
       "  & X & load & hourofday & dayofweek & dif & absdif & max & var & entropy & nonlinear & hurst\\\\\n",
       "  & <int> & <dbl> & <int> & <chr> & <dbl> & <dbl> & <dbl> & <dbl> & <dbl> & <dbl> & <dbl>\\\\\n",
       "\\hline\n",
       "\t1 & 1 & 1.869 & 0 & Mon &  0.000 & 0.000 & 0 & 0 & 0 & 0 & 0\\\\\n",
       "\t2 & 2 & 1.673 & 0 & Mon & -0.196 & 0.196 & 0 & 0 & 0 & 0 & 0\\\\\n",
       "\t3 & 3 & 1.660 & 0 & Mon & -0.013 & 0.013 & 0 & 0 & 0 & 0 & 0\\\\\n",
       "\t4 & 4 & 1.772 & 0 & Mon &  0.112 & 0.112 & 0 & 0 & 0 & 0 & 0\\\\\n",
       "\t5 & 5 & 1.679 & 0 & Mon & -0.093 & 0.093 & 0 & 0 & 0 & 0 & 0\\\\\n",
       "\t6 & 6 & 1.775 & 0 & Mon &  0.096 & 0.096 & 0 & 0 & 0 & 0 & 0\\\\\n",
       "\\end{tabular}\n"
      ],
      "text/markdown": [
       "\n",
       "A data.frame: 6 × 11\n",
       "\n",
       "| <!--/--> | X &lt;int&gt; | load &lt;dbl&gt; | hourofday &lt;int&gt; | dayofweek &lt;chr&gt; | dif &lt;dbl&gt; | absdif &lt;dbl&gt; | max &lt;dbl&gt; | var &lt;dbl&gt; | entropy &lt;dbl&gt; | nonlinear &lt;dbl&gt; | hurst &lt;dbl&gt; |\n",
       "|---|---|---|---|---|---|---|---|---|---|---|---|\n",
       "| 1 | 1 | 1.869 | 0 | Mon |  0.000 | 0.000 | 0 | 0 | 0 | 0 | 0 |\n",
       "| 2 | 2 | 1.673 | 0 | Mon | -0.196 | 0.196 | 0 | 0 | 0 | 0 | 0 |\n",
       "| 3 | 3 | 1.660 | 0 | Mon | -0.013 | 0.013 | 0 | 0 | 0 | 0 | 0 |\n",
       "| 4 | 4 | 1.772 | 0 | Mon |  0.112 | 0.112 | 0 | 0 | 0 | 0 | 0 |\n",
       "| 5 | 5 | 1.679 | 0 | Mon | -0.093 | 0.093 | 0 | 0 | 0 | 0 | 0 |\n",
       "| 6 | 6 | 1.775 | 0 | Mon |  0.096 | 0.096 | 0 | 0 | 0 | 0 | 0 |\n",
       "\n"
      ],
      "text/plain": [
       "  X load  hourofday dayofweek dif    absdif max var entropy nonlinear hurst\n",
       "1 1 1.869 0         Mon        0.000 0.000  0   0   0       0         0    \n",
       "2 2 1.673 0         Mon       -0.196 0.196  0   0   0       0         0    \n",
       "3 3 1.660 0         Mon       -0.013 0.013  0   0   0       0         0    \n",
       "4 4 1.772 0         Mon        0.112 0.112  0   0   0       0         0    \n",
       "5 5 1.679 0         Mon       -0.093 0.093  0   0   0       0         0    \n",
       "6 6 1.775 0         Mon        0.096 0.096  0   0   0       0         0    "
      ]
     },
     "metadata": {},
     "output_type": "display_data"
    }
   ],
   "source": [
    "# view the structure of test dataset\n",
    "head(our_test)"
   ]
  },
  {
   "cell_type": "markdown",
   "metadata": {},
   "source": [
    "From the dataset,dayofweek is a column of categorical data, and in order to convert them into integers for classification, we need to convert them into factors first. X is a column of continuous index that goes from 1 to 523,260, and with a bit of calculation, we can notice that X is actually the timestamp of load monitoring in minutes."
   ]
  },
  {
   "cell_type": "code",
   "execution_count": 5,
   "metadata": {},
   "outputs": [],
   "source": [
    "# convert data type into factor for later converting into integer\n",
    "our_train$dayofweek = as.factor(our_train$dayofweek)\n",
    "our_test$dayofweek = as.factor(our_test$dayofweek)"
   ]
  },
  {
   "cell_type": "code",
   "execution_count": 6,
   "metadata": {},
   "outputs": [],
   "source": [
    "# make data in day of week column as integer for classification\n",
    "our_train$dayofweek = as.integer(our_train$dayofweek)\n",
    "our_test$dayofweek = as.integer(our_test$dayofweek)"
   ]
  },
  {
   "cell_type": "code",
   "execution_count": 7,
   "metadata": {},
   "outputs": [],
   "source": [
    "#set the index\n",
    "index = sample(1:our_train.len, our_train.len*0.8, replace = FALSE)"
   ]
  },
  {
   "cell_type": "code",
   "execution_count": 8,
   "metadata": {},
   "outputs": [
    {
     "data": {
      "text/html": [
       "<table>\n",
       "<caption>A data.frame: 417720 × 16</caption>\n",
       "<thead>\n",
       "\t<tr><th scope=col>X</th><th scope=col>load</th><th scope=col>ac</th><th scope=col>ev</th><th scope=col>oven</th><th scope=col>wash</th><th scope=col>dryer</th><th scope=col>hourofday</th><th scope=col>dayofweek</th><th scope=col>dif</th><th scope=col>absdif</th><th scope=col>max</th><th scope=col>var</th><th scope=col>entropy</th><th scope=col>nonlinear</th><th scope=col>hurst</th></tr>\n",
       "\t<tr><th scope=col>&lt;int&gt;</th><th scope=col>&lt;dbl&gt;</th><th scope=col>&lt;int&gt;</th><th scope=col>&lt;int&gt;</th><th scope=col>&lt;int&gt;</th><th scope=col>&lt;int&gt;</th><th scope=col>&lt;int&gt;</th><th scope=col>&lt;int&gt;</th><th scope=col>&lt;int&gt;</th><th scope=col>&lt;dbl&gt;</th><th scope=col>&lt;dbl&gt;</th><th scope=col>&lt;dbl&gt;</th><th scope=col>&lt;dbl&gt;</th><th scope=col>&lt;dbl&gt;</th><th scope=col>&lt;dbl&gt;</th><th scope=col>&lt;dbl&gt;</th></tr>\n",
       "</thead>\n",
       "<tbody>\n",
       "\t<tr><td>105541</td><td>2.245</td><td>0</td><td>0</td><td>0</td><td>0</td><td>0</td><td>0</td><td>4</td><td> 0.987</td><td>0.987</td><td>6.215</td><td>3.074549</td><td>0.6788858</td><td>0.05290291</td><td>0.9940715</td></tr>\n",
       "\t<tr><td>105542</td><td>2.259</td><td>0</td><td>0</td><td>0</td><td>0</td><td>0</td><td>0</td><td>4</td><td> 0.014</td><td>0.014</td><td>6.215</td><td>3.172867</td><td>0.6674503</td><td>0.05482926</td><td>0.9941540</td></tr>\n",
       "\t<tr><td>105543</td><td>2.269</td><td>0</td><td>0</td><td>0</td><td>0</td><td>0</td><td>0</td><td>4</td><td> 0.010</td><td>0.010</td><td>6.215</td><td>3.270112</td><td>0.6477770</td><td>0.05699074</td><td>0.9942200</td></tr>\n",
       "\t<tr><td>105544</td><td>2.268</td><td>0</td><td>0</td><td>0</td><td>0</td><td>0</td><td>0</td><td>4</td><td>-0.001</td><td>0.001</td><td>6.215</td><td>3.303763</td><td>0.6292270</td><td>0.05760593</td><td>0.9941497</td></tr>\n",
       "\t<tr><td>105545</td><td>2.270</td><td>0</td><td>0</td><td>0</td><td>0</td><td>0</td><td>0</td><td>4</td><td> 0.002</td><td>0.002</td><td>6.215</td><td>3.302744</td><td>0.6212951</td><td>0.08263997</td><td>0.9940406</td></tr>\n",
       "\t<tr><td>105546</td><td>2.259</td><td>0</td><td>0</td><td>0</td><td>0</td><td>0</td><td>0</td><td>4</td><td>-0.011</td><td>0.011</td><td>6.215</td><td>3.298258</td><td>0.6269564</td><td>0.08978753</td><td>0.9939864</td></tr>\n",
       "\t<tr><td>105547</td><td>2.250</td><td>0</td><td>0</td><td>0</td><td>0</td><td>0</td><td>0</td><td>4</td><td>-0.009</td><td>0.009</td><td>6.215</td><td>3.289135</td><td>0.6401214</td><td>0.08527583</td><td>0.9939265</td></tr>\n",
       "\t<tr><td>105548</td><td>2.251</td><td>0</td><td>0</td><td>0</td><td>0</td><td>0</td><td>0</td><td>4</td><td> 0.001</td><td>0.001</td><td>6.215</td><td>3.238982</td><td>0.6519165</td><td>0.35420293</td><td>0.9927028</td></tr>\n",
       "\t<tr><td>105549</td><td>2.264</td><td>0</td><td>0</td><td>0</td><td>0</td><td>0</td><td>0</td><td>4</td><td> 0.013</td><td>0.013</td><td>6.215</td><td>3.203236</td><td>0.6556001</td><td>0.37252865</td><td>0.9924744</td></tr>\n",
       "\t<tr><td>105550</td><td>2.277</td><td>0</td><td>0</td><td>0</td><td>0</td><td>0</td><td>0</td><td>4</td><td> 0.013</td><td>0.013</td><td>6.215</td><td>3.196127</td><td>0.6500062</td><td>0.36657811</td><td>0.9923085</td></tr>\n",
       "\t<tr><td>105551</td><td>2.307</td><td>0</td><td>0</td><td>0</td><td>0</td><td>0</td><td>0</td><td>4</td><td> 0.030</td><td>0.030</td><td>6.215</td><td>3.192309</td><td>0.6384839</td><td>0.48154658</td><td>0.9923259</td></tr>\n",
       "\t<tr><td>105552</td><td>2.384</td><td>0</td><td>0</td><td>0</td><td>0</td><td>0</td><td>0</td><td>4</td><td> 0.077</td><td>0.077</td><td>6.215</td><td>3.170742</td><td>0.6277878</td><td>0.62884794</td><td>0.9922882</td></tr>\n",
       "\t<tr><td>105553</td><td>2.382</td><td>0</td><td>0</td><td>0</td><td>0</td><td>0</td><td>0</td><td>4</td><td>-0.002</td><td>0.002</td><td>6.215</td><td>3.136232</td><td>0.6253605</td><td>0.80344973</td><td>0.9921764</td></tr>\n",
       "\t<tr><td>105554</td><td>2.441</td><td>0</td><td>0</td><td>0</td><td>0</td><td>0</td><td>0</td><td>4</td><td> 0.059</td><td>0.059</td><td>6.215</td><td>3.093735</td><td>0.6333037</td><td>0.41483179</td><td>0.9926951</td></tr>\n",
       "\t<tr><td>105555</td><td>2.449</td><td>0</td><td>0</td><td>0</td><td>0</td><td>0</td><td>0</td><td>4</td><td> 0.008</td><td>0.008</td><td>6.215</td><td>3.119437</td><td>0.6459650</td><td>0.20307140</td><td>0.9932828</td></tr>\n",
       "\t<tr><td>105556</td><td>2.440</td><td>0</td><td>0</td><td>0</td><td>0</td><td>0</td><td>0</td><td>4</td><td>-0.009</td><td>0.009</td><td>6.215</td><td>3.159763</td><td>0.6551784</td><td>0.26465247</td><td>0.9934638</td></tr>\n",
       "\t<tr><td>105557</td><td>2.444</td><td>0</td><td>0</td><td>0</td><td>0</td><td>0</td><td>0</td><td>4</td><td> 0.004</td><td>0.004</td><td>6.215</td><td>3.188556</td><td>0.6559956</td><td>0.31623318</td><td>0.9935854</td></tr>\n",
       "\t<tr><td>105558</td><td>2.424</td><td>0</td><td>0</td><td>0</td><td>0</td><td>0</td><td>0</td><td>4</td><td>-0.020</td><td>0.020</td><td>6.215</td><td>3.193862</td><td>0.6487119</td><td>0.30789443</td><td>0.9936237</td></tr>\n",
       "\t<tr><td>105559</td><td>2.425</td><td>0</td><td>0</td><td>0</td><td>0</td><td>0</td><td>0</td><td>4</td><td> 0.001</td><td>0.001</td><td>6.215</td><td>3.199371</td><td>0.6384461</td><td>0.31471997</td><td>0.9936533</td></tr>\n",
       "\t<tr><td>105560</td><td>2.432</td><td>0</td><td>0</td><td>0</td><td>0</td><td>0</td><td>0</td><td>4</td><td> 0.007</td><td>0.007</td><td>6.215</td><td>3.205613</td><td>0.6325460</td><td>0.31136964</td><td>0.9936802</td></tr>\n",
       "\t<tr><td>105561</td><td>2.431</td><td>0</td><td>0</td><td>0</td><td>0</td><td>0</td><td>0</td><td>4</td><td>-0.001</td><td>0.001</td><td>6.215</td><td>3.207214</td><td>0.6360027</td><td>0.30386344</td><td>0.9936957</td></tr>\n",
       "\t<tr><td>105562</td><td>2.418</td><td>0</td><td>0</td><td>0</td><td>0</td><td>0</td><td>0</td><td>4</td><td>-0.013</td><td>0.013</td><td>6.215</td><td>3.206899</td><td>0.6463082</td><td>0.30483758</td><td>0.9937039</td></tr>\n",
       "\t<tr><td>105563</td><td>2.420</td><td>0</td><td>0</td><td>0</td><td>0</td><td>0</td><td>0</td><td>4</td><td> 0.002</td><td>0.002</td><td>6.215</td><td>3.207899</td><td>0.6554931</td><td>0.30560960</td><td>0.9937096</td></tr>\n",
       "\t<tr><td>105564</td><td>3.361</td><td>1</td><td>0</td><td>0</td><td>0</td><td>0</td><td>0</td><td>4</td><td> 0.941</td><td>0.941</td><td>6.215</td><td>3.208320</td><td>0.6568986</td><td>0.30550141</td><td>0.9937108</td></tr>\n",
       "\t<tr><td>105565</td><td>6.167</td><td>1</td><td>0</td><td>0</td><td>0</td><td>0</td><td>0</td><td>4</td><td> 2.806</td><td>2.806</td><td>6.215</td><td>3.209429</td><td>0.6483738</td><td>0.30683476</td><td>0.9937086</td></tr>\n",
       "\t<tr><td>105566</td><td>6.204</td><td>1</td><td>0</td><td>0</td><td>0</td><td>0</td><td>0</td><td>4</td><td> 0.037</td><td>0.037</td><td>6.215</td><td>3.210533</td><td>0.6323101</td><td>0.30647663</td><td>0.9937020</td></tr>\n",
       "\t<tr><td>105567</td><td>6.215</td><td>1</td><td>0</td><td>0</td><td>0</td><td>0</td><td>0</td><td>4</td><td> 0.011</td><td>0.011</td><td>6.215</td><td>3.211904</td><td>0.6157109</td><td>0.30295313</td><td>0.9936889</td></tr>\n",
       "\t<tr><td>105568</td><td>6.207</td><td>1</td><td>0</td><td>0</td><td>0</td><td>0</td><td>0</td><td>4</td><td>-0.008</td><td>0.008</td><td>6.215</td><td>3.210240</td><td>0.6082089</td><td>0.30235609</td><td>0.9936660</td></tr>\n",
       "\t<tr><td>105569</td><td>6.199</td><td>1</td><td>0</td><td>0</td><td>0</td><td>0</td><td>0</td><td>4</td><td>-0.008</td><td>0.008</td><td>6.215</td><td>3.208092</td><td>0.6153455</td><td>0.30160249</td><td>0.9936364</td></tr>\n",
       "\t<tr><td>105570</td><td>6.178</td><td>1</td><td>0</td><td>0</td><td>0</td><td>0</td><td>0</td><td>4</td><td>-0.021</td><td>0.021</td><td>6.215</td><td>3.206152</td><td>0.6315404</td><td>0.32994053</td><td>0.9936407</td></tr>\n",
       "\t<tr><td>...</td><td>...</td><td>...</td><td>...</td><td>...</td><td>...</td><td>...</td><td>...</td><td>...</td><td>...</td><td>...</td><td>...</td><td>...</td><td>...</td><td>...</td><td>...</td></tr>\n",
       "\t<tr><td>523231</td><td>1.396</td><td>0</td><td>0</td><td>0</td><td>0</td><td>0</td><td>21</td><td>6</td><td>-0.002</td><td>0.002</td><td>0</td><td>0</td><td>0</td><td>0</td><td>0</td></tr>\n",
       "\t<tr><td>523232</td><td>1.388</td><td>0</td><td>0</td><td>0</td><td>0</td><td>0</td><td>21</td><td>6</td><td>-0.008</td><td>0.008</td><td>0</td><td>0</td><td>0</td><td>0</td><td>0</td></tr>\n",
       "\t<tr><td>523233</td><td>1.397</td><td>0</td><td>0</td><td>0</td><td>0</td><td>0</td><td>21</td><td>6</td><td> 0.009</td><td>0.009</td><td>0</td><td>0</td><td>0</td><td>0</td><td>0</td></tr>\n",
       "\t<tr><td>523234</td><td>1.397</td><td>0</td><td>0</td><td>0</td><td>0</td><td>0</td><td>21</td><td>6</td><td> 0.000</td><td>0.000</td><td>0</td><td>0</td><td>0</td><td>0</td><td>0</td></tr>\n",
       "\t<tr><td>523235</td><td>1.395</td><td>0</td><td>0</td><td>0</td><td>0</td><td>0</td><td>21</td><td>6</td><td>-0.002</td><td>0.002</td><td>0</td><td>0</td><td>0</td><td>0</td><td>0</td></tr>\n",
       "\t<tr><td>523236</td><td>1.392</td><td>0</td><td>0</td><td>0</td><td>0</td><td>0</td><td>21</td><td>6</td><td>-0.003</td><td>0.003</td><td>0</td><td>0</td><td>0</td><td>0</td><td>0</td></tr>\n",
       "\t<tr><td>523237</td><td>1.386</td><td>0</td><td>0</td><td>0</td><td>0</td><td>0</td><td>21</td><td>6</td><td>-0.006</td><td>0.006</td><td>0</td><td>0</td><td>0</td><td>0</td><td>0</td></tr>\n",
       "\t<tr><td>523238</td><td>1.385</td><td>0</td><td>0</td><td>0</td><td>0</td><td>0</td><td>21</td><td>6</td><td>-0.001</td><td>0.001</td><td>0</td><td>0</td><td>0</td><td>0</td><td>0</td></tr>\n",
       "\t<tr><td>523239</td><td>1.383</td><td>0</td><td>0</td><td>0</td><td>0</td><td>0</td><td>21</td><td>6</td><td>-0.002</td><td>0.002</td><td>0</td><td>0</td><td>0</td><td>0</td><td>0</td></tr>\n",
       "\t<tr><td>523240</td><td>1.384</td><td>0</td><td>0</td><td>0</td><td>0</td><td>0</td><td>21</td><td>6</td><td> 0.001</td><td>0.001</td><td>0</td><td>0</td><td>0</td><td>0</td><td>0</td></tr>\n",
       "\t<tr><td>523241</td><td>1.382</td><td>0</td><td>0</td><td>0</td><td>0</td><td>0</td><td>21</td><td>6</td><td>-0.002</td><td>0.002</td><td>0</td><td>0</td><td>0</td><td>0</td><td>0</td></tr>\n",
       "\t<tr><td>523242</td><td>1.377</td><td>0</td><td>0</td><td>0</td><td>0</td><td>0</td><td>21</td><td>6</td><td>-0.005</td><td>0.005</td><td>0</td><td>0</td><td>0</td><td>0</td><td>0</td></tr>\n",
       "\t<tr><td>523243</td><td>1.379</td><td>0</td><td>0</td><td>0</td><td>0</td><td>0</td><td>21</td><td>6</td><td> 0.002</td><td>0.002</td><td>0</td><td>0</td><td>0</td><td>0</td><td>0</td></tr>\n",
       "\t<tr><td>523244</td><td>1.417</td><td>0</td><td>0</td><td>0</td><td>0</td><td>0</td><td>21</td><td>6</td><td> 0.038</td><td>0.038</td><td>0</td><td>0</td><td>0</td><td>0</td><td>0</td></tr>\n",
       "\t<tr><td>523245</td><td>1.514</td><td>0</td><td>0</td><td>0</td><td>0</td><td>0</td><td>21</td><td>6</td><td> 0.097</td><td>0.097</td><td>0</td><td>0</td><td>0</td><td>0</td><td>0</td></tr>\n",
       "\t<tr><td>523246</td><td>1.493</td><td>0</td><td>0</td><td>0</td><td>0</td><td>0</td><td>21</td><td>6</td><td>-0.021</td><td>0.021</td><td>0</td><td>0</td><td>0</td><td>0</td><td>0</td></tr>\n",
       "\t<tr><td>523247</td><td>1.480</td><td>0</td><td>0</td><td>0</td><td>0</td><td>0</td><td>21</td><td>6</td><td>-0.013</td><td>0.013</td><td>0</td><td>0</td><td>0</td><td>0</td><td>0</td></tr>\n",
       "\t<tr><td>523248</td><td>1.382</td><td>0</td><td>0</td><td>0</td><td>0</td><td>0</td><td>21</td><td>6</td><td>-0.098</td><td>0.098</td><td>0</td><td>0</td><td>0</td><td>0</td><td>0</td></tr>\n",
       "\t<tr><td>523249</td><td>1.207</td><td>0</td><td>0</td><td>0</td><td>0</td><td>0</td><td>21</td><td>6</td><td>-0.175</td><td>0.175</td><td>0</td><td>0</td><td>0</td><td>0</td><td>0</td></tr>\n",
       "\t<tr><td>523250</td><td>1.205</td><td>0</td><td>0</td><td>0</td><td>0</td><td>0</td><td>21</td><td>6</td><td>-0.002</td><td>0.002</td><td>0</td><td>0</td><td>0</td><td>0</td><td>0</td></tr>\n",
       "\t<tr><td>523251</td><td>1.201</td><td>0</td><td>0</td><td>0</td><td>0</td><td>0</td><td>21</td><td>6</td><td>-0.004</td><td>0.004</td><td>0</td><td>0</td><td>0</td><td>0</td><td>0</td></tr>\n",
       "\t<tr><td>523252</td><td>1.048</td><td>0</td><td>0</td><td>0</td><td>0</td><td>0</td><td>21</td><td>6</td><td>-0.153</td><td>0.153</td><td>0</td><td>0</td><td>0</td><td>0</td><td>0</td></tr>\n",
       "\t<tr><td>523253</td><td>1.126</td><td>0</td><td>0</td><td>0</td><td>0</td><td>0</td><td>21</td><td>6</td><td> 0.078</td><td>0.078</td><td>0</td><td>0</td><td>0</td><td>0</td><td>0</td></tr>\n",
       "\t<tr><td>523254</td><td>2.554</td><td>0</td><td>0</td><td>0</td><td>0</td><td>0</td><td>21</td><td>6</td><td> 1.428</td><td>1.428</td><td>0</td><td>0</td><td>0</td><td>0</td><td>0</td></tr>\n",
       "\t<tr><td>523255</td><td>2.546</td><td>0</td><td>0</td><td>0</td><td>0</td><td>0</td><td>21</td><td>6</td><td>-0.008</td><td>0.008</td><td>0</td><td>0</td><td>0</td><td>0</td><td>0</td></tr>\n",
       "\t<tr><td>523256</td><td>2.543</td><td>0</td><td>0</td><td>0</td><td>0</td><td>0</td><td>21</td><td>6</td><td>-0.003</td><td>0.003</td><td>0</td><td>0</td><td>0</td><td>0</td><td>0</td></tr>\n",
       "\t<tr><td>523257</td><td>2.417</td><td>0</td><td>0</td><td>0</td><td>0</td><td>0</td><td>21</td><td>6</td><td>-0.126</td><td>0.126</td><td>0</td><td>0</td><td>0</td><td>0</td><td>0</td></tr>\n",
       "\t<tr><td>523258</td><td>0.999</td><td>0</td><td>0</td><td>0</td><td>0</td><td>0</td><td>21</td><td>6</td><td>-1.418</td><td>1.418</td><td>0</td><td>0</td><td>0</td><td>0</td><td>0</td></tr>\n",
       "\t<tr><td>523259</td><td>0.966</td><td>0</td><td>0</td><td>0</td><td>0</td><td>0</td><td>21</td><td>6</td><td>-0.033</td><td>0.033</td><td>0</td><td>0</td><td>0</td><td>0</td><td>0</td></tr>\n",
       "\t<tr><td>523260</td><td>0.964</td><td>0</td><td>0</td><td>0</td><td>0</td><td>0</td><td>21</td><td>6</td><td>-0.002</td><td>0.002</td><td>0</td><td>0</td><td>0</td><td>0</td><td>0</td></tr>\n",
       "</tbody>\n",
       "</table>\n"
      ],
      "text/latex": [
       "A data.frame: 417720 × 16\n",
       "\\begin{tabular}{llllllllllllllll}\n",
       " X & load & ac & ev & oven & wash & dryer & hourofday & dayofweek & dif & absdif & max & var & entropy & nonlinear & hurst\\\\\n",
       " <int> & <dbl> & <int> & <int> & <int> & <int> & <int> & <int> & <int> & <dbl> & <dbl> & <dbl> & <dbl> & <dbl> & <dbl> & <dbl>\\\\\n",
       "\\hline\n",
       "\t 105541 & 2.245 & 0 & 0 & 0 & 0 & 0 & 0 & 4 &  0.987 & 0.987 & 6.215 & 3.074549 & 0.6788858 & 0.05290291 & 0.9940715\\\\\n",
       "\t 105542 & 2.259 & 0 & 0 & 0 & 0 & 0 & 0 & 4 &  0.014 & 0.014 & 6.215 & 3.172867 & 0.6674503 & 0.05482926 & 0.9941540\\\\\n",
       "\t 105543 & 2.269 & 0 & 0 & 0 & 0 & 0 & 0 & 4 &  0.010 & 0.010 & 6.215 & 3.270112 & 0.6477770 & 0.05699074 & 0.9942200\\\\\n",
       "\t 105544 & 2.268 & 0 & 0 & 0 & 0 & 0 & 0 & 4 & -0.001 & 0.001 & 6.215 & 3.303763 & 0.6292270 & 0.05760593 & 0.9941497\\\\\n",
       "\t 105545 & 2.270 & 0 & 0 & 0 & 0 & 0 & 0 & 4 &  0.002 & 0.002 & 6.215 & 3.302744 & 0.6212951 & 0.08263997 & 0.9940406\\\\\n",
       "\t 105546 & 2.259 & 0 & 0 & 0 & 0 & 0 & 0 & 4 & -0.011 & 0.011 & 6.215 & 3.298258 & 0.6269564 & 0.08978753 & 0.9939864\\\\\n",
       "\t 105547 & 2.250 & 0 & 0 & 0 & 0 & 0 & 0 & 4 & -0.009 & 0.009 & 6.215 & 3.289135 & 0.6401214 & 0.08527583 & 0.9939265\\\\\n",
       "\t 105548 & 2.251 & 0 & 0 & 0 & 0 & 0 & 0 & 4 &  0.001 & 0.001 & 6.215 & 3.238982 & 0.6519165 & 0.35420293 & 0.9927028\\\\\n",
       "\t 105549 & 2.264 & 0 & 0 & 0 & 0 & 0 & 0 & 4 &  0.013 & 0.013 & 6.215 & 3.203236 & 0.6556001 & 0.37252865 & 0.9924744\\\\\n",
       "\t 105550 & 2.277 & 0 & 0 & 0 & 0 & 0 & 0 & 4 &  0.013 & 0.013 & 6.215 & 3.196127 & 0.6500062 & 0.36657811 & 0.9923085\\\\\n",
       "\t 105551 & 2.307 & 0 & 0 & 0 & 0 & 0 & 0 & 4 &  0.030 & 0.030 & 6.215 & 3.192309 & 0.6384839 & 0.48154658 & 0.9923259\\\\\n",
       "\t 105552 & 2.384 & 0 & 0 & 0 & 0 & 0 & 0 & 4 &  0.077 & 0.077 & 6.215 & 3.170742 & 0.6277878 & 0.62884794 & 0.9922882\\\\\n",
       "\t 105553 & 2.382 & 0 & 0 & 0 & 0 & 0 & 0 & 4 & -0.002 & 0.002 & 6.215 & 3.136232 & 0.6253605 & 0.80344973 & 0.9921764\\\\\n",
       "\t 105554 & 2.441 & 0 & 0 & 0 & 0 & 0 & 0 & 4 &  0.059 & 0.059 & 6.215 & 3.093735 & 0.6333037 & 0.41483179 & 0.9926951\\\\\n",
       "\t 105555 & 2.449 & 0 & 0 & 0 & 0 & 0 & 0 & 4 &  0.008 & 0.008 & 6.215 & 3.119437 & 0.6459650 & 0.20307140 & 0.9932828\\\\\n",
       "\t 105556 & 2.440 & 0 & 0 & 0 & 0 & 0 & 0 & 4 & -0.009 & 0.009 & 6.215 & 3.159763 & 0.6551784 & 0.26465247 & 0.9934638\\\\\n",
       "\t 105557 & 2.444 & 0 & 0 & 0 & 0 & 0 & 0 & 4 &  0.004 & 0.004 & 6.215 & 3.188556 & 0.6559956 & 0.31623318 & 0.9935854\\\\\n",
       "\t 105558 & 2.424 & 0 & 0 & 0 & 0 & 0 & 0 & 4 & -0.020 & 0.020 & 6.215 & 3.193862 & 0.6487119 & 0.30789443 & 0.9936237\\\\\n",
       "\t 105559 & 2.425 & 0 & 0 & 0 & 0 & 0 & 0 & 4 &  0.001 & 0.001 & 6.215 & 3.199371 & 0.6384461 & 0.31471997 & 0.9936533\\\\\n",
       "\t 105560 & 2.432 & 0 & 0 & 0 & 0 & 0 & 0 & 4 &  0.007 & 0.007 & 6.215 & 3.205613 & 0.6325460 & 0.31136964 & 0.9936802\\\\\n",
       "\t 105561 & 2.431 & 0 & 0 & 0 & 0 & 0 & 0 & 4 & -0.001 & 0.001 & 6.215 & 3.207214 & 0.6360027 & 0.30386344 & 0.9936957\\\\\n",
       "\t 105562 & 2.418 & 0 & 0 & 0 & 0 & 0 & 0 & 4 & -0.013 & 0.013 & 6.215 & 3.206899 & 0.6463082 & 0.30483758 & 0.9937039\\\\\n",
       "\t 105563 & 2.420 & 0 & 0 & 0 & 0 & 0 & 0 & 4 &  0.002 & 0.002 & 6.215 & 3.207899 & 0.6554931 & 0.30560960 & 0.9937096\\\\\n",
       "\t 105564 & 3.361 & 1 & 0 & 0 & 0 & 0 & 0 & 4 &  0.941 & 0.941 & 6.215 & 3.208320 & 0.6568986 & 0.30550141 & 0.9937108\\\\\n",
       "\t 105565 & 6.167 & 1 & 0 & 0 & 0 & 0 & 0 & 4 &  2.806 & 2.806 & 6.215 & 3.209429 & 0.6483738 & 0.30683476 & 0.9937086\\\\\n",
       "\t 105566 & 6.204 & 1 & 0 & 0 & 0 & 0 & 0 & 4 &  0.037 & 0.037 & 6.215 & 3.210533 & 0.6323101 & 0.30647663 & 0.9937020\\\\\n",
       "\t 105567 & 6.215 & 1 & 0 & 0 & 0 & 0 & 0 & 4 &  0.011 & 0.011 & 6.215 & 3.211904 & 0.6157109 & 0.30295313 & 0.9936889\\\\\n",
       "\t 105568 & 6.207 & 1 & 0 & 0 & 0 & 0 & 0 & 4 & -0.008 & 0.008 & 6.215 & 3.210240 & 0.6082089 & 0.30235609 & 0.9936660\\\\\n",
       "\t 105569 & 6.199 & 1 & 0 & 0 & 0 & 0 & 0 & 4 & -0.008 & 0.008 & 6.215 & 3.208092 & 0.6153455 & 0.30160249 & 0.9936364\\\\\n",
       "\t 105570 & 6.178 & 1 & 0 & 0 & 0 & 0 & 0 & 4 & -0.021 & 0.021 & 6.215 & 3.206152 & 0.6315404 & 0.32994053 & 0.9936407\\\\\n",
       "\t ... & ... & ... & ... & ... & ... & ... & ... & ... & ... & ... & ... & ... & ... & ... & ...\\\\\n",
       "\t 523231 & 1.396 & 0 & 0 & 0 & 0 & 0 & 21 & 6 & -0.002 & 0.002 & 0 & 0 & 0 & 0 & 0\\\\\n",
       "\t 523232 & 1.388 & 0 & 0 & 0 & 0 & 0 & 21 & 6 & -0.008 & 0.008 & 0 & 0 & 0 & 0 & 0\\\\\n",
       "\t 523233 & 1.397 & 0 & 0 & 0 & 0 & 0 & 21 & 6 &  0.009 & 0.009 & 0 & 0 & 0 & 0 & 0\\\\\n",
       "\t 523234 & 1.397 & 0 & 0 & 0 & 0 & 0 & 21 & 6 &  0.000 & 0.000 & 0 & 0 & 0 & 0 & 0\\\\\n",
       "\t 523235 & 1.395 & 0 & 0 & 0 & 0 & 0 & 21 & 6 & -0.002 & 0.002 & 0 & 0 & 0 & 0 & 0\\\\\n",
       "\t 523236 & 1.392 & 0 & 0 & 0 & 0 & 0 & 21 & 6 & -0.003 & 0.003 & 0 & 0 & 0 & 0 & 0\\\\\n",
       "\t 523237 & 1.386 & 0 & 0 & 0 & 0 & 0 & 21 & 6 & -0.006 & 0.006 & 0 & 0 & 0 & 0 & 0\\\\\n",
       "\t 523238 & 1.385 & 0 & 0 & 0 & 0 & 0 & 21 & 6 & -0.001 & 0.001 & 0 & 0 & 0 & 0 & 0\\\\\n",
       "\t 523239 & 1.383 & 0 & 0 & 0 & 0 & 0 & 21 & 6 & -0.002 & 0.002 & 0 & 0 & 0 & 0 & 0\\\\\n",
       "\t 523240 & 1.384 & 0 & 0 & 0 & 0 & 0 & 21 & 6 &  0.001 & 0.001 & 0 & 0 & 0 & 0 & 0\\\\\n",
       "\t 523241 & 1.382 & 0 & 0 & 0 & 0 & 0 & 21 & 6 & -0.002 & 0.002 & 0 & 0 & 0 & 0 & 0\\\\\n",
       "\t 523242 & 1.377 & 0 & 0 & 0 & 0 & 0 & 21 & 6 & -0.005 & 0.005 & 0 & 0 & 0 & 0 & 0\\\\\n",
       "\t 523243 & 1.379 & 0 & 0 & 0 & 0 & 0 & 21 & 6 &  0.002 & 0.002 & 0 & 0 & 0 & 0 & 0\\\\\n",
       "\t 523244 & 1.417 & 0 & 0 & 0 & 0 & 0 & 21 & 6 &  0.038 & 0.038 & 0 & 0 & 0 & 0 & 0\\\\\n",
       "\t 523245 & 1.514 & 0 & 0 & 0 & 0 & 0 & 21 & 6 &  0.097 & 0.097 & 0 & 0 & 0 & 0 & 0\\\\\n",
       "\t 523246 & 1.493 & 0 & 0 & 0 & 0 & 0 & 21 & 6 & -0.021 & 0.021 & 0 & 0 & 0 & 0 & 0\\\\\n",
       "\t 523247 & 1.480 & 0 & 0 & 0 & 0 & 0 & 21 & 6 & -0.013 & 0.013 & 0 & 0 & 0 & 0 & 0\\\\\n",
       "\t 523248 & 1.382 & 0 & 0 & 0 & 0 & 0 & 21 & 6 & -0.098 & 0.098 & 0 & 0 & 0 & 0 & 0\\\\\n",
       "\t 523249 & 1.207 & 0 & 0 & 0 & 0 & 0 & 21 & 6 & -0.175 & 0.175 & 0 & 0 & 0 & 0 & 0\\\\\n",
       "\t 523250 & 1.205 & 0 & 0 & 0 & 0 & 0 & 21 & 6 & -0.002 & 0.002 & 0 & 0 & 0 & 0 & 0\\\\\n",
       "\t 523251 & 1.201 & 0 & 0 & 0 & 0 & 0 & 21 & 6 & -0.004 & 0.004 & 0 & 0 & 0 & 0 & 0\\\\\n",
       "\t 523252 & 1.048 & 0 & 0 & 0 & 0 & 0 & 21 & 6 & -0.153 & 0.153 & 0 & 0 & 0 & 0 & 0\\\\\n",
       "\t 523253 & 1.126 & 0 & 0 & 0 & 0 & 0 & 21 & 6 &  0.078 & 0.078 & 0 & 0 & 0 & 0 & 0\\\\\n",
       "\t 523254 & 2.554 & 0 & 0 & 0 & 0 & 0 & 21 & 6 &  1.428 & 1.428 & 0 & 0 & 0 & 0 & 0\\\\\n",
       "\t 523255 & 2.546 & 0 & 0 & 0 & 0 & 0 & 21 & 6 & -0.008 & 0.008 & 0 & 0 & 0 & 0 & 0\\\\\n",
       "\t 523256 & 2.543 & 0 & 0 & 0 & 0 & 0 & 21 & 6 & -0.003 & 0.003 & 0 & 0 & 0 & 0 & 0\\\\\n",
       "\t 523257 & 2.417 & 0 & 0 & 0 & 0 & 0 & 21 & 6 & -0.126 & 0.126 & 0 & 0 & 0 & 0 & 0\\\\\n",
       "\t 523258 & 0.999 & 0 & 0 & 0 & 0 & 0 & 21 & 6 & -1.418 & 1.418 & 0 & 0 & 0 & 0 & 0\\\\\n",
       "\t 523259 & 0.966 & 0 & 0 & 0 & 0 & 0 & 21 & 6 & -0.033 & 0.033 & 0 & 0 & 0 & 0 & 0\\\\\n",
       "\t 523260 & 0.964 & 0 & 0 & 0 & 0 & 0 & 21 & 6 & -0.002 & 0.002 & 0 & 0 & 0 & 0 & 0\\\\\n",
       "\\end{tabular}\n"
      ],
      "text/markdown": [
       "\n",
       "A data.frame: 417720 × 16\n",
       "\n",
       "| X &lt;int&gt; | load &lt;dbl&gt; | ac &lt;int&gt; | ev &lt;int&gt; | oven &lt;int&gt; | wash &lt;int&gt; | dryer &lt;int&gt; | hourofday &lt;int&gt; | dayofweek &lt;int&gt; | dif &lt;dbl&gt; | absdif &lt;dbl&gt; | max &lt;dbl&gt; | var &lt;dbl&gt; | entropy &lt;dbl&gt; | nonlinear &lt;dbl&gt; | hurst &lt;dbl&gt; |\n",
       "|---|---|---|---|---|---|---|---|---|---|---|---|---|---|---|---|\n",
       "| 105541 | 2.245 | 0 | 0 | 0 | 0 | 0 | 0 | 4 |  0.987 | 0.987 | 6.215 | 3.074549 | 0.6788858 | 0.05290291 | 0.9940715 |\n",
       "| 105542 | 2.259 | 0 | 0 | 0 | 0 | 0 | 0 | 4 |  0.014 | 0.014 | 6.215 | 3.172867 | 0.6674503 | 0.05482926 | 0.9941540 |\n",
       "| 105543 | 2.269 | 0 | 0 | 0 | 0 | 0 | 0 | 4 |  0.010 | 0.010 | 6.215 | 3.270112 | 0.6477770 | 0.05699074 | 0.9942200 |\n",
       "| 105544 | 2.268 | 0 | 0 | 0 | 0 | 0 | 0 | 4 | -0.001 | 0.001 | 6.215 | 3.303763 | 0.6292270 | 0.05760593 | 0.9941497 |\n",
       "| 105545 | 2.270 | 0 | 0 | 0 | 0 | 0 | 0 | 4 |  0.002 | 0.002 | 6.215 | 3.302744 | 0.6212951 | 0.08263997 | 0.9940406 |\n",
       "| 105546 | 2.259 | 0 | 0 | 0 | 0 | 0 | 0 | 4 | -0.011 | 0.011 | 6.215 | 3.298258 | 0.6269564 | 0.08978753 | 0.9939864 |\n",
       "| 105547 | 2.250 | 0 | 0 | 0 | 0 | 0 | 0 | 4 | -0.009 | 0.009 | 6.215 | 3.289135 | 0.6401214 | 0.08527583 | 0.9939265 |\n",
       "| 105548 | 2.251 | 0 | 0 | 0 | 0 | 0 | 0 | 4 |  0.001 | 0.001 | 6.215 | 3.238982 | 0.6519165 | 0.35420293 | 0.9927028 |\n",
       "| 105549 | 2.264 | 0 | 0 | 0 | 0 | 0 | 0 | 4 |  0.013 | 0.013 | 6.215 | 3.203236 | 0.6556001 | 0.37252865 | 0.9924744 |\n",
       "| 105550 | 2.277 | 0 | 0 | 0 | 0 | 0 | 0 | 4 |  0.013 | 0.013 | 6.215 | 3.196127 | 0.6500062 | 0.36657811 | 0.9923085 |\n",
       "| 105551 | 2.307 | 0 | 0 | 0 | 0 | 0 | 0 | 4 |  0.030 | 0.030 | 6.215 | 3.192309 | 0.6384839 | 0.48154658 | 0.9923259 |\n",
       "| 105552 | 2.384 | 0 | 0 | 0 | 0 | 0 | 0 | 4 |  0.077 | 0.077 | 6.215 | 3.170742 | 0.6277878 | 0.62884794 | 0.9922882 |\n",
       "| 105553 | 2.382 | 0 | 0 | 0 | 0 | 0 | 0 | 4 | -0.002 | 0.002 | 6.215 | 3.136232 | 0.6253605 | 0.80344973 | 0.9921764 |\n",
       "| 105554 | 2.441 | 0 | 0 | 0 | 0 | 0 | 0 | 4 |  0.059 | 0.059 | 6.215 | 3.093735 | 0.6333037 | 0.41483179 | 0.9926951 |\n",
       "| 105555 | 2.449 | 0 | 0 | 0 | 0 | 0 | 0 | 4 |  0.008 | 0.008 | 6.215 | 3.119437 | 0.6459650 | 0.20307140 | 0.9932828 |\n",
       "| 105556 | 2.440 | 0 | 0 | 0 | 0 | 0 | 0 | 4 | -0.009 | 0.009 | 6.215 | 3.159763 | 0.6551784 | 0.26465247 | 0.9934638 |\n",
       "| 105557 | 2.444 | 0 | 0 | 0 | 0 | 0 | 0 | 4 |  0.004 | 0.004 | 6.215 | 3.188556 | 0.6559956 | 0.31623318 | 0.9935854 |\n",
       "| 105558 | 2.424 | 0 | 0 | 0 | 0 | 0 | 0 | 4 | -0.020 | 0.020 | 6.215 | 3.193862 | 0.6487119 | 0.30789443 | 0.9936237 |\n",
       "| 105559 | 2.425 | 0 | 0 | 0 | 0 | 0 | 0 | 4 |  0.001 | 0.001 | 6.215 | 3.199371 | 0.6384461 | 0.31471997 | 0.9936533 |\n",
       "| 105560 | 2.432 | 0 | 0 | 0 | 0 | 0 | 0 | 4 |  0.007 | 0.007 | 6.215 | 3.205613 | 0.6325460 | 0.31136964 | 0.9936802 |\n",
       "| 105561 | 2.431 | 0 | 0 | 0 | 0 | 0 | 0 | 4 | -0.001 | 0.001 | 6.215 | 3.207214 | 0.6360027 | 0.30386344 | 0.9936957 |\n",
       "| 105562 | 2.418 | 0 | 0 | 0 | 0 | 0 | 0 | 4 | -0.013 | 0.013 | 6.215 | 3.206899 | 0.6463082 | 0.30483758 | 0.9937039 |\n",
       "| 105563 | 2.420 | 0 | 0 | 0 | 0 | 0 | 0 | 4 |  0.002 | 0.002 | 6.215 | 3.207899 | 0.6554931 | 0.30560960 | 0.9937096 |\n",
       "| 105564 | 3.361 | 1 | 0 | 0 | 0 | 0 | 0 | 4 |  0.941 | 0.941 | 6.215 | 3.208320 | 0.6568986 | 0.30550141 | 0.9937108 |\n",
       "| 105565 | 6.167 | 1 | 0 | 0 | 0 | 0 | 0 | 4 |  2.806 | 2.806 | 6.215 | 3.209429 | 0.6483738 | 0.30683476 | 0.9937086 |\n",
       "| 105566 | 6.204 | 1 | 0 | 0 | 0 | 0 | 0 | 4 |  0.037 | 0.037 | 6.215 | 3.210533 | 0.6323101 | 0.30647663 | 0.9937020 |\n",
       "| 105567 | 6.215 | 1 | 0 | 0 | 0 | 0 | 0 | 4 |  0.011 | 0.011 | 6.215 | 3.211904 | 0.6157109 | 0.30295313 | 0.9936889 |\n",
       "| 105568 | 6.207 | 1 | 0 | 0 | 0 | 0 | 0 | 4 | -0.008 | 0.008 | 6.215 | 3.210240 | 0.6082089 | 0.30235609 | 0.9936660 |\n",
       "| 105569 | 6.199 | 1 | 0 | 0 | 0 | 0 | 0 | 4 | -0.008 | 0.008 | 6.215 | 3.208092 | 0.6153455 | 0.30160249 | 0.9936364 |\n",
       "| 105570 | 6.178 | 1 | 0 | 0 | 0 | 0 | 0 | 4 | -0.021 | 0.021 | 6.215 | 3.206152 | 0.6315404 | 0.32994053 | 0.9936407 |\n",
       "| ... | ... | ... | ... | ... | ... | ... | ... | ... | ... | ... | ... | ... | ... | ... | ... |\n",
       "| 523231 | 1.396 | 0 | 0 | 0 | 0 | 0 | 21 | 6 | -0.002 | 0.002 | 0 | 0 | 0 | 0 | 0 |\n",
       "| 523232 | 1.388 | 0 | 0 | 0 | 0 | 0 | 21 | 6 | -0.008 | 0.008 | 0 | 0 | 0 | 0 | 0 |\n",
       "| 523233 | 1.397 | 0 | 0 | 0 | 0 | 0 | 21 | 6 |  0.009 | 0.009 | 0 | 0 | 0 | 0 | 0 |\n",
       "| 523234 | 1.397 | 0 | 0 | 0 | 0 | 0 | 21 | 6 |  0.000 | 0.000 | 0 | 0 | 0 | 0 | 0 |\n",
       "| 523235 | 1.395 | 0 | 0 | 0 | 0 | 0 | 21 | 6 | -0.002 | 0.002 | 0 | 0 | 0 | 0 | 0 |\n",
       "| 523236 | 1.392 | 0 | 0 | 0 | 0 | 0 | 21 | 6 | -0.003 | 0.003 | 0 | 0 | 0 | 0 | 0 |\n",
       "| 523237 | 1.386 | 0 | 0 | 0 | 0 | 0 | 21 | 6 | -0.006 | 0.006 | 0 | 0 | 0 | 0 | 0 |\n",
       "| 523238 | 1.385 | 0 | 0 | 0 | 0 | 0 | 21 | 6 | -0.001 | 0.001 | 0 | 0 | 0 | 0 | 0 |\n",
       "| 523239 | 1.383 | 0 | 0 | 0 | 0 | 0 | 21 | 6 | -0.002 | 0.002 | 0 | 0 | 0 | 0 | 0 |\n",
       "| 523240 | 1.384 | 0 | 0 | 0 | 0 | 0 | 21 | 6 |  0.001 | 0.001 | 0 | 0 | 0 | 0 | 0 |\n",
       "| 523241 | 1.382 | 0 | 0 | 0 | 0 | 0 | 21 | 6 | -0.002 | 0.002 | 0 | 0 | 0 | 0 | 0 |\n",
       "| 523242 | 1.377 | 0 | 0 | 0 | 0 | 0 | 21 | 6 | -0.005 | 0.005 | 0 | 0 | 0 | 0 | 0 |\n",
       "| 523243 | 1.379 | 0 | 0 | 0 | 0 | 0 | 21 | 6 |  0.002 | 0.002 | 0 | 0 | 0 | 0 | 0 |\n",
       "| 523244 | 1.417 | 0 | 0 | 0 | 0 | 0 | 21 | 6 |  0.038 | 0.038 | 0 | 0 | 0 | 0 | 0 |\n",
       "| 523245 | 1.514 | 0 | 0 | 0 | 0 | 0 | 21 | 6 |  0.097 | 0.097 | 0 | 0 | 0 | 0 | 0 |\n",
       "| 523246 | 1.493 | 0 | 0 | 0 | 0 | 0 | 21 | 6 | -0.021 | 0.021 | 0 | 0 | 0 | 0 | 0 |\n",
       "| 523247 | 1.480 | 0 | 0 | 0 | 0 | 0 | 21 | 6 | -0.013 | 0.013 | 0 | 0 | 0 | 0 | 0 |\n",
       "| 523248 | 1.382 | 0 | 0 | 0 | 0 | 0 | 21 | 6 | -0.098 | 0.098 | 0 | 0 | 0 | 0 | 0 |\n",
       "| 523249 | 1.207 | 0 | 0 | 0 | 0 | 0 | 21 | 6 | -0.175 | 0.175 | 0 | 0 | 0 | 0 | 0 |\n",
       "| 523250 | 1.205 | 0 | 0 | 0 | 0 | 0 | 21 | 6 | -0.002 | 0.002 | 0 | 0 | 0 | 0 | 0 |\n",
       "| 523251 | 1.201 | 0 | 0 | 0 | 0 | 0 | 21 | 6 | -0.004 | 0.004 | 0 | 0 | 0 | 0 | 0 |\n",
       "| 523252 | 1.048 | 0 | 0 | 0 | 0 | 0 | 21 | 6 | -0.153 | 0.153 | 0 | 0 | 0 | 0 | 0 |\n",
       "| 523253 | 1.126 | 0 | 0 | 0 | 0 | 0 | 21 | 6 |  0.078 | 0.078 | 0 | 0 | 0 | 0 | 0 |\n",
       "| 523254 | 2.554 | 0 | 0 | 0 | 0 | 0 | 21 | 6 |  1.428 | 1.428 | 0 | 0 | 0 | 0 | 0 |\n",
       "| 523255 | 2.546 | 0 | 0 | 0 | 0 | 0 | 21 | 6 | -0.008 | 0.008 | 0 | 0 | 0 | 0 | 0 |\n",
       "| 523256 | 2.543 | 0 | 0 | 0 | 0 | 0 | 21 | 6 | -0.003 | 0.003 | 0 | 0 | 0 | 0 | 0 |\n",
       "| 523257 | 2.417 | 0 | 0 | 0 | 0 | 0 | 21 | 6 | -0.126 | 0.126 | 0 | 0 | 0 | 0 | 0 |\n",
       "| 523258 | 0.999 | 0 | 0 | 0 | 0 | 0 | 21 | 6 | -1.418 | 1.418 | 0 | 0 | 0 | 0 | 0 |\n",
       "| 523259 | 0.966 | 0 | 0 | 0 | 0 | 0 | 21 | 6 | -0.033 | 0.033 | 0 | 0 | 0 | 0 | 0 |\n",
       "| 523260 | 0.964 | 0 | 0 | 0 | 0 | 0 | 21 | 6 | -0.002 | 0.002 | 0 | 0 | 0 | 0 | 0 |\n",
       "\n"
      ],
      "text/plain": [
       "       X      load  ac  ev  oven wash dryer hourofday dayofweek dif    absdif\n",
       "1      105541 2.245 0   0   0    0    0     0         4          0.987 0.987 \n",
       "2      105542 2.259 0   0   0    0    0     0         4          0.014 0.014 \n",
       "3      105543 2.269 0   0   0    0    0     0         4          0.010 0.010 \n",
       "4      105544 2.268 0   0   0    0    0     0         4         -0.001 0.001 \n",
       "5      105545 2.270 0   0   0    0    0     0         4          0.002 0.002 \n",
       "6      105546 2.259 0   0   0    0    0     0         4         -0.011 0.011 \n",
       "7      105547 2.250 0   0   0    0    0     0         4         -0.009 0.009 \n",
       "8      105548 2.251 0   0   0    0    0     0         4          0.001 0.001 \n",
       "9      105549 2.264 0   0   0    0    0     0         4          0.013 0.013 \n",
       "10     105550 2.277 0   0   0    0    0     0         4          0.013 0.013 \n",
       "11     105551 2.307 0   0   0    0    0     0         4          0.030 0.030 \n",
       "12     105552 2.384 0   0   0    0    0     0         4          0.077 0.077 \n",
       "13     105553 2.382 0   0   0    0    0     0         4         -0.002 0.002 \n",
       "14     105554 2.441 0   0   0    0    0     0         4          0.059 0.059 \n",
       "15     105555 2.449 0   0   0    0    0     0         4          0.008 0.008 \n",
       "16     105556 2.440 0   0   0    0    0     0         4         -0.009 0.009 \n",
       "17     105557 2.444 0   0   0    0    0     0         4          0.004 0.004 \n",
       "18     105558 2.424 0   0   0    0    0     0         4         -0.020 0.020 \n",
       "19     105559 2.425 0   0   0    0    0     0         4          0.001 0.001 \n",
       "20     105560 2.432 0   0   0    0    0     0         4          0.007 0.007 \n",
       "21     105561 2.431 0   0   0    0    0     0         4         -0.001 0.001 \n",
       "22     105562 2.418 0   0   0    0    0     0         4         -0.013 0.013 \n",
       "23     105563 2.420 0   0   0    0    0     0         4          0.002 0.002 \n",
       "24     105564 3.361 1   0   0    0    0     0         4          0.941 0.941 \n",
       "25     105565 6.167 1   0   0    0    0     0         4          2.806 2.806 \n",
       "26     105566 6.204 1   0   0    0    0     0         4          0.037 0.037 \n",
       "27     105567 6.215 1   0   0    0    0     0         4          0.011 0.011 \n",
       "28     105568 6.207 1   0   0    0    0     0         4         -0.008 0.008 \n",
       "29     105569 6.199 1   0   0    0    0     0         4         -0.008 0.008 \n",
       "30     105570 6.178 1   0   0    0    0     0         4         -0.021 0.021 \n",
       "...    ...    ...   ... ... ...  ...  ...   ...       ...       ...    ...   \n",
       "417691 523231 1.396 0   0   0    0    0     21        6         -0.002 0.002 \n",
       "417692 523232 1.388 0   0   0    0    0     21        6         -0.008 0.008 \n",
       "417693 523233 1.397 0   0   0    0    0     21        6          0.009 0.009 \n",
       "417694 523234 1.397 0   0   0    0    0     21        6          0.000 0.000 \n",
       "417695 523235 1.395 0   0   0    0    0     21        6         -0.002 0.002 \n",
       "417696 523236 1.392 0   0   0    0    0     21        6         -0.003 0.003 \n",
       "417697 523237 1.386 0   0   0    0    0     21        6         -0.006 0.006 \n",
       "417698 523238 1.385 0   0   0    0    0     21        6         -0.001 0.001 \n",
       "417699 523239 1.383 0   0   0    0    0     21        6         -0.002 0.002 \n",
       "417700 523240 1.384 0   0   0    0    0     21        6          0.001 0.001 \n",
       "417701 523241 1.382 0   0   0    0    0     21        6         -0.002 0.002 \n",
       "417702 523242 1.377 0   0   0    0    0     21        6         -0.005 0.005 \n",
       "417703 523243 1.379 0   0   0    0    0     21        6          0.002 0.002 \n",
       "417704 523244 1.417 0   0   0    0    0     21        6          0.038 0.038 \n",
       "417705 523245 1.514 0   0   0    0    0     21        6          0.097 0.097 \n",
       "417706 523246 1.493 0   0   0    0    0     21        6         -0.021 0.021 \n",
       "417707 523247 1.480 0   0   0    0    0     21        6         -0.013 0.013 \n",
       "417708 523248 1.382 0   0   0    0    0     21        6         -0.098 0.098 \n",
       "417709 523249 1.207 0   0   0    0    0     21        6         -0.175 0.175 \n",
       "417710 523250 1.205 0   0   0    0    0     21        6         -0.002 0.002 \n",
       "417711 523251 1.201 0   0   0    0    0     21        6         -0.004 0.004 \n",
       "417712 523252 1.048 0   0   0    0    0     21        6         -0.153 0.153 \n",
       "417713 523253 1.126 0   0   0    0    0     21        6          0.078 0.078 \n",
       "417714 523254 2.554 0   0   0    0    0     21        6          1.428 1.428 \n",
       "417715 523255 2.546 0   0   0    0    0     21        6         -0.008 0.008 \n",
       "417716 523256 2.543 0   0   0    0    0     21        6         -0.003 0.003 \n",
       "417717 523257 2.417 0   0   0    0    0     21        6         -0.126 0.126 \n",
       "417718 523258 0.999 0   0   0    0    0     21        6         -1.418 1.418 \n",
       "417719 523259 0.966 0   0   0    0    0     21        6         -0.033 0.033 \n",
       "417720 523260 0.964 0   0   0    0    0     21        6         -0.002 0.002 \n",
       "       max   var      entropy   nonlinear  hurst    \n",
       "1      6.215 3.074549 0.6788858 0.05290291 0.9940715\n",
       "2      6.215 3.172867 0.6674503 0.05482926 0.9941540\n",
       "3      6.215 3.270112 0.6477770 0.05699074 0.9942200\n",
       "4      6.215 3.303763 0.6292270 0.05760593 0.9941497\n",
       "5      6.215 3.302744 0.6212951 0.08263997 0.9940406\n",
       "6      6.215 3.298258 0.6269564 0.08978753 0.9939864\n",
       "7      6.215 3.289135 0.6401214 0.08527583 0.9939265\n",
       "8      6.215 3.238982 0.6519165 0.35420293 0.9927028\n",
       "9      6.215 3.203236 0.6556001 0.37252865 0.9924744\n",
       "10     6.215 3.196127 0.6500062 0.36657811 0.9923085\n",
       "11     6.215 3.192309 0.6384839 0.48154658 0.9923259\n",
       "12     6.215 3.170742 0.6277878 0.62884794 0.9922882\n",
       "13     6.215 3.136232 0.6253605 0.80344973 0.9921764\n",
       "14     6.215 3.093735 0.6333037 0.41483179 0.9926951\n",
       "15     6.215 3.119437 0.6459650 0.20307140 0.9932828\n",
       "16     6.215 3.159763 0.6551784 0.26465247 0.9934638\n",
       "17     6.215 3.188556 0.6559956 0.31623318 0.9935854\n",
       "18     6.215 3.193862 0.6487119 0.30789443 0.9936237\n",
       "19     6.215 3.199371 0.6384461 0.31471997 0.9936533\n",
       "20     6.215 3.205613 0.6325460 0.31136964 0.9936802\n",
       "21     6.215 3.207214 0.6360027 0.30386344 0.9936957\n",
       "22     6.215 3.206899 0.6463082 0.30483758 0.9937039\n",
       "23     6.215 3.207899 0.6554931 0.30560960 0.9937096\n",
       "24     6.215 3.208320 0.6568986 0.30550141 0.9937108\n",
       "25     6.215 3.209429 0.6483738 0.30683476 0.9937086\n",
       "26     6.215 3.210533 0.6323101 0.30647663 0.9937020\n",
       "27     6.215 3.211904 0.6157109 0.30295313 0.9936889\n",
       "28     6.215 3.210240 0.6082089 0.30235609 0.9936660\n",
       "29     6.215 3.208092 0.6153455 0.30160249 0.9936364\n",
       "30     6.215 3.206152 0.6315404 0.32994053 0.9936407\n",
       "...    ...   ...      ...       ...        ...      \n",
       "417691 0     0        0         0          0        \n",
       "417692 0     0        0         0          0        \n",
       "417693 0     0        0         0          0        \n",
       "417694 0     0        0         0          0        \n",
       "417695 0     0        0         0          0        \n",
       "417696 0     0        0         0          0        \n",
       "417697 0     0        0         0          0        \n",
       "417698 0     0        0         0          0        \n",
       "417699 0     0        0         0          0        \n",
       "417700 0     0        0         0          0        \n",
       "417701 0     0        0         0          0        \n",
       "417702 0     0        0         0          0        \n",
       "417703 0     0        0         0          0        \n",
       "417704 0     0        0         0          0        \n",
       "417705 0     0        0         0          0        \n",
       "417706 0     0        0         0          0        \n",
       "417707 0     0        0         0          0        \n",
       "417708 0     0        0         0          0        \n",
       "417709 0     0        0         0          0        \n",
       "417710 0     0        0         0          0        \n",
       "417711 0     0        0         0          0        \n",
       "417712 0     0        0         0          0        \n",
       "417713 0     0        0         0          0        \n",
       "417714 0     0        0         0          0        \n",
       "417715 0     0        0         0          0        \n",
       "417716 0     0        0         0          0        \n",
       "417717 0     0        0         0          0        \n",
       "417718 0     0        0         0          0        \n",
       "417719 0     0        0         0          0        \n",
       "417720 0     0        0         0          0        "
      ]
     },
     "metadata": {},
     "output_type": "display_data"
    }
   ],
   "source": [
    "# view the details\n",
    "our_train"
   ]
  },
  {
   "cell_type": "code",
   "execution_count": 9,
   "metadata": {
    "scrolled": true
   },
   "outputs": [
    {
     "data": {
      "text/html": [
       "<table>\n",
       "<caption>A matrix: 5 × 10 of type dbl</caption>\n",
       "<thead>\n",
       "\t<tr><th></th><th scope=col>load</th><th scope=col>hourofday</th><th scope=col>dayofweek</th><th scope=col>dif</th><th scope=col>absdif</th><th scope=col>max</th><th scope=col>var</th><th scope=col>entropy</th><th scope=col>nonlinear</th><th scope=col>hurst</th></tr>\n",
       "</thead>\n",
       "<tbody>\n",
       "\t<tr><th scope=row>ac</th><td>0.90813819</td><td>0.15136386</td><td> 0.003981092</td><td>0.1358902060</td><td>0.191701501</td><td>0.51831900</td><td> 0.493826098</td><td>-0.164815279</td><td>-0.10016180</td><td> 0.11784839</td></tr>\n",
       "\t<tr><th scope=row>ev</th><td>0.13261142</td><td>0.05313881</td><td>-0.006671534</td><td>0.0026146738</td><td>0.002921232</td><td>0.10117639</td><td> 0.012397606</td><td> 0.003003949</td><td> 0.01564352</td><td>-0.01551130</td></tr>\n",
       "\t<tr><th scope=row>oven</th><td>0.19862596</td><td>0.08583702</td><td>-0.003049596</td><td>0.0671467679</td><td>0.188436612</td><td>0.18508330</td><td> 0.095902672</td><td> 0.112254191</td><td>-0.03153823</td><td>-0.05496844</td></tr>\n",
       "\t<tr><th scope=row>wash</th><td>0.03805982</td><td>0.04496511</td><td> 0.008642476</td><td>0.0050529994</td><td>0.011816291</td><td>0.02723213</td><td>-0.006345821</td><td> 0.028599082</td><td>-0.02214799</td><td>-0.00112055</td></tr>\n",
       "\t<tr><th scope=row>dryer</th><td>0.05539912</td><td>0.07059562</td><td> 0.006581563</td><td>0.0008338968</td><td>0.009838868</td><td>0.04226480</td><td>-0.005888414</td><td> 0.028004493</td><td>-0.02773110</td><td>-0.02460368</td></tr>\n",
       "</tbody>\n",
       "</table>\n"
      ],
      "text/latex": [
       "A matrix: 5 × 10 of type dbl\n",
       "\\begin{tabular}{r|llllllllll}\n",
       "  & load & hourofday & dayofweek & dif & absdif & max & var & entropy & nonlinear & hurst\\\\\n",
       "\\hline\n",
       "\tac & 0.90813819 & 0.15136386 &  0.003981092 & 0.1358902060 & 0.191701501 & 0.51831900 &  0.493826098 & -0.164815279 & -0.10016180 &  0.11784839\\\\\n",
       "\tev & 0.13261142 & 0.05313881 & -0.006671534 & 0.0026146738 & 0.002921232 & 0.10117639 &  0.012397606 &  0.003003949 &  0.01564352 & -0.01551130\\\\\n",
       "\toven & 0.19862596 & 0.08583702 & -0.003049596 & 0.0671467679 & 0.188436612 & 0.18508330 &  0.095902672 &  0.112254191 & -0.03153823 & -0.05496844\\\\\n",
       "\twash & 0.03805982 & 0.04496511 &  0.008642476 & 0.0050529994 & 0.011816291 & 0.02723213 & -0.006345821 &  0.028599082 & -0.02214799 & -0.00112055\\\\\n",
       "\tdryer & 0.05539912 & 0.07059562 &  0.006581563 & 0.0008338968 & 0.009838868 & 0.04226480 & -0.005888414 &  0.028004493 & -0.02773110 & -0.02460368\\\\\n",
       "\\end{tabular}\n"
      ],
      "text/markdown": [
       "\n",
       "A matrix: 5 × 10 of type dbl\n",
       "\n",
       "| <!--/--> | load | hourofday | dayofweek | dif | absdif | max | var | entropy | nonlinear | hurst |\n",
       "|---|---|---|---|---|---|---|---|---|---|---|\n",
       "| ac | 0.90813819 | 0.15136386 |  0.003981092 | 0.1358902060 | 0.191701501 | 0.51831900 |  0.493826098 | -0.164815279 | -0.10016180 |  0.11784839 |\n",
       "| ev | 0.13261142 | 0.05313881 | -0.006671534 | 0.0026146738 | 0.002921232 | 0.10117639 |  0.012397606 |  0.003003949 |  0.01564352 | -0.01551130 |\n",
       "| oven | 0.19862596 | 0.08583702 | -0.003049596 | 0.0671467679 | 0.188436612 | 0.18508330 |  0.095902672 |  0.112254191 | -0.03153823 | -0.05496844 |\n",
       "| wash | 0.03805982 | 0.04496511 |  0.008642476 | 0.0050529994 | 0.011816291 | 0.02723213 | -0.006345821 |  0.028599082 | -0.02214799 | -0.00112055 |\n",
       "| dryer | 0.05539912 | 0.07059562 |  0.006581563 | 0.0008338968 | 0.009838868 | 0.04226480 | -0.005888414 |  0.028004493 | -0.02773110 | -0.02460368 |\n",
       "\n"
      ],
      "text/plain": [
       "      load       hourofday  dayofweek    dif          absdif      max       \n",
       "ac    0.90813819 0.15136386  0.003981092 0.1358902060 0.191701501 0.51831900\n",
       "ev    0.13261142 0.05313881 -0.006671534 0.0026146738 0.002921232 0.10117639\n",
       "oven  0.19862596 0.08583702 -0.003049596 0.0671467679 0.188436612 0.18508330\n",
       "wash  0.03805982 0.04496511  0.008642476 0.0050529994 0.011816291 0.02723213\n",
       "dryer 0.05539912 0.07059562  0.006581563 0.0008338968 0.009838868 0.04226480\n",
       "      var          entropy      nonlinear   hurst      \n",
       "ac     0.493826098 -0.164815279 -0.10016180  0.11784839\n",
       "ev     0.012397606  0.003003949  0.01564352 -0.01551130\n",
       "oven   0.095902672  0.112254191 -0.03153823 -0.05496844\n",
       "wash  -0.006345821  0.028599082 -0.02214799 -0.00112055\n",
       "dryer -0.005888414  0.028004493 -0.02773110 -0.02460368"
      ]
     },
     "metadata": {},
     "output_type": "display_data"
    }
   ],
   "source": [
    "# check the correlation between the appliance and features\n",
    "cor(our_train[,c(3:7)], our_train[,c(-1,-3:-7)])"
   ]
  },
  {
   "cell_type": "markdown",
   "metadata": {},
   "source": [
    "Here are the features that come with the original data, and we can use a correlation matrix to identify the relationships of each appliance with these features.  \n",
    "\n",
    "AC has an extremely strong positive correlation with the load value, strong positive correlation with max and var, and a relatively strong positive correlation with hourofday. A strong correlation with max and load means that AC has significant impact on the final load recording, i.e. it uses a large portion of electricity of the household. Its strong correlation with var indicates that its variance of load is high, i.e. it only operates during a specific timeframe and remains dormant for the rest of the time period.  \n",
    "\n",
    "EV has a relatively strong positive correlation with load, max and hourofday, which means that EV contributes moderately on the final load recording, and it operates dependently on the time period.  \n",
    "\n",
    "Oven has a relatively strong positive correlation with load, absdif and entropy, which means that oven contributes moderately on the final load recording. It has a weak positive correlation with hourofday, which means it operates somewhat dependently on the time period.\n",
    "\n",
    "Wash and dryer have very weak positive correlation with load and hourofday. By common sense, these two appliances are usually used one after the other, so it’s reasonable that they have similar correlation with the features.\n"
   ]
  },
  {
   "cell_type": "code",
   "execution_count": 10,
   "metadata": {
    "scrolled": true
   },
   "outputs": [
    {
     "name": "stderr",
     "output_type": "stream",
     "text": [
      "`summarise()` ungrouping output (override with `.groups` argument)\n",
      "\n"
     ]
    },
    {
     "data": {
      "image/png": "[encoded data removed]",
      "text/plain": [
       "plot without title"
      ]
     },
     "metadata": {
      "image/png": {
       "height": 420,
       "width": 420
      }
     },
     "output_type": "display_data"
    }
   ],
   "source": [
    "# view the usage situation about each appliance within a day\n",
    "new_hourofday <- our_train %>% group_by(hourofday)\n",
    "each_hour = summarise(new_hourofday,\n",
    "    sum_ac = sum(ac),\n",
    "    sum_ev = sum(ev),\n",
    "    sum_oven = sum(oven),\n",
    "    sum_wash = sum(wash),\n",
    "    sum_dryer = sum(dryer)\n",
    ")\n",
    "# melt the hour of each appliance\n",
    "melt.eachhour = melt(each_hour, id='hourofday')\n",
    "# plot the usage of each appliance within a day\n",
    "ggplot(melt.eachhour) + geom_line(aes(x=hourofday, y=value, col=variable)) + theme_minimal()"
   ]
  },
  {
   "cell_type": "markdown",
   "metadata": {},
   "source": [
    "From the plot, AC reaches its peak at around 6pm, which is the time when people come home from work and reaches its bottom at around 6am, which is the time when people get out of bed. It fits the profile when people turn on the AC when they come home and turn off the AC before they go to work.  \n",
    "\n",
    "Oven reaches its peak at around 5:30pm, which is the time when people come home from work and remains dormant for the rest of the day. It operates only at dinner time.  \n",
    "\n",
    "EV reaches its peak at around 9pm, which is the time when people are getting ready to sleep and remains dormant for the rest of the day. It fits the profile when people charge their vehicle before going to bed.  \n",
    "\n",
    "Wash and dryer has a clear sequential pattern: people wash their clothes before drying them. Dryer reaches its peak at around 12am, which means people tend to dry their clothes before going to bed and leave their clothes in the dryer overnight. "
   ]
  },
  {
   "cell_type": "code",
   "execution_count": 11,
   "metadata": {
    "scrolled": true
   },
   "outputs": [
    {
     "name": "stderr",
     "output_type": "stream",
     "text": [
      "`summarise()` ungrouping output (override with `.groups` argument)\n",
      "\n"
     ]
    },
    {
     "data": {
      "image/png": "[encoded data removed]",
      "text/plain": [
       "plot without title"
      ]
     },
     "metadata": {
      "image/png": {
       "height": 420,
       "width": 420
      }
     },
     "output_type": "display_data"
    }
   ],
   "source": [
    "# view the usage situation about each appliance within a week\n",
    "new_dayofweek <- our_train %>% group_by(dayofweek)\n",
    "each_day = summarise(new_dayofweek,\n",
    "    sum_ac = sum(ac),\n",
    "    sum_ev = sum(ev),\n",
    "    sum_oven = sum(oven),\n",
    "    sum_wash = sum(wash),\n",
    "    sum_dryer = sum(dryer)\n",
    ")\n",
    "# melt the daily usage of each appliance\n",
    "melt.eachday = melt(each_day, id='dayofweek')\n",
    "# plot the usage of each appliance within a week\n",
    "ggplot(melt.eachday) + geom_line(aes(x=dayofweek, y=value, col=variable)) + theme_minimal()"
   ]
  },
  {
   "cell_type": "markdown",
   "metadata": {},
   "source": [
    "AC and oven operate almost every day, since people need to have dinner and sleep with air conditioning every day. Wash and dryer follow a laundry day pattern: judging from the plot, we guess the laundry day pattern for this family is every three days. EV has a slight operational pattern: it reaches its bottom during the weekend, where people don’t use their vehicle as much as during weekdays."
   ]
  },
  {
   "cell_type": "code",
   "execution_count": 12,
   "metadata": {},
   "outputs": [],
   "source": [
    "#principle component analysis (PCA)\n",
    "PCA = prcomp(our_train[c(-1,-3:-7)])"
   ]
  },
  {
   "cell_type": "code",
   "execution_count": 13,
   "metadata": {},
   "outputs": [
    {
     "data": {
      "text/plain": [
       "Importance of components:\n",
       "                          PC1    PC2     PC3     PC4     PC5     PC6     PC7\n",
       "Standard deviation     6.9749 2.9577 2.47475 2.00101 1.42257 0.70970 0.54603\n",
       "Proportion of Variance 0.6893 0.1240 0.08678 0.05673 0.02867 0.00714 0.00422\n",
       "Cumulative Proportion  0.6893 0.8133 0.90004 0.95677 0.98545 0.99258 0.99681\n",
       "                           PC8     PC9    PC10\n",
       "Standard deviation     0.46360 0.09291 0.04239\n",
       "Proportion of Variance 0.00305 0.00012 0.00003\n",
       "Cumulative Proportion  0.99985 0.99997 1.00000"
      ]
     },
     "metadata": {},
     "output_type": "display_data"
    }
   ],
   "source": [
    "# view the details of PCA\n",
    "summary(PCA)"
   ]
  },
  {
   "cell_type": "markdown",
   "metadata": {},
   "source": [
    "From summary, we can know that we just need to use PC1 and PC2 as they only cost 20% of proportion."
   ]
  },
  {
   "cell_type": "code",
   "execution_count": 14,
   "metadata": {
    "scrolled": true
   },
   "outputs": [
    {
     "data": {
      "image/png": "[encoded data removed]",
      "text/plain": [
       "plot without title"
      ]
     },
     "metadata": {
      "image/png": {
       "height": 420,
       "width": 420
      }
     },
     "output_type": "display_data"
    }
   ],
   "source": [
    "# view the boundary of ac\n",
    "ggplot(data=as.data.frame(PCA$x), aes(x=PC1, y=PC2)) +\n",
    "    geom_point(aes(col=our_train$ac))\n"
   ]
  },
  {
   "cell_type": "code",
   "execution_count": 15,
   "metadata": {},
   "outputs": [
    {
     "data": {
      "image/png": "[encoded data removed]",
      "text/plain": [
       "plot without title"
      ]
     },
     "metadata": {
      "image/png": {
       "height": 420,
       "width": 420
      }
     },
     "output_type": "display_data"
    }
   ],
   "source": [
    "# view the boundary of ev\n",
    "ggplot(data=as.data.frame(PCA$x), aes(x=PC1, y=PC2)) +\n",
    "    geom_point(aes(col=our_train$ev))"
   ]
  },
  {
   "cell_type": "code",
   "execution_count": 16,
   "metadata": {},
   "outputs": [
    {
     "data": {
      "image/png": "[encoded data removed]",
      "text/plain": [
       "plot without title"
      ]
     },
     "metadata": {
      "image/png": {
       "height": 420,
       "width": 420
      }
     },
     "output_type": "display_data"
    }
   ],
   "source": [
    "# view the boundary of oven\n",
    "ggplot(data=as.data.frame(PCA$x), aes(x=PC1, y=PC2)) +\n",
    "    geom_point(aes(col=our_train$oven))"
   ]
  },
  {
   "cell_type": "code",
   "execution_count": 17,
   "metadata": {},
   "outputs": [
    {
     "data": {
      "image/png": "[encoded data removed]",
      "text/plain": [
       "plot without title"
      ]
     },
     "metadata": {
      "image/png": {
       "height": 420,
       "width": 420
      }
     },
     "output_type": "display_data"
    }
   ],
   "source": [
    "# view the boundary of wash\n",
    "ggplot(data=as.data.frame(PCA$x), aes(x=PC1, y=PC2)) +\n",
    "    geom_point(aes(col=our_train$wash))"
   ]
  },
  {
   "cell_type": "code",
   "execution_count": 18,
   "metadata": {},
   "outputs": [
    {
     "data": {
      "image/png": "[encoded data removed]",
      "text/plain": [
       "plot without title"
      ]
     },
     "metadata": {
      "image/png": {
       "height": 420,
       "width": 420
      }
     },
     "output_type": "display_data"
    }
   ],
   "source": [
    "# view the boundary of dryer\n",
    "ggplot(data=as.data.frame(PCA$x), aes(x=PC1, y=PC2)) +\n",
    "    geom_point(aes(col=our_train$dryer))"
   ]
  },
  {
   "cell_type": "markdown",
   "metadata": {},
   "source": [
    "From the plots aboved, we can know that the boundary of ac, ev and oven are relatively clear,which means they can be predicted easier while the boundary of wash and dryer are not clear and it means that they are not easily predicted."
   ]
  },
  {
   "cell_type": "code",
   "execution_count": 19,
   "metadata": {},
   "outputs": [],
   "source": [
    "whole = rbind(our_test, our_train[,c(-3:-7)])\n",
    "whole.len = length(whole$X)"
   ]
  },
  {
   "cell_type": "code",
   "execution_count": 20,
   "metadata": {},
   "outputs": [],
   "source": [
    "p = periodogram(whole$load, plot=FALSE)\n",
    "dd = data.frame(freq=p$freq, spec=p$spec)\n",
    "order = dd[order(-dd$spec),]\n",
    "top = head(order, 5)"
   ]
  },
  {
   "cell_type": "markdown",
   "metadata": {},
   "source": [
    "We mentioned that X is the timestamp column in terms of minutes, and if we look close enough, we can see that the training data and the test data are two parts of a data of load recording for an entire year in whole. Therefore, in order to add features to the data, we must add the corresponding feature into both the training and testing data. The approach we choose is to first combind training and testing data into a data in whole without labels, then add the features into the data in whole and redistribute the corresponding columns back to both original training and testing data.  \n",
    "\n",
    "To determine whether the data in whole has some kind of spectral density. After we calculate the density’s frequency and spectrum using periodogram, we order them with respect to its frequency. (In this case spectrum has very little meaning to us) We choose the top five frequencies: per year, per day, per half a year and per season.(There are 2 frequecies of per day) These frequencies can help us develop new time related features to the appliances.\n",
    "\n",
    "We think the usage of the appliances might change different over season.So we add season as a feature and check whether it have effects on the appliances.\n"
   ]
  },
  {
   "cell_type": "code",
   "execution_count": 21,
   "metadata": {},
   "outputs": [],
   "source": [
    "season = c()\n",
    "for (i in 1:4){\n",
    "    season = c(season, rep(i, 60*24*91))\n",
    "}"
   ]
  },
  {
   "cell_type": "code",
   "execution_count": 22,
   "metadata": {},
   "outputs": [],
   "source": [
    "whole$season = season[1:whole.len]\n",
    "our_test$season = whole$season[1:our_test.len]\n",
    "our_train$season = whole$season[(our_test.len+1):whole.len]"
   ]
  },
  {
   "cell_type": "code",
   "execution_count": 23,
   "metadata": {},
   "outputs": [
    {
     "name": "stderr",
     "output_type": "stream",
     "text": [
      "`summarise()` ungrouping output (override with `.groups` argument)\n",
      "\n"
     ]
    },
    {
     "data": {
      "image/png": "[encoded data removed]",
      "text/plain": [
       "plot without title"
      ]
     },
     "metadata": {
      "image/png": {
       "height": 420,
       "width": 420
      }
     },
     "output_type": "display_data"
    }
   ],
   "source": [
    "per_season <- our_train %>% group_by(season)\n",
    "eachseason = summarise(per_season,\n",
    "    ac = sum(ac),\n",
    "    ev = sum(ev),\n",
    "    oven = sum(oven),\n",
    "    wash = sum(wash),\n",
    "    dryer = sum(dryer)\n",
    ")\n",
    "melt.season = melt(eachseason, id='season')\n",
    "ggplot(melt.season) + geom_line(aes(x=season, y=value, col=variable)) + theme_minimal()"
   ]
  },
  {
   "cell_type": "markdown",
   "metadata": {},
   "source": [
    "Here we have a new feature as an example: season. Season can be derived from the timestamps of each row, and separate the data in whole into 4 seasons.  \n",
    "\n",
    "AC reaches it peak during the summer and reaches its bottom during the winter as summer is so hot that people need to open ac frequently and the rest of the appliances have a slight increase during the winter but overall remains at similar level."
   ]
  },
  {
   "cell_type": "code",
   "execution_count": 24,
   "metadata": {},
   "outputs": [
    {
     "data": {
      "text/html": [
       "<table>\n",
       "<caption>A data.frame: 417720 × 17</caption>\n",
       "<thead>\n",
       "\t<tr><th scope=col>X</th><th scope=col>load</th><th scope=col>ac</th><th scope=col>ev</th><th scope=col>oven</th><th scope=col>wash</th><th scope=col>dryer</th><th scope=col>hourofday</th><th scope=col>dayofweek</th><th scope=col>dif</th><th scope=col>absdif</th><th scope=col>max</th><th scope=col>var</th><th scope=col>entropy</th><th scope=col>nonlinear</th><th scope=col>hurst</th><th scope=col>season</th></tr>\n",
       "\t<tr><th scope=col>&lt;int&gt;</th><th scope=col>&lt;dbl&gt;</th><th scope=col>&lt;int&gt;</th><th scope=col>&lt;int&gt;</th><th scope=col>&lt;int&gt;</th><th scope=col>&lt;int&gt;</th><th scope=col>&lt;int&gt;</th><th scope=col>&lt;int&gt;</th><th scope=col>&lt;int&gt;</th><th scope=col>&lt;dbl&gt;</th><th scope=col>&lt;dbl&gt;</th><th scope=col>&lt;dbl&gt;</th><th scope=col>&lt;dbl&gt;</th><th scope=col>&lt;dbl&gt;</th><th scope=col>&lt;dbl&gt;</th><th scope=col>&lt;dbl&gt;</th><th scope=col>&lt;int&gt;</th></tr>\n",
       "</thead>\n",
       "<tbody>\n",
       "\t<tr><td>105541</td><td>2.245</td><td>0</td><td>0</td><td>0</td><td>0</td><td>0</td><td>0</td><td>4</td><td> 0.987</td><td>0.987</td><td>6.215</td><td>3.074549</td><td>0.6788858</td><td>0.05290291</td><td>0.9940715</td><td>1</td></tr>\n",
       "\t<tr><td>105542</td><td>2.259</td><td>0</td><td>0</td><td>0</td><td>0</td><td>0</td><td>0</td><td>4</td><td> 0.014</td><td>0.014</td><td>6.215</td><td>3.172867</td><td>0.6674503</td><td>0.05482926</td><td>0.9941540</td><td>1</td></tr>\n",
       "\t<tr><td>105543</td><td>2.269</td><td>0</td><td>0</td><td>0</td><td>0</td><td>0</td><td>0</td><td>4</td><td> 0.010</td><td>0.010</td><td>6.215</td><td>3.270112</td><td>0.6477770</td><td>0.05699074</td><td>0.9942200</td><td>1</td></tr>\n",
       "\t<tr><td>105544</td><td>2.268</td><td>0</td><td>0</td><td>0</td><td>0</td><td>0</td><td>0</td><td>4</td><td>-0.001</td><td>0.001</td><td>6.215</td><td>3.303763</td><td>0.6292270</td><td>0.05760593</td><td>0.9941497</td><td>1</td></tr>\n",
       "\t<tr><td>105545</td><td>2.270</td><td>0</td><td>0</td><td>0</td><td>0</td><td>0</td><td>0</td><td>4</td><td> 0.002</td><td>0.002</td><td>6.215</td><td>3.302744</td><td>0.6212951</td><td>0.08263997</td><td>0.9940406</td><td>1</td></tr>\n",
       "\t<tr><td>105546</td><td>2.259</td><td>0</td><td>0</td><td>0</td><td>0</td><td>0</td><td>0</td><td>4</td><td>-0.011</td><td>0.011</td><td>6.215</td><td>3.298258</td><td>0.6269564</td><td>0.08978753</td><td>0.9939864</td><td>1</td></tr>\n",
       "\t<tr><td>105547</td><td>2.250</td><td>0</td><td>0</td><td>0</td><td>0</td><td>0</td><td>0</td><td>4</td><td>-0.009</td><td>0.009</td><td>6.215</td><td>3.289135</td><td>0.6401214</td><td>0.08527583</td><td>0.9939265</td><td>1</td></tr>\n",
       "\t<tr><td>105548</td><td>2.251</td><td>0</td><td>0</td><td>0</td><td>0</td><td>0</td><td>0</td><td>4</td><td> 0.001</td><td>0.001</td><td>6.215</td><td>3.238982</td><td>0.6519165</td><td>0.35420293</td><td>0.9927028</td><td>1</td></tr>\n",
       "\t<tr><td>105549</td><td>2.264</td><td>0</td><td>0</td><td>0</td><td>0</td><td>0</td><td>0</td><td>4</td><td> 0.013</td><td>0.013</td><td>6.215</td><td>3.203236</td><td>0.6556001</td><td>0.37252865</td><td>0.9924744</td><td>1</td></tr>\n",
       "\t<tr><td>105550</td><td>2.277</td><td>0</td><td>0</td><td>0</td><td>0</td><td>0</td><td>0</td><td>4</td><td> 0.013</td><td>0.013</td><td>6.215</td><td>3.196127</td><td>0.6500062</td><td>0.36657811</td><td>0.9923085</td><td>1</td></tr>\n",
       "\t<tr><td>105551</td><td>2.307</td><td>0</td><td>0</td><td>0</td><td>0</td><td>0</td><td>0</td><td>4</td><td> 0.030</td><td>0.030</td><td>6.215</td><td>3.192309</td><td>0.6384839</td><td>0.48154658</td><td>0.9923259</td><td>1</td></tr>\n",
       "\t<tr><td>105552</td><td>2.384</td><td>0</td><td>0</td><td>0</td><td>0</td><td>0</td><td>0</td><td>4</td><td> 0.077</td><td>0.077</td><td>6.215</td><td>3.170742</td><td>0.6277878</td><td>0.62884794</td><td>0.9922882</td><td>1</td></tr>\n",
       "\t<tr><td>105553</td><td>2.382</td><td>0</td><td>0</td><td>0</td><td>0</td><td>0</td><td>0</td><td>4</td><td>-0.002</td><td>0.002</td><td>6.215</td><td>3.136232</td><td>0.6253605</td><td>0.80344973</td><td>0.9921764</td><td>1</td></tr>\n",
       "\t<tr><td>105554</td><td>2.441</td><td>0</td><td>0</td><td>0</td><td>0</td><td>0</td><td>0</td><td>4</td><td> 0.059</td><td>0.059</td><td>6.215</td><td>3.093735</td><td>0.6333037</td><td>0.41483179</td><td>0.9926951</td><td>1</td></tr>\n",
       "\t<tr><td>105555</td><td>2.449</td><td>0</td><td>0</td><td>0</td><td>0</td><td>0</td><td>0</td><td>4</td><td> 0.008</td><td>0.008</td><td>6.215</td><td>3.119437</td><td>0.6459650</td><td>0.20307140</td><td>0.9932828</td><td>1</td></tr>\n",
       "\t<tr><td>105556</td><td>2.440</td><td>0</td><td>0</td><td>0</td><td>0</td><td>0</td><td>0</td><td>4</td><td>-0.009</td><td>0.009</td><td>6.215</td><td>3.159763</td><td>0.6551784</td><td>0.26465247</td><td>0.9934638</td><td>1</td></tr>\n",
       "\t<tr><td>105557</td><td>2.444</td><td>0</td><td>0</td><td>0</td><td>0</td><td>0</td><td>0</td><td>4</td><td> 0.004</td><td>0.004</td><td>6.215</td><td>3.188556</td><td>0.6559956</td><td>0.31623318</td><td>0.9935854</td><td>1</td></tr>\n",
       "\t<tr><td>105558</td><td>2.424</td><td>0</td><td>0</td><td>0</td><td>0</td><td>0</td><td>0</td><td>4</td><td>-0.020</td><td>0.020</td><td>6.215</td><td>3.193862</td><td>0.6487119</td><td>0.30789443</td><td>0.9936237</td><td>1</td></tr>\n",
       "\t<tr><td>105559</td><td>2.425</td><td>0</td><td>0</td><td>0</td><td>0</td><td>0</td><td>0</td><td>4</td><td> 0.001</td><td>0.001</td><td>6.215</td><td>3.199371</td><td>0.6384461</td><td>0.31471997</td><td>0.9936533</td><td>1</td></tr>\n",
       "\t<tr><td>105560</td><td>2.432</td><td>0</td><td>0</td><td>0</td><td>0</td><td>0</td><td>0</td><td>4</td><td> 0.007</td><td>0.007</td><td>6.215</td><td>3.205613</td><td>0.6325460</td><td>0.31136964</td><td>0.9936802</td><td>1</td></tr>\n",
       "\t<tr><td>105561</td><td>2.431</td><td>0</td><td>0</td><td>0</td><td>0</td><td>0</td><td>0</td><td>4</td><td>-0.001</td><td>0.001</td><td>6.215</td><td>3.207214</td><td>0.6360027</td><td>0.30386344</td><td>0.9936957</td><td>1</td></tr>\n",
       "\t<tr><td>105562</td><td>2.418</td><td>0</td><td>0</td><td>0</td><td>0</td><td>0</td><td>0</td><td>4</td><td>-0.013</td><td>0.013</td><td>6.215</td><td>3.206899</td><td>0.6463082</td><td>0.30483758</td><td>0.9937039</td><td>1</td></tr>\n",
       "\t<tr><td>105563</td><td>2.420</td><td>0</td><td>0</td><td>0</td><td>0</td><td>0</td><td>0</td><td>4</td><td> 0.002</td><td>0.002</td><td>6.215</td><td>3.207899</td><td>0.6554931</td><td>0.30560960</td><td>0.9937096</td><td>1</td></tr>\n",
       "\t<tr><td>105564</td><td>3.361</td><td>1</td><td>0</td><td>0</td><td>0</td><td>0</td><td>0</td><td>4</td><td> 0.941</td><td>0.941</td><td>6.215</td><td>3.208320</td><td>0.6568986</td><td>0.30550141</td><td>0.9937108</td><td>1</td></tr>\n",
       "\t<tr><td>105565</td><td>6.167</td><td>1</td><td>0</td><td>0</td><td>0</td><td>0</td><td>0</td><td>4</td><td> 2.806</td><td>2.806</td><td>6.215</td><td>3.209429</td><td>0.6483738</td><td>0.30683476</td><td>0.9937086</td><td>1</td></tr>\n",
       "\t<tr><td>105566</td><td>6.204</td><td>1</td><td>0</td><td>0</td><td>0</td><td>0</td><td>0</td><td>4</td><td> 0.037</td><td>0.037</td><td>6.215</td><td>3.210533</td><td>0.6323101</td><td>0.30647663</td><td>0.9937020</td><td>1</td></tr>\n",
       "\t<tr><td>105567</td><td>6.215</td><td>1</td><td>0</td><td>0</td><td>0</td><td>0</td><td>0</td><td>4</td><td> 0.011</td><td>0.011</td><td>6.215</td><td>3.211904</td><td>0.6157109</td><td>0.30295313</td><td>0.9936889</td><td>1</td></tr>\n",
       "\t<tr><td>105568</td><td>6.207</td><td>1</td><td>0</td><td>0</td><td>0</td><td>0</td><td>0</td><td>4</td><td>-0.008</td><td>0.008</td><td>6.215</td><td>3.210240</td><td>0.6082089</td><td>0.30235609</td><td>0.9936660</td><td>1</td></tr>\n",
       "\t<tr><td>105569</td><td>6.199</td><td>1</td><td>0</td><td>0</td><td>0</td><td>0</td><td>0</td><td>4</td><td>-0.008</td><td>0.008</td><td>6.215</td><td>3.208092</td><td>0.6153455</td><td>0.30160249</td><td>0.9936364</td><td>1</td></tr>\n",
       "\t<tr><td>105570</td><td>6.178</td><td>1</td><td>0</td><td>0</td><td>0</td><td>0</td><td>0</td><td>4</td><td>-0.021</td><td>0.021</td><td>6.215</td><td>3.206152</td><td>0.6315404</td><td>0.32994053</td><td>0.9936407</td><td>1</td></tr>\n",
       "\t<tr><td>...</td><td>...</td><td>...</td><td>...</td><td>...</td><td>...</td><td>...</td><td>...</td><td>...</td><td>...</td><td>...</td><td>...</td><td>...</td><td>...</td><td>...</td><td>...</td><td>...</td></tr>\n",
       "\t<tr><td>523231</td><td>1.396</td><td>0</td><td>0</td><td>0</td><td>0</td><td>0</td><td>21</td><td>6</td><td>-0.002</td><td>0.002</td><td>0</td><td>0</td><td>0</td><td>0</td><td>0</td><td>4</td></tr>\n",
       "\t<tr><td>523232</td><td>1.388</td><td>0</td><td>0</td><td>0</td><td>0</td><td>0</td><td>21</td><td>6</td><td>-0.008</td><td>0.008</td><td>0</td><td>0</td><td>0</td><td>0</td><td>0</td><td>4</td></tr>\n",
       "\t<tr><td>523233</td><td>1.397</td><td>0</td><td>0</td><td>0</td><td>0</td><td>0</td><td>21</td><td>6</td><td> 0.009</td><td>0.009</td><td>0</td><td>0</td><td>0</td><td>0</td><td>0</td><td>4</td></tr>\n",
       "\t<tr><td>523234</td><td>1.397</td><td>0</td><td>0</td><td>0</td><td>0</td><td>0</td><td>21</td><td>6</td><td> 0.000</td><td>0.000</td><td>0</td><td>0</td><td>0</td><td>0</td><td>0</td><td>4</td></tr>\n",
       "\t<tr><td>523235</td><td>1.395</td><td>0</td><td>0</td><td>0</td><td>0</td><td>0</td><td>21</td><td>6</td><td>-0.002</td><td>0.002</td><td>0</td><td>0</td><td>0</td><td>0</td><td>0</td><td>4</td></tr>\n",
       "\t<tr><td>523236</td><td>1.392</td><td>0</td><td>0</td><td>0</td><td>0</td><td>0</td><td>21</td><td>6</td><td>-0.003</td><td>0.003</td><td>0</td><td>0</td><td>0</td><td>0</td><td>0</td><td>4</td></tr>\n",
       "\t<tr><td>523237</td><td>1.386</td><td>0</td><td>0</td><td>0</td><td>0</td><td>0</td><td>21</td><td>6</td><td>-0.006</td><td>0.006</td><td>0</td><td>0</td><td>0</td><td>0</td><td>0</td><td>4</td></tr>\n",
       "\t<tr><td>523238</td><td>1.385</td><td>0</td><td>0</td><td>0</td><td>0</td><td>0</td><td>21</td><td>6</td><td>-0.001</td><td>0.001</td><td>0</td><td>0</td><td>0</td><td>0</td><td>0</td><td>4</td></tr>\n",
       "\t<tr><td>523239</td><td>1.383</td><td>0</td><td>0</td><td>0</td><td>0</td><td>0</td><td>21</td><td>6</td><td>-0.002</td><td>0.002</td><td>0</td><td>0</td><td>0</td><td>0</td><td>0</td><td>4</td></tr>\n",
       "\t<tr><td>523240</td><td>1.384</td><td>0</td><td>0</td><td>0</td><td>0</td><td>0</td><td>21</td><td>6</td><td> 0.001</td><td>0.001</td><td>0</td><td>0</td><td>0</td><td>0</td><td>0</td><td>4</td></tr>\n",
       "\t<tr><td>523241</td><td>1.382</td><td>0</td><td>0</td><td>0</td><td>0</td><td>0</td><td>21</td><td>6</td><td>-0.002</td><td>0.002</td><td>0</td><td>0</td><td>0</td><td>0</td><td>0</td><td>4</td></tr>\n",
       "\t<tr><td>523242</td><td>1.377</td><td>0</td><td>0</td><td>0</td><td>0</td><td>0</td><td>21</td><td>6</td><td>-0.005</td><td>0.005</td><td>0</td><td>0</td><td>0</td><td>0</td><td>0</td><td>4</td></tr>\n",
       "\t<tr><td>523243</td><td>1.379</td><td>0</td><td>0</td><td>0</td><td>0</td><td>0</td><td>21</td><td>6</td><td> 0.002</td><td>0.002</td><td>0</td><td>0</td><td>0</td><td>0</td><td>0</td><td>4</td></tr>\n",
       "\t<tr><td>523244</td><td>1.417</td><td>0</td><td>0</td><td>0</td><td>0</td><td>0</td><td>21</td><td>6</td><td> 0.038</td><td>0.038</td><td>0</td><td>0</td><td>0</td><td>0</td><td>0</td><td>4</td></tr>\n",
       "\t<tr><td>523245</td><td>1.514</td><td>0</td><td>0</td><td>0</td><td>0</td><td>0</td><td>21</td><td>6</td><td> 0.097</td><td>0.097</td><td>0</td><td>0</td><td>0</td><td>0</td><td>0</td><td>4</td></tr>\n",
       "\t<tr><td>523246</td><td>1.493</td><td>0</td><td>0</td><td>0</td><td>0</td><td>0</td><td>21</td><td>6</td><td>-0.021</td><td>0.021</td><td>0</td><td>0</td><td>0</td><td>0</td><td>0</td><td>4</td></tr>\n",
       "\t<tr><td>523247</td><td>1.480</td><td>0</td><td>0</td><td>0</td><td>0</td><td>0</td><td>21</td><td>6</td><td>-0.013</td><td>0.013</td><td>0</td><td>0</td><td>0</td><td>0</td><td>0</td><td>4</td></tr>\n",
       "\t<tr><td>523248</td><td>1.382</td><td>0</td><td>0</td><td>0</td><td>0</td><td>0</td><td>21</td><td>6</td><td>-0.098</td><td>0.098</td><td>0</td><td>0</td><td>0</td><td>0</td><td>0</td><td>4</td></tr>\n",
       "\t<tr><td>523249</td><td>1.207</td><td>0</td><td>0</td><td>0</td><td>0</td><td>0</td><td>21</td><td>6</td><td>-0.175</td><td>0.175</td><td>0</td><td>0</td><td>0</td><td>0</td><td>0</td><td>4</td></tr>\n",
       "\t<tr><td>523250</td><td>1.205</td><td>0</td><td>0</td><td>0</td><td>0</td><td>0</td><td>21</td><td>6</td><td>-0.002</td><td>0.002</td><td>0</td><td>0</td><td>0</td><td>0</td><td>0</td><td>4</td></tr>\n",
       "\t<tr><td>523251</td><td>1.201</td><td>0</td><td>0</td><td>0</td><td>0</td><td>0</td><td>21</td><td>6</td><td>-0.004</td><td>0.004</td><td>0</td><td>0</td><td>0</td><td>0</td><td>0</td><td>4</td></tr>\n",
       "\t<tr><td>523252</td><td>1.048</td><td>0</td><td>0</td><td>0</td><td>0</td><td>0</td><td>21</td><td>6</td><td>-0.153</td><td>0.153</td><td>0</td><td>0</td><td>0</td><td>0</td><td>0</td><td>4</td></tr>\n",
       "\t<tr><td>523253</td><td>1.126</td><td>0</td><td>0</td><td>0</td><td>0</td><td>0</td><td>21</td><td>6</td><td> 0.078</td><td>0.078</td><td>0</td><td>0</td><td>0</td><td>0</td><td>0</td><td>4</td></tr>\n",
       "\t<tr><td>523254</td><td>2.554</td><td>0</td><td>0</td><td>0</td><td>0</td><td>0</td><td>21</td><td>6</td><td> 1.428</td><td>1.428</td><td>0</td><td>0</td><td>0</td><td>0</td><td>0</td><td>4</td></tr>\n",
       "\t<tr><td>523255</td><td>2.546</td><td>0</td><td>0</td><td>0</td><td>0</td><td>0</td><td>21</td><td>6</td><td>-0.008</td><td>0.008</td><td>0</td><td>0</td><td>0</td><td>0</td><td>0</td><td>4</td></tr>\n",
       "\t<tr><td>523256</td><td>2.543</td><td>0</td><td>0</td><td>0</td><td>0</td><td>0</td><td>21</td><td>6</td><td>-0.003</td><td>0.003</td><td>0</td><td>0</td><td>0</td><td>0</td><td>0</td><td>4</td></tr>\n",
       "\t<tr><td>523257</td><td>2.417</td><td>0</td><td>0</td><td>0</td><td>0</td><td>0</td><td>21</td><td>6</td><td>-0.126</td><td>0.126</td><td>0</td><td>0</td><td>0</td><td>0</td><td>0</td><td>4</td></tr>\n",
       "\t<tr><td>523258</td><td>0.999</td><td>0</td><td>0</td><td>0</td><td>0</td><td>0</td><td>21</td><td>6</td><td>-1.418</td><td>1.418</td><td>0</td><td>0</td><td>0</td><td>0</td><td>0</td><td>4</td></tr>\n",
       "\t<tr><td>523259</td><td>0.966</td><td>0</td><td>0</td><td>0</td><td>0</td><td>0</td><td>21</td><td>6</td><td>-0.033</td><td>0.033</td><td>0</td><td>0</td><td>0</td><td>0</td><td>0</td><td>4</td></tr>\n",
       "\t<tr><td>523260</td><td>0.964</td><td>0</td><td>0</td><td>0</td><td>0</td><td>0</td><td>21</td><td>6</td><td>-0.002</td><td>0.002</td><td>0</td><td>0</td><td>0</td><td>0</td><td>0</td><td>4</td></tr>\n",
       "</tbody>\n",
       "</table>\n"
      ],
      "text/latex": [
       "A data.frame: 417720 × 17\n",
       "\\begin{tabular}{lllllllllllllllll}\n",
       " X & load & ac & ev & oven & wash & dryer & hourofday & dayofweek & dif & absdif & max & var & entropy & nonlinear & hurst & season\\\\\n",
       " <int> & <dbl> & <int> & <int> & <int> & <int> & <int> & <int> & <int> & <dbl> & <dbl> & <dbl> & <dbl> & <dbl> & <dbl> & <dbl> & <int>\\\\\n",
       "\\hline\n",
       "\t 105541 & 2.245 & 0 & 0 & 0 & 0 & 0 & 0 & 4 &  0.987 & 0.987 & 6.215 & 3.074549 & 0.6788858 & 0.05290291 & 0.9940715 & 1\\\\\n",
       "\t 105542 & 2.259 & 0 & 0 & 0 & 0 & 0 & 0 & 4 &  0.014 & 0.014 & 6.215 & 3.172867 & 0.6674503 & 0.05482926 & 0.9941540 & 1\\\\\n",
       "\t 105543 & 2.269 & 0 & 0 & 0 & 0 & 0 & 0 & 4 &  0.010 & 0.010 & 6.215 & 3.270112 & 0.6477770 & 0.05699074 & 0.9942200 & 1\\\\\n",
       "\t 105544 & 2.268 & 0 & 0 & 0 & 0 & 0 & 0 & 4 & -0.001 & 0.001 & 6.215 & 3.303763 & 0.6292270 & 0.05760593 & 0.9941497 & 1\\\\\n",
       "\t 105545 & 2.270 & 0 & 0 & 0 & 0 & 0 & 0 & 4 &  0.002 & 0.002 & 6.215 & 3.302744 & 0.6212951 & 0.08263997 & 0.9940406 & 1\\\\\n",
       "\t 105546 & 2.259 & 0 & 0 & 0 & 0 & 0 & 0 & 4 & -0.011 & 0.011 & 6.215 & 3.298258 & 0.6269564 & 0.08978753 & 0.9939864 & 1\\\\\n",
       "\t 105547 & 2.250 & 0 & 0 & 0 & 0 & 0 & 0 & 4 & -0.009 & 0.009 & 6.215 & 3.289135 & 0.6401214 & 0.08527583 & 0.9939265 & 1\\\\\n",
       "\t 105548 & 2.251 & 0 & 0 & 0 & 0 & 0 & 0 & 4 &  0.001 & 0.001 & 6.215 & 3.238982 & 0.6519165 & 0.35420293 & 0.9927028 & 1\\\\\n",
       "\t 105549 & 2.264 & 0 & 0 & 0 & 0 & 0 & 0 & 4 &  0.013 & 0.013 & 6.215 & 3.203236 & 0.6556001 & 0.37252865 & 0.9924744 & 1\\\\\n",
       "\t 105550 & 2.277 & 0 & 0 & 0 & 0 & 0 & 0 & 4 &  0.013 & 0.013 & 6.215 & 3.196127 & 0.6500062 & 0.36657811 & 0.9923085 & 1\\\\\n",
       "\t 105551 & 2.307 & 0 & 0 & 0 & 0 & 0 & 0 & 4 &  0.030 & 0.030 & 6.215 & 3.192309 & 0.6384839 & 0.48154658 & 0.9923259 & 1\\\\\n",
       "\t 105552 & 2.384 & 0 & 0 & 0 & 0 & 0 & 0 & 4 &  0.077 & 0.077 & 6.215 & 3.170742 & 0.6277878 & 0.62884794 & 0.9922882 & 1\\\\\n",
       "\t 105553 & 2.382 & 0 & 0 & 0 & 0 & 0 & 0 & 4 & -0.002 & 0.002 & 6.215 & 3.136232 & 0.6253605 & 0.80344973 & 0.9921764 & 1\\\\\n",
       "\t 105554 & 2.441 & 0 & 0 & 0 & 0 & 0 & 0 & 4 &  0.059 & 0.059 & 6.215 & 3.093735 & 0.6333037 & 0.41483179 & 0.9926951 & 1\\\\\n",
       "\t 105555 & 2.449 & 0 & 0 & 0 & 0 & 0 & 0 & 4 &  0.008 & 0.008 & 6.215 & 3.119437 & 0.6459650 & 0.20307140 & 0.9932828 & 1\\\\\n",
       "\t 105556 & 2.440 & 0 & 0 & 0 & 0 & 0 & 0 & 4 & -0.009 & 0.009 & 6.215 & 3.159763 & 0.6551784 & 0.26465247 & 0.9934638 & 1\\\\\n",
       "\t 105557 & 2.444 & 0 & 0 & 0 & 0 & 0 & 0 & 4 &  0.004 & 0.004 & 6.215 & 3.188556 & 0.6559956 & 0.31623318 & 0.9935854 & 1\\\\\n",
       "\t 105558 & 2.424 & 0 & 0 & 0 & 0 & 0 & 0 & 4 & -0.020 & 0.020 & 6.215 & 3.193862 & 0.6487119 & 0.30789443 & 0.9936237 & 1\\\\\n",
       "\t 105559 & 2.425 & 0 & 0 & 0 & 0 & 0 & 0 & 4 &  0.001 & 0.001 & 6.215 & 3.199371 & 0.6384461 & 0.31471997 & 0.9936533 & 1\\\\\n",
       "\t 105560 & 2.432 & 0 & 0 & 0 & 0 & 0 & 0 & 4 &  0.007 & 0.007 & 6.215 & 3.205613 & 0.6325460 & 0.31136964 & 0.9936802 & 1\\\\\n",
       "\t 105561 & 2.431 & 0 & 0 & 0 & 0 & 0 & 0 & 4 & -0.001 & 0.001 & 6.215 & 3.207214 & 0.6360027 & 0.30386344 & 0.9936957 & 1\\\\\n",
       "\t 105562 & 2.418 & 0 & 0 & 0 & 0 & 0 & 0 & 4 & -0.013 & 0.013 & 6.215 & 3.206899 & 0.6463082 & 0.30483758 & 0.9937039 & 1\\\\\n",
       "\t 105563 & 2.420 & 0 & 0 & 0 & 0 & 0 & 0 & 4 &  0.002 & 0.002 & 6.215 & 3.207899 & 0.6554931 & 0.30560960 & 0.9937096 & 1\\\\\n",
       "\t 105564 & 3.361 & 1 & 0 & 0 & 0 & 0 & 0 & 4 &  0.941 & 0.941 & 6.215 & 3.208320 & 0.6568986 & 0.30550141 & 0.9937108 & 1\\\\\n",
       "\t 105565 & 6.167 & 1 & 0 & 0 & 0 & 0 & 0 & 4 &  2.806 & 2.806 & 6.215 & 3.209429 & 0.6483738 & 0.30683476 & 0.9937086 & 1\\\\\n",
       "\t 105566 & 6.204 & 1 & 0 & 0 & 0 & 0 & 0 & 4 &  0.037 & 0.037 & 6.215 & 3.210533 & 0.6323101 & 0.30647663 & 0.9937020 & 1\\\\\n",
       "\t 105567 & 6.215 & 1 & 0 & 0 & 0 & 0 & 0 & 4 &  0.011 & 0.011 & 6.215 & 3.211904 & 0.6157109 & 0.30295313 & 0.9936889 & 1\\\\\n",
       "\t 105568 & 6.207 & 1 & 0 & 0 & 0 & 0 & 0 & 4 & -0.008 & 0.008 & 6.215 & 3.210240 & 0.6082089 & 0.30235609 & 0.9936660 & 1\\\\\n",
       "\t 105569 & 6.199 & 1 & 0 & 0 & 0 & 0 & 0 & 4 & -0.008 & 0.008 & 6.215 & 3.208092 & 0.6153455 & 0.30160249 & 0.9936364 & 1\\\\\n",
       "\t 105570 & 6.178 & 1 & 0 & 0 & 0 & 0 & 0 & 4 & -0.021 & 0.021 & 6.215 & 3.206152 & 0.6315404 & 0.32994053 & 0.9936407 & 1\\\\\n",
       "\t ... & ... & ... & ... & ... & ... & ... & ... & ... & ... & ... & ... & ... & ... & ... & ... & ...\\\\\n",
       "\t 523231 & 1.396 & 0 & 0 & 0 & 0 & 0 & 21 & 6 & -0.002 & 0.002 & 0 & 0 & 0 & 0 & 0 & 4\\\\\n",
       "\t 523232 & 1.388 & 0 & 0 & 0 & 0 & 0 & 21 & 6 & -0.008 & 0.008 & 0 & 0 & 0 & 0 & 0 & 4\\\\\n",
       "\t 523233 & 1.397 & 0 & 0 & 0 & 0 & 0 & 21 & 6 &  0.009 & 0.009 & 0 & 0 & 0 & 0 & 0 & 4\\\\\n",
       "\t 523234 & 1.397 & 0 & 0 & 0 & 0 & 0 & 21 & 6 &  0.000 & 0.000 & 0 & 0 & 0 & 0 & 0 & 4\\\\\n",
       "\t 523235 & 1.395 & 0 & 0 & 0 & 0 & 0 & 21 & 6 & -0.002 & 0.002 & 0 & 0 & 0 & 0 & 0 & 4\\\\\n",
       "\t 523236 & 1.392 & 0 & 0 & 0 & 0 & 0 & 21 & 6 & -0.003 & 0.003 & 0 & 0 & 0 & 0 & 0 & 4\\\\\n",
       "\t 523237 & 1.386 & 0 & 0 & 0 & 0 & 0 & 21 & 6 & -0.006 & 0.006 & 0 & 0 & 0 & 0 & 0 & 4\\\\\n",
       "\t 523238 & 1.385 & 0 & 0 & 0 & 0 & 0 & 21 & 6 & -0.001 & 0.001 & 0 & 0 & 0 & 0 & 0 & 4\\\\\n",
       "\t 523239 & 1.383 & 0 & 0 & 0 & 0 & 0 & 21 & 6 & -0.002 & 0.002 & 0 & 0 & 0 & 0 & 0 & 4\\\\\n",
       "\t 523240 & 1.384 & 0 & 0 & 0 & 0 & 0 & 21 & 6 &  0.001 & 0.001 & 0 & 0 & 0 & 0 & 0 & 4\\\\\n",
       "\t 523241 & 1.382 & 0 & 0 & 0 & 0 & 0 & 21 & 6 & -0.002 & 0.002 & 0 & 0 & 0 & 0 & 0 & 4\\\\\n",
       "\t 523242 & 1.377 & 0 & 0 & 0 & 0 & 0 & 21 & 6 & -0.005 & 0.005 & 0 & 0 & 0 & 0 & 0 & 4\\\\\n",
       "\t 523243 & 1.379 & 0 & 0 & 0 & 0 & 0 & 21 & 6 &  0.002 & 0.002 & 0 & 0 & 0 & 0 & 0 & 4\\\\\n",
       "\t 523244 & 1.417 & 0 & 0 & 0 & 0 & 0 & 21 & 6 &  0.038 & 0.038 & 0 & 0 & 0 & 0 & 0 & 4\\\\\n",
       "\t 523245 & 1.514 & 0 & 0 & 0 & 0 & 0 & 21 & 6 &  0.097 & 0.097 & 0 & 0 & 0 & 0 & 0 & 4\\\\\n",
       "\t 523246 & 1.493 & 0 & 0 & 0 & 0 & 0 & 21 & 6 & -0.021 & 0.021 & 0 & 0 & 0 & 0 & 0 & 4\\\\\n",
       "\t 523247 & 1.480 & 0 & 0 & 0 & 0 & 0 & 21 & 6 & -0.013 & 0.013 & 0 & 0 & 0 & 0 & 0 & 4\\\\\n",
       "\t 523248 & 1.382 & 0 & 0 & 0 & 0 & 0 & 21 & 6 & -0.098 & 0.098 & 0 & 0 & 0 & 0 & 0 & 4\\\\\n",
       "\t 523249 & 1.207 & 0 & 0 & 0 & 0 & 0 & 21 & 6 & -0.175 & 0.175 & 0 & 0 & 0 & 0 & 0 & 4\\\\\n",
       "\t 523250 & 1.205 & 0 & 0 & 0 & 0 & 0 & 21 & 6 & -0.002 & 0.002 & 0 & 0 & 0 & 0 & 0 & 4\\\\\n",
       "\t 523251 & 1.201 & 0 & 0 & 0 & 0 & 0 & 21 & 6 & -0.004 & 0.004 & 0 & 0 & 0 & 0 & 0 & 4\\\\\n",
       "\t 523252 & 1.048 & 0 & 0 & 0 & 0 & 0 & 21 & 6 & -0.153 & 0.153 & 0 & 0 & 0 & 0 & 0 & 4\\\\\n",
       "\t 523253 & 1.126 & 0 & 0 & 0 & 0 & 0 & 21 & 6 &  0.078 & 0.078 & 0 & 0 & 0 & 0 & 0 & 4\\\\\n",
       "\t 523254 & 2.554 & 0 & 0 & 0 & 0 & 0 & 21 & 6 &  1.428 & 1.428 & 0 & 0 & 0 & 0 & 0 & 4\\\\\n",
       "\t 523255 & 2.546 & 0 & 0 & 0 & 0 & 0 & 21 & 6 & -0.008 & 0.008 & 0 & 0 & 0 & 0 & 0 & 4\\\\\n",
       "\t 523256 & 2.543 & 0 & 0 & 0 & 0 & 0 & 21 & 6 & -0.003 & 0.003 & 0 & 0 & 0 & 0 & 0 & 4\\\\\n",
       "\t 523257 & 2.417 & 0 & 0 & 0 & 0 & 0 & 21 & 6 & -0.126 & 0.126 & 0 & 0 & 0 & 0 & 0 & 4\\\\\n",
       "\t 523258 & 0.999 & 0 & 0 & 0 & 0 & 0 & 21 & 6 & -1.418 & 1.418 & 0 & 0 & 0 & 0 & 0 & 4\\\\\n",
       "\t 523259 & 0.966 & 0 & 0 & 0 & 0 & 0 & 21 & 6 & -0.033 & 0.033 & 0 & 0 & 0 & 0 & 0 & 4\\\\\n",
       "\t 523260 & 0.964 & 0 & 0 & 0 & 0 & 0 & 21 & 6 & -0.002 & 0.002 & 0 & 0 & 0 & 0 & 0 & 4\\\\\n",
       "\\end{tabular}\n"
      ],
      "text/markdown": [
       "\n",
       "A data.frame: 417720 × 17\n",
       "\n",
       "| X &lt;int&gt; | load &lt;dbl&gt; | ac &lt;int&gt; | ev &lt;int&gt; | oven &lt;int&gt; | wash &lt;int&gt; | dryer &lt;int&gt; | hourofday &lt;int&gt; | dayofweek &lt;int&gt; | dif &lt;dbl&gt; | absdif &lt;dbl&gt; | max &lt;dbl&gt; | var &lt;dbl&gt; | entropy &lt;dbl&gt; | nonlinear &lt;dbl&gt; | hurst &lt;dbl&gt; | season &lt;int&gt; |\n",
       "|---|---|---|---|---|---|---|---|---|---|---|---|---|---|---|---|---|\n",
       "| 105541 | 2.245 | 0 | 0 | 0 | 0 | 0 | 0 | 4 |  0.987 | 0.987 | 6.215 | 3.074549 | 0.6788858 | 0.05290291 | 0.9940715 | 1 |\n",
       "| 105542 | 2.259 | 0 | 0 | 0 | 0 | 0 | 0 | 4 |  0.014 | 0.014 | 6.215 | 3.172867 | 0.6674503 | 0.05482926 | 0.9941540 | 1 |\n",
       "| 105543 | 2.269 | 0 | 0 | 0 | 0 | 0 | 0 | 4 |  0.010 | 0.010 | 6.215 | 3.270112 | 0.6477770 | 0.05699074 | 0.9942200 | 1 |\n",
       "| 105544 | 2.268 | 0 | 0 | 0 | 0 | 0 | 0 | 4 | -0.001 | 0.001 | 6.215 | 3.303763 | 0.6292270 | 0.05760593 | 0.9941497 | 1 |\n",
       "| 105545 | 2.270 | 0 | 0 | 0 | 0 | 0 | 0 | 4 |  0.002 | 0.002 | 6.215 | 3.302744 | 0.6212951 | 0.08263997 | 0.9940406 | 1 |\n",
       "| 105546 | 2.259 | 0 | 0 | 0 | 0 | 0 | 0 | 4 | -0.011 | 0.011 | 6.215 | 3.298258 | 0.6269564 | 0.08978753 | 0.9939864 | 1 |\n",
       "| 105547 | 2.250 | 0 | 0 | 0 | 0 | 0 | 0 | 4 | -0.009 | 0.009 | 6.215 | 3.289135 | 0.6401214 | 0.08527583 | 0.9939265 | 1 |\n",
       "| 105548 | 2.251 | 0 | 0 | 0 | 0 | 0 | 0 | 4 |  0.001 | 0.001 | 6.215 | 3.238982 | 0.6519165 | 0.35420293 | 0.9927028 | 1 |\n",
       "| 105549 | 2.264 | 0 | 0 | 0 | 0 | 0 | 0 | 4 |  0.013 | 0.013 | 6.215 | 3.203236 | 0.6556001 | 0.37252865 | 0.9924744 | 1 |\n",
       "| 105550 | 2.277 | 0 | 0 | 0 | 0 | 0 | 0 | 4 |  0.013 | 0.013 | 6.215 | 3.196127 | 0.6500062 | 0.36657811 | 0.9923085 | 1 |\n",
       "| 105551 | 2.307 | 0 | 0 | 0 | 0 | 0 | 0 | 4 |  0.030 | 0.030 | 6.215 | 3.192309 | 0.6384839 | 0.48154658 | 0.9923259 | 1 |\n",
       "| 105552 | 2.384 | 0 | 0 | 0 | 0 | 0 | 0 | 4 |  0.077 | 0.077 | 6.215 | 3.170742 | 0.6277878 | 0.62884794 | 0.9922882 | 1 |\n",
       "| 105553 | 2.382 | 0 | 0 | 0 | 0 | 0 | 0 | 4 | -0.002 | 0.002 | 6.215 | 3.136232 | 0.6253605 | 0.80344973 | 0.9921764 | 1 |\n",
       "| 105554 | 2.441 | 0 | 0 | 0 | 0 | 0 | 0 | 4 |  0.059 | 0.059 | 6.215 | 3.093735 | 0.6333037 | 0.41483179 | 0.9926951 | 1 |\n",
       "| 105555 | 2.449 | 0 | 0 | 0 | 0 | 0 | 0 | 4 |  0.008 | 0.008 | 6.215 | 3.119437 | 0.6459650 | 0.20307140 | 0.9932828 | 1 |\n",
       "| 105556 | 2.440 | 0 | 0 | 0 | 0 | 0 | 0 | 4 | -0.009 | 0.009 | 6.215 | 3.159763 | 0.6551784 | 0.26465247 | 0.9934638 | 1 |\n",
       "| 105557 | 2.444 | 0 | 0 | 0 | 0 | 0 | 0 | 4 |  0.004 | 0.004 | 6.215 | 3.188556 | 0.6559956 | 0.31623318 | 0.9935854 | 1 |\n",
       "| 105558 | 2.424 | 0 | 0 | 0 | 0 | 0 | 0 | 4 | -0.020 | 0.020 | 6.215 | 3.193862 | 0.6487119 | 0.30789443 | 0.9936237 | 1 |\n",
       "| 105559 | 2.425 | 0 | 0 | 0 | 0 | 0 | 0 | 4 |  0.001 | 0.001 | 6.215 | 3.199371 | 0.6384461 | 0.31471997 | 0.9936533 | 1 |\n",
       "| 105560 | 2.432 | 0 | 0 | 0 | 0 | 0 | 0 | 4 |  0.007 | 0.007 | 6.215 | 3.205613 | 0.6325460 | 0.31136964 | 0.9936802 | 1 |\n",
       "| 105561 | 2.431 | 0 | 0 | 0 | 0 | 0 | 0 | 4 | -0.001 | 0.001 | 6.215 | 3.207214 | 0.6360027 | 0.30386344 | 0.9936957 | 1 |\n",
       "| 105562 | 2.418 | 0 | 0 | 0 | 0 | 0 | 0 | 4 | -0.013 | 0.013 | 6.215 | 3.206899 | 0.6463082 | 0.30483758 | 0.9937039 | 1 |\n",
       "| 105563 | 2.420 | 0 | 0 | 0 | 0 | 0 | 0 | 4 |  0.002 | 0.002 | 6.215 | 3.207899 | 0.6554931 | 0.30560960 | 0.9937096 | 1 |\n",
       "| 105564 | 3.361 | 1 | 0 | 0 | 0 | 0 | 0 | 4 |  0.941 | 0.941 | 6.215 | 3.208320 | 0.6568986 | 0.30550141 | 0.9937108 | 1 |\n",
       "| 105565 | 6.167 | 1 | 0 | 0 | 0 | 0 | 0 | 4 |  2.806 | 2.806 | 6.215 | 3.209429 | 0.6483738 | 0.30683476 | 0.9937086 | 1 |\n",
       "| 105566 | 6.204 | 1 | 0 | 0 | 0 | 0 | 0 | 4 |  0.037 | 0.037 | 6.215 | 3.210533 | 0.6323101 | 0.30647663 | 0.9937020 | 1 |\n",
       "| 105567 | 6.215 | 1 | 0 | 0 | 0 | 0 | 0 | 4 |  0.011 | 0.011 | 6.215 | 3.211904 | 0.6157109 | 0.30295313 | 0.9936889 | 1 |\n",
       "| 105568 | 6.207 | 1 | 0 | 0 | 0 | 0 | 0 | 4 | -0.008 | 0.008 | 6.215 | 3.210240 | 0.6082089 | 0.30235609 | 0.9936660 | 1 |\n",
       "| 105569 | 6.199 | 1 | 0 | 0 | 0 | 0 | 0 | 4 | -0.008 | 0.008 | 6.215 | 3.208092 | 0.6153455 | 0.30160249 | 0.9936364 | 1 |\n",
       "| 105570 | 6.178 | 1 | 0 | 0 | 0 | 0 | 0 | 4 | -0.021 | 0.021 | 6.215 | 3.206152 | 0.6315404 | 0.32994053 | 0.9936407 | 1 |\n",
       "| ... | ... | ... | ... | ... | ... | ... | ... | ... | ... | ... | ... | ... | ... | ... | ... | ... |\n",
       "| 523231 | 1.396 | 0 | 0 | 0 | 0 | 0 | 21 | 6 | -0.002 | 0.002 | 0 | 0 | 0 | 0 | 0 | 4 |\n",
       "| 523232 | 1.388 | 0 | 0 | 0 | 0 | 0 | 21 | 6 | -0.008 | 0.008 | 0 | 0 | 0 | 0 | 0 | 4 |\n",
       "| 523233 | 1.397 | 0 | 0 | 0 | 0 | 0 | 21 | 6 |  0.009 | 0.009 | 0 | 0 | 0 | 0 | 0 | 4 |\n",
       "| 523234 | 1.397 | 0 | 0 | 0 | 0 | 0 | 21 | 6 |  0.000 | 0.000 | 0 | 0 | 0 | 0 | 0 | 4 |\n",
       "| 523235 | 1.395 | 0 | 0 | 0 | 0 | 0 | 21 | 6 | -0.002 | 0.002 | 0 | 0 | 0 | 0 | 0 | 4 |\n",
       "| 523236 | 1.392 | 0 | 0 | 0 | 0 | 0 | 21 | 6 | -0.003 | 0.003 | 0 | 0 | 0 | 0 | 0 | 4 |\n",
       "| 523237 | 1.386 | 0 | 0 | 0 | 0 | 0 | 21 | 6 | -0.006 | 0.006 | 0 | 0 | 0 | 0 | 0 | 4 |\n",
       "| 523238 | 1.385 | 0 | 0 | 0 | 0 | 0 | 21 | 6 | -0.001 | 0.001 | 0 | 0 | 0 | 0 | 0 | 4 |\n",
       "| 523239 | 1.383 | 0 | 0 | 0 | 0 | 0 | 21 | 6 | -0.002 | 0.002 | 0 | 0 | 0 | 0 | 0 | 4 |\n",
       "| 523240 | 1.384 | 0 | 0 | 0 | 0 | 0 | 21 | 6 |  0.001 | 0.001 | 0 | 0 | 0 | 0 | 0 | 4 |\n",
       "| 523241 | 1.382 | 0 | 0 | 0 | 0 | 0 | 21 | 6 | -0.002 | 0.002 | 0 | 0 | 0 | 0 | 0 | 4 |\n",
       "| 523242 | 1.377 | 0 | 0 | 0 | 0 | 0 | 21 | 6 | -0.005 | 0.005 | 0 | 0 | 0 | 0 | 0 | 4 |\n",
       "| 523243 | 1.379 | 0 | 0 | 0 | 0 | 0 | 21 | 6 |  0.002 | 0.002 | 0 | 0 | 0 | 0 | 0 | 4 |\n",
       "| 523244 | 1.417 | 0 | 0 | 0 | 0 | 0 | 21 | 6 |  0.038 | 0.038 | 0 | 0 | 0 | 0 | 0 | 4 |\n",
       "| 523245 | 1.514 | 0 | 0 | 0 | 0 | 0 | 21 | 6 |  0.097 | 0.097 | 0 | 0 | 0 | 0 | 0 | 4 |\n",
       "| 523246 | 1.493 | 0 | 0 | 0 | 0 | 0 | 21 | 6 | -0.021 | 0.021 | 0 | 0 | 0 | 0 | 0 | 4 |\n",
       "| 523247 | 1.480 | 0 | 0 | 0 | 0 | 0 | 21 | 6 | -0.013 | 0.013 | 0 | 0 | 0 | 0 | 0 | 4 |\n",
       "| 523248 | 1.382 | 0 | 0 | 0 | 0 | 0 | 21 | 6 | -0.098 | 0.098 | 0 | 0 | 0 | 0 | 0 | 4 |\n",
       "| 523249 | 1.207 | 0 | 0 | 0 | 0 | 0 | 21 | 6 | -0.175 | 0.175 | 0 | 0 | 0 | 0 | 0 | 4 |\n",
       "| 523250 | 1.205 | 0 | 0 | 0 | 0 | 0 | 21 | 6 | -0.002 | 0.002 | 0 | 0 | 0 | 0 | 0 | 4 |\n",
       "| 523251 | 1.201 | 0 | 0 | 0 | 0 | 0 | 21 | 6 | -0.004 | 0.004 | 0 | 0 | 0 | 0 | 0 | 4 |\n",
       "| 523252 | 1.048 | 0 | 0 | 0 | 0 | 0 | 21 | 6 | -0.153 | 0.153 | 0 | 0 | 0 | 0 | 0 | 4 |\n",
       "| 523253 | 1.126 | 0 | 0 | 0 | 0 | 0 | 21 | 6 |  0.078 | 0.078 | 0 | 0 | 0 | 0 | 0 | 4 |\n",
       "| 523254 | 2.554 | 0 | 0 | 0 | 0 | 0 | 21 | 6 |  1.428 | 1.428 | 0 | 0 | 0 | 0 | 0 | 4 |\n",
       "| 523255 | 2.546 | 0 | 0 | 0 | 0 | 0 | 21 | 6 | -0.008 | 0.008 | 0 | 0 | 0 | 0 | 0 | 4 |\n",
       "| 523256 | 2.543 | 0 | 0 | 0 | 0 | 0 | 21 | 6 | -0.003 | 0.003 | 0 | 0 | 0 | 0 | 0 | 4 |\n",
       "| 523257 | 2.417 | 0 | 0 | 0 | 0 | 0 | 21 | 6 | -0.126 | 0.126 | 0 | 0 | 0 | 0 | 0 | 4 |\n",
       "| 523258 | 0.999 | 0 | 0 | 0 | 0 | 0 | 21 | 6 | -1.418 | 1.418 | 0 | 0 | 0 | 0 | 0 | 4 |\n",
       "| 523259 | 0.966 | 0 | 0 | 0 | 0 | 0 | 21 | 6 | -0.033 | 0.033 | 0 | 0 | 0 | 0 | 0 | 4 |\n",
       "| 523260 | 0.964 | 0 | 0 | 0 | 0 | 0 | 21 | 6 | -0.002 | 0.002 | 0 | 0 | 0 | 0 | 0 | 4 |\n",
       "\n"
      ],
      "text/plain": [
       "       X      load  ac  ev  oven wash dryer hourofday dayofweek dif    absdif\n",
       "1      105541 2.245 0   0   0    0    0     0         4          0.987 0.987 \n",
       "2      105542 2.259 0   0   0    0    0     0         4          0.014 0.014 \n",
       "3      105543 2.269 0   0   0    0    0     0         4          0.010 0.010 \n",
       "4      105544 2.268 0   0   0    0    0     0         4         -0.001 0.001 \n",
       "5      105545 2.270 0   0   0    0    0     0         4          0.002 0.002 \n",
       "6      105546 2.259 0   0   0    0    0     0         4         -0.011 0.011 \n",
       "7      105547 2.250 0   0   0    0    0     0         4         -0.009 0.009 \n",
       "8      105548 2.251 0   0   0    0    0     0         4          0.001 0.001 \n",
       "9      105549 2.264 0   0   0    0    0     0         4          0.013 0.013 \n",
       "10     105550 2.277 0   0   0    0    0     0         4          0.013 0.013 \n",
       "11     105551 2.307 0   0   0    0    0     0         4          0.030 0.030 \n",
       "12     105552 2.384 0   0   0    0    0     0         4          0.077 0.077 \n",
       "13     105553 2.382 0   0   0    0    0     0         4         -0.002 0.002 \n",
       "14     105554 2.441 0   0   0    0    0     0         4          0.059 0.059 \n",
       "15     105555 2.449 0   0   0    0    0     0         4          0.008 0.008 \n",
       "16     105556 2.440 0   0   0    0    0     0         4         -0.009 0.009 \n",
       "17     105557 2.444 0   0   0    0    0     0         4          0.004 0.004 \n",
       "18     105558 2.424 0   0   0    0    0     0         4         -0.020 0.020 \n",
       "19     105559 2.425 0   0   0    0    0     0         4          0.001 0.001 \n",
       "20     105560 2.432 0   0   0    0    0     0         4          0.007 0.007 \n",
       "21     105561 2.431 0   0   0    0    0     0         4         -0.001 0.001 \n",
       "22     105562 2.418 0   0   0    0    0     0         4         -0.013 0.013 \n",
       "23     105563 2.420 0   0   0    0    0     0         4          0.002 0.002 \n",
       "24     105564 3.361 1   0   0    0    0     0         4          0.941 0.941 \n",
       "25     105565 6.167 1   0   0    0    0     0         4          2.806 2.806 \n",
       "26     105566 6.204 1   0   0    0    0     0         4          0.037 0.037 \n",
       "27     105567 6.215 1   0   0    0    0     0         4          0.011 0.011 \n",
       "28     105568 6.207 1   0   0    0    0     0         4         -0.008 0.008 \n",
       "29     105569 6.199 1   0   0    0    0     0         4         -0.008 0.008 \n",
       "30     105570 6.178 1   0   0    0    0     0         4         -0.021 0.021 \n",
       "...    ...    ...   ... ... ...  ...  ...   ...       ...       ...    ...   \n",
       "417691 523231 1.396 0   0   0    0    0     21        6         -0.002 0.002 \n",
       "417692 523232 1.388 0   0   0    0    0     21        6         -0.008 0.008 \n",
       "417693 523233 1.397 0   0   0    0    0     21        6          0.009 0.009 \n",
       "417694 523234 1.397 0   0   0    0    0     21        6          0.000 0.000 \n",
       "417695 523235 1.395 0   0   0    0    0     21        6         -0.002 0.002 \n",
       "417696 523236 1.392 0   0   0    0    0     21        6         -0.003 0.003 \n",
       "417697 523237 1.386 0   0   0    0    0     21        6         -0.006 0.006 \n",
       "417698 523238 1.385 0   0   0    0    0     21        6         -0.001 0.001 \n",
       "417699 523239 1.383 0   0   0    0    0     21        6         -0.002 0.002 \n",
       "417700 523240 1.384 0   0   0    0    0     21        6          0.001 0.001 \n",
       "417701 523241 1.382 0   0   0    0    0     21        6         -0.002 0.002 \n",
       "417702 523242 1.377 0   0   0    0    0     21        6         -0.005 0.005 \n",
       "417703 523243 1.379 0   0   0    0    0     21        6          0.002 0.002 \n",
       "417704 523244 1.417 0   0   0    0    0     21        6          0.038 0.038 \n",
       "417705 523245 1.514 0   0   0    0    0     21        6          0.097 0.097 \n",
       "417706 523246 1.493 0   0   0    0    0     21        6         -0.021 0.021 \n",
       "417707 523247 1.480 0   0   0    0    0     21        6         -0.013 0.013 \n",
       "417708 523248 1.382 0   0   0    0    0     21        6         -0.098 0.098 \n",
       "417709 523249 1.207 0   0   0    0    0     21        6         -0.175 0.175 \n",
       "417710 523250 1.205 0   0   0    0    0     21        6         -0.002 0.002 \n",
       "417711 523251 1.201 0   0   0    0    0     21        6         -0.004 0.004 \n",
       "417712 523252 1.048 0   0   0    0    0     21        6         -0.153 0.153 \n",
       "417713 523253 1.126 0   0   0    0    0     21        6          0.078 0.078 \n",
       "417714 523254 2.554 0   0   0    0    0     21        6          1.428 1.428 \n",
       "417715 523255 2.546 0   0   0    0    0     21        6         -0.008 0.008 \n",
       "417716 523256 2.543 0   0   0    0    0     21        6         -0.003 0.003 \n",
       "417717 523257 2.417 0   0   0    0    0     21        6         -0.126 0.126 \n",
       "417718 523258 0.999 0   0   0    0    0     21        6         -1.418 1.418 \n",
       "417719 523259 0.966 0   0   0    0    0     21        6         -0.033 0.033 \n",
       "417720 523260 0.964 0   0   0    0    0     21        6         -0.002 0.002 \n",
       "       max   var      entropy   nonlinear  hurst     season\n",
       "1      6.215 3.074549 0.6788858 0.05290291 0.9940715 1     \n",
       "2      6.215 3.172867 0.6674503 0.05482926 0.9941540 1     \n",
       "3      6.215 3.270112 0.6477770 0.05699074 0.9942200 1     \n",
       "4      6.215 3.303763 0.6292270 0.05760593 0.9941497 1     \n",
       "5      6.215 3.302744 0.6212951 0.08263997 0.9940406 1     \n",
       "6      6.215 3.298258 0.6269564 0.08978753 0.9939864 1     \n",
       "7      6.215 3.289135 0.6401214 0.08527583 0.9939265 1     \n",
       "8      6.215 3.238982 0.6519165 0.35420293 0.9927028 1     \n",
       "9      6.215 3.203236 0.6556001 0.37252865 0.9924744 1     \n",
       "10     6.215 3.196127 0.6500062 0.36657811 0.9923085 1     \n",
       "11     6.215 3.192309 0.6384839 0.48154658 0.9923259 1     \n",
       "12     6.215 3.170742 0.6277878 0.62884794 0.9922882 1     \n",
       "13     6.215 3.136232 0.6253605 0.80344973 0.9921764 1     \n",
       "14     6.215 3.093735 0.6333037 0.41483179 0.9926951 1     \n",
       "15     6.215 3.119437 0.6459650 0.20307140 0.9932828 1     \n",
       "16     6.215 3.159763 0.6551784 0.26465247 0.9934638 1     \n",
       "17     6.215 3.188556 0.6559956 0.31623318 0.9935854 1     \n",
       "18     6.215 3.193862 0.6487119 0.30789443 0.9936237 1     \n",
       "19     6.215 3.199371 0.6384461 0.31471997 0.9936533 1     \n",
       "20     6.215 3.205613 0.6325460 0.31136964 0.9936802 1     \n",
       "21     6.215 3.207214 0.6360027 0.30386344 0.9936957 1     \n",
       "22     6.215 3.206899 0.6463082 0.30483758 0.9937039 1     \n",
       "23     6.215 3.207899 0.6554931 0.30560960 0.9937096 1     \n",
       "24     6.215 3.208320 0.6568986 0.30550141 0.9937108 1     \n",
       "25     6.215 3.209429 0.6483738 0.30683476 0.9937086 1     \n",
       "26     6.215 3.210533 0.6323101 0.30647663 0.9937020 1     \n",
       "27     6.215 3.211904 0.6157109 0.30295313 0.9936889 1     \n",
       "28     6.215 3.210240 0.6082089 0.30235609 0.9936660 1     \n",
       "29     6.215 3.208092 0.6153455 0.30160249 0.9936364 1     \n",
       "30     6.215 3.206152 0.6315404 0.32994053 0.9936407 1     \n",
       "...    ...   ...      ...       ...        ...       ...   \n",
       "417691 0     0        0         0          0         4     \n",
       "417692 0     0        0         0          0         4     \n",
       "417693 0     0        0         0          0         4     \n",
       "417694 0     0        0         0          0         4     \n",
       "417695 0     0        0         0          0         4     \n",
       "417696 0     0        0         0          0         4     \n",
       "417697 0     0        0         0          0         4     \n",
       "417698 0     0        0         0          0         4     \n",
       "417699 0     0        0         0          0         4     \n",
       "417700 0     0        0         0          0         4     \n",
       "417701 0     0        0         0          0         4     \n",
       "417702 0     0        0         0          0         4     \n",
       "417703 0     0        0         0          0         4     \n",
       "417704 0     0        0         0          0         4     \n",
       "417705 0     0        0         0          0         4     \n",
       "417706 0     0        0         0          0         4     \n",
       "417707 0     0        0         0          0         4     \n",
       "417708 0     0        0         0          0         4     \n",
       "417709 0     0        0         0          0         4     \n",
       "417710 0     0        0         0          0         4     \n",
       "417711 0     0        0         0          0         4     \n",
       "417712 0     0        0         0          0         4     \n",
       "417713 0     0        0         0          0         4     \n",
       "417714 0     0        0         0          0         4     \n",
       "417715 0     0        0         0          0         4     \n",
       "417716 0     0        0         0          0         4     \n",
       "417717 0     0        0         0          0         4     \n",
       "417718 0     0        0         0          0         4     \n",
       "417719 0     0        0         0          0         4     \n",
       "417720 0     0        0         0          0         4     "
      ]
     },
     "metadata": {},
     "output_type": "display_data"
    }
   ],
   "source": [
    "our_train"
   ]
  },
  {
   "cell_type": "code",
   "execution_count": 25,
   "metadata": {},
   "outputs": [],
   "source": [
    "our_gmm = GMM(whole,gaussian_comps = 10,dist_mode = \"eucl_dist\",seed_mode = \"random_subset\",\n",
    "             km_iter = 10,em_iter = 5,verbose = FALSE,var_floor = 1e-10,seed = 1)"
   ]
  },
  {
   "cell_type": "code",
   "execution_count": 26,
   "metadata": {},
   "outputs": [],
   "source": [
    "gmm_pred = predict_GMM(whole, our_gmm$centroids, our_gmm$covariance_matrices, our_gmm$weights)"
   ]
  },
  {
   "cell_type": "code",
   "execution_count": 27,
   "metadata": {},
   "outputs": [],
   "source": [
    "whole$our_gmm_label = as.matrix(gmm_pred)[3,]$cluster_labels\n",
    "our_test$our_gmm_label = whole$our_gmm_label[1:our_test.len]\n",
    "our_train$our_gmm_label = whole$our_gmm_label[(our_test.len+1):whole.len]"
   ]
  },
  {
   "cell_type": "markdown",
   "metadata": {},
   "source": [
    "To generate more new features, we use Gaussian Mixture Model to generate latent variables for the data in whole. Gaussian Mixture Model uses a probability distribution to estimate the likelihood of a given point in a continuous set. Since there are 10 original features, we set the number of gaussian components at 10."
   ]
  },
  {
   "cell_type": "code",
   "execution_count": 28,
   "metadata": {
    "scrolled": true
   },
   "outputs": [
    {
     "name": "stderr",
     "output_type": "stream",
     "text": [
      "`summarise()` ungrouping output (override with `.groups` argument)\n",
      "\n"
     ]
    },
    {
     "data": {
      "image/png": "[encoded data removed]",
      "text/plain": [
       "plot without title"
      ]
     },
     "metadata": {
      "image/png": {
       "height": 420,
       "width": 420
      }
     },
     "output_type": "display_data"
    }
   ],
   "source": [
    "by.gmm <- our_train %>% group_by(our_gmm_label)\n",
    "pergmm = summarise(by.gmm,\n",
    "    ac = sum(ac),\n",
    "    ev = sum(ev),\n",
    "    oven = sum(oven),\n",
    "    wash = sum(wash),\n",
    "    dryer = sum(dryer)\n",
    ")\n",
    "melt.gmm = melt(pergmm, id='our_gmm_label')\n",
    "ggplot(melt.gmm) + geom_line(aes(x=our_gmm_label, y=value, col=variable)) + theme_minimal()"
   ]
  },
  {
   "cell_type": "markdown",
   "metadata": {},
   "source": [
    "AC responded violently to the newly generated labels: it reaches its peak and bottom at some of the labels. Oven, wash and dryer responded heavily to the labels as well, while ev showed little correlation with the newly generated labels."
   ]
  },
  {
   "cell_type": "code",
   "execution_count": 29,
   "metadata": {},
   "outputs": [],
   "source": [
    "# reshape the processed data frame \n",
    "featuremender = function(newcolumn) {\n",
    "    newcolumn = as.matrix(newcolumn)\n",
    "    w = dim(newcolumn)[2]\n",
    "    mend = matrix(rep(0, w*30), nrow=30)\n",
    "    newcolumn = rbind(mend, newcolumn)\n",
    "    newcolumn = rbind(newcolumn, mend)\n",
    "    return(newcolumn)\n",
    "}"
   ]
  },
  {
   "cell_type": "markdown",
   "metadata": {},
   "source": [
    "Given the fact that some of the newly generated features have multiple values, we need an auxiliary function to help mend the values together. The function featuremender takes in new column(s) and convert them into a matrix. Use the width of the matrix to generate a temporary mending matrix consists of zeros of length 30, which is the neighbourhood time window of 30 minutes around each load data point, and width the same as the width of the new column matrix. Then we attach the temporary mending matrix of zeros to the top and bottom of the new column matrix such that the first and last 30 rows are all zeros.  \n",
    "\n",
    "Since the results of newly generated feature columns have no value for the first and last 30 rows, i.e. it cannot reach any result within the first and last neighbourhood time window, we use featuremender to replace the first and last 30 rows as zeros.\n"
   ]
  },
  {
   "cell_type": "code",
   "execution_count": 30,
   "metadata": {},
   "outputs": [],
   "source": [
    "# zoo with width = 61 based on window size\n",
    "our_col = rollapply(zoo(whole$load), width=61, FUN = lumpiness)"
   ]
  },
  {
   "cell_type": "markdown",
   "metadata": {},
   "source": [
    "width=61 is because of the periodicity of 0.7 hour, the value should not be greater than 2 cycles, which is 82. After debugging, it is found that 61 has a better performance"
   ]
  },
  {
   "cell_type": "markdown",
   "metadata": {},
   "source": [
    "After that,We perform feature selection according to the features given in the tsfeature library and check the correlation between this feature and appliances.Finally, we keep 4 different features lumpiness,my_entropy,diff1_acf1,x_acf1 because they have relatively strong correlation with the appliances and we can make better prediction with them. The correlation between these 4 features and ac are -0.12,-0.09,0.15,0.17 respectively."
   ]
  },
  {
   "cell_type": "code",
   "execution_count": 31,
   "metadata": {},
   "outputs": [],
   "source": [
    "# add the new feature to the two data frame\n",
    "our_col = featuremender(our_col)"
   ]
  },
  {
   "cell_type": "code",
   "execution_count": 32,
   "metadata": {},
   "outputs": [
    {
     "data": {
      "text/html": [
       "<table>\n",
       "<caption>A matrix: 5 × 1 of type dbl</caption>\n",
       "<tbody>\n",
       "\t<tr><th scope=row>ac</th><td>-0.12844093</td></tr>\n",
       "\t<tr><th scope=row>ev</th><td> 0.02479681</td></tr>\n",
       "\t<tr><th scope=row>oven</th><td>-0.02933683</td></tr>\n",
       "\t<tr><th scope=row>wash</th><td>-0.00626104</td></tr>\n",
       "\t<tr><th scope=row>dryer</th><td>-0.01714648</td></tr>\n",
       "</tbody>\n",
       "</table>\n"
      ],
      "text/latex": [
       "A matrix: 5 × 1 of type dbl\n",
       "\\begin{tabular}{r|l}\n",
       "\tac & -0.12844093\\\\\n",
       "\tev &  0.02479681\\\\\n",
       "\toven & -0.02933683\\\\\n",
       "\twash & -0.00626104\\\\\n",
       "\tdryer & -0.01714648\\\\\n",
       "\\end{tabular}\n"
      ],
      "text/markdown": [
       "\n",
       "A matrix: 5 × 1 of type dbl\n",
       "\n",
       "| ac | -0.12844093 |\n",
       "| ev |  0.02479681 |\n",
       "| oven | -0.02933683 |\n",
       "| wash | -0.00626104 |\n",
       "| dryer | -0.01714648 |\n",
       "\n"
      ],
      "text/plain": [
       "      [,1]       \n",
       "ac    -0.12844093\n",
       "ev     0.02479681\n",
       "oven  -0.02933683\n",
       "wash  -0.00626104\n",
       "dryer -0.01714648"
      ]
     },
     "metadata": {},
     "output_type": "display_data"
    }
   ],
   "source": [
    "# add the identified feature to the data frame\n",
    "our_test$lumpiness = our_col[1:our_test.len, ]\n",
    "our_train$lumpiness = our_col[(our_test.len+1):whole.len, ]\n",
    "# check the correlation bewteen the new feature and the appliances\n",
    "cor(our_train[,c(3:7)], our_train$lumpiness)"
   ]
  },
  {
   "cell_type": "code",
   "execution_count": 33,
   "metadata": {},
   "outputs": [],
   "source": [
    "# zoo with width = 61 based on window size\n",
    "our_col = rollapply(zoo(whole$load), width=61, FUN = entropy)"
   ]
  },
  {
   "cell_type": "code",
   "execution_count": 34,
   "metadata": {},
   "outputs": [
    {
     "data": {
      "text/html": [
       "<table>\n",
       "<caption>A matrix: 5 × 1 of type dbl</caption>\n",
       "<tbody>\n",
       "\t<tr><th scope=row>ac</th><td>-0.091754273</td></tr>\n",
       "\t<tr><th scope=row>ev</th><td>-0.018042326</td></tr>\n",
       "\t<tr><th scope=row>oven</th><td> 0.078172089</td></tr>\n",
       "\t<tr><th scope=row>wash</th><td> 0.019498952</td></tr>\n",
       "\t<tr><th scope=row>dryer</th><td>-0.003278895</td></tr>\n",
       "</tbody>\n",
       "</table>\n"
      ],
      "text/latex": [
       "A matrix: 5 × 1 of type dbl\n",
       "\\begin{tabular}{r|l}\n",
       "\tac & -0.091754273\\\\\n",
       "\tev & -0.018042326\\\\\n",
       "\toven &  0.078172089\\\\\n",
       "\twash &  0.019498952\\\\\n",
       "\tdryer & -0.003278895\\\\\n",
       "\\end{tabular}\n"
      ],
      "text/markdown": [
       "\n",
       "A matrix: 5 × 1 of type dbl\n",
       "\n",
       "| ac | -0.091754273 |\n",
       "| ev | -0.018042326 |\n",
       "| oven |  0.078172089 |\n",
       "| wash |  0.019498952 |\n",
       "| dryer | -0.003278895 |\n",
       "\n"
      ],
      "text/plain": [
       "      [,1]        \n",
       "ac    -0.091754273\n",
       "ev    -0.018042326\n",
       "oven   0.078172089\n",
       "wash   0.019498952\n",
       "dryer -0.003278895"
      ]
     },
     "metadata": {},
     "output_type": "display_data"
    }
   ],
   "source": [
    "# add the new feature to the two data frame\n",
    "our_col = featuremender(our_col)\n",
    "# add the identified feature to the data frame\n",
    "our_test$my_entropy = our_col[1:our_test.len, ]\n",
    "our_train$my_entropy = our_col[(our_test.len+1):whole.len, ]\n",
    "# check the correlation bewteen the new feature and the appliances\n",
    "cor(our_train[,c(3:7)], our_train$my_entropy)"
   ]
  },
  {
   "cell_type": "code",
   "execution_count": 35,
   "metadata": {},
   "outputs": [],
   "source": [
    "# zoo with width = 61 based on window size\n",
    "our_col = rollapply(zoo(whole$load), width=61, FUN = acf_features)"
   ]
  },
  {
   "cell_type": "code",
   "execution_count": 36,
   "metadata": {},
   "outputs": [
    {
     "data": {
      "text/html": [
       "<table>\n",
       "<caption>A matrix: 5 × 1 of type dbl</caption>\n",
       "<tbody>\n",
       "\t<tr><th scope=row>ac</th><td> 0.15470112</td></tr>\n",
       "\t<tr><th scope=row>ev</th><td>-0.01396371</td></tr>\n",
       "\t<tr><th scope=row>oven</th><td>-0.04730876</td></tr>\n",
       "\t<tr><th scope=row>wash</th><td>-0.04464189</td></tr>\n",
       "\t<tr><th scope=row>dryer</th><td>-0.07464707</td></tr>\n",
       "</tbody>\n",
       "</table>\n"
      ],
      "text/latex": [
       "A matrix: 5 × 1 of type dbl\n",
       "\\begin{tabular}{r|l}\n",
       "\tac &  0.15470112\\\\\n",
       "\tev & -0.01396371\\\\\n",
       "\toven & -0.04730876\\\\\n",
       "\twash & -0.04464189\\\\\n",
       "\tdryer & -0.07464707\\\\\n",
       "\\end{tabular}\n"
      ],
      "text/markdown": [
       "\n",
       "A matrix: 5 × 1 of type dbl\n",
       "\n",
       "| ac |  0.15470112 |\n",
       "| ev | -0.01396371 |\n",
       "| oven | -0.04730876 |\n",
       "| wash | -0.04464189 |\n",
       "| dryer | -0.07464707 |\n",
       "\n"
      ],
      "text/plain": [
       "      [,1]       \n",
       "ac     0.15470112\n",
       "ev    -0.01396371\n",
       "oven  -0.04730876\n",
       "wash  -0.04464189\n",
       "dryer -0.07464707"
      ]
     },
     "metadata": {},
     "output_type": "display_data"
    }
   ],
   "source": [
    "# add the new feature to the two data frame\n",
    "our_col = featuremender(our_col)\n",
    "# add the identified feature to the data frame\n",
    "our_test$diff1_acf1 = our_col[1:our_test.len,'diff1_acf1' ]\n",
    "our_train$diff1_acf1 = our_col[(our_test.len+1):whole.len, 'diff1_acf1']\n",
    "# check the correlation bewteen the new feature and the appliances\n",
    "cor(our_train[,c(3:7)], our_train$diff1_acf1)"
   ]
  },
  {
   "cell_type": "code",
   "execution_count": 37,
   "metadata": {},
   "outputs": [
    {
     "data": {
      "text/html": [
       "<table>\n",
       "<caption>A matrix: 5 × 1 of type dbl</caption>\n",
       "<tbody>\n",
       "\t<tr><th scope=row>ac</th><td> 0.17889422</td></tr>\n",
       "\t<tr><th scope=row>ev</th><td>-0.01386890</td></tr>\n",
       "\t<tr><th scope=row>oven</th><td>-0.07899032</td></tr>\n",
       "\t<tr><th scope=row>wash</th><td>-0.01506398</td></tr>\n",
       "\t<tr><th scope=row>dryer</th><td>-0.02836540</td></tr>\n",
       "</tbody>\n",
       "</table>\n"
      ],
      "text/latex": [
       "A matrix: 5 × 1 of type dbl\n",
       "\\begin{tabular}{r|l}\n",
       "\tac &  0.17889422\\\\\n",
       "\tev & -0.01386890\\\\\n",
       "\toven & -0.07899032\\\\\n",
       "\twash & -0.01506398\\\\\n",
       "\tdryer & -0.02836540\\\\\n",
       "\\end{tabular}\n"
      ],
      "text/markdown": [
       "\n",
       "A matrix: 5 × 1 of type dbl\n",
       "\n",
       "| ac |  0.17889422 |\n",
       "| ev | -0.01386890 |\n",
       "| oven | -0.07899032 |\n",
       "| wash | -0.01506398 |\n",
       "| dryer | -0.02836540 |\n",
       "\n"
      ],
      "text/plain": [
       "      [,1]       \n",
       "ac     0.17889422\n",
       "ev    -0.01386890\n",
       "oven  -0.07899032\n",
       "wash  -0.01506398\n",
       "dryer -0.02836540"
      ]
     },
     "metadata": {},
     "output_type": "display_data"
    }
   ],
   "source": [
    "# add the identified feature to the data frame\n",
    "our_test$x_acf1 = our_col[1:our_test.len,'x_acf1' ]\n",
    "our_train$x_acf1 = our_col[(our_test.len+1):whole.len,'x_acf1' ]\n",
    "# check the correlation bewteen the new feature and the appliances\n",
    "cor(our_train[,c(3:7)], our_train$x_acf1)"
   ]
  },
  {
   "cell_type": "code",
   "execution_count": 38,
   "metadata": {},
   "outputs": [
    {
     "data": {
      "text/html": [
       "<table>\n",
       "<caption>A data.frame: 6 × 22</caption>\n",
       "<thead>\n",
       "\t<tr><th></th><th scope=col>X</th><th scope=col>load</th><th scope=col>ac</th><th scope=col>ev</th><th scope=col>oven</th><th scope=col>wash</th><th scope=col>dryer</th><th scope=col>hourofday</th><th scope=col>dayofweek</th><th scope=col>dif</th><th scope=col>...</th><th scope=col>var</th><th scope=col>entropy</th><th scope=col>nonlinear</th><th scope=col>hurst</th><th scope=col>season</th><th scope=col>our_gmm_label</th><th scope=col>lumpiness</th><th scope=col>my_entropy</th><th scope=col>diff1_acf1</th><th scope=col>x_acf1</th></tr>\n",
       "\t<tr><th></th><th scope=col>&lt;int&gt;</th><th scope=col>&lt;dbl&gt;</th><th scope=col>&lt;int&gt;</th><th scope=col>&lt;int&gt;</th><th scope=col>&lt;int&gt;</th><th scope=col>&lt;int&gt;</th><th scope=col>&lt;int&gt;</th><th scope=col>&lt;int&gt;</th><th scope=col>&lt;int&gt;</th><th scope=col>&lt;dbl&gt;</th><th scope=col>...</th><th scope=col>&lt;dbl&gt;</th><th scope=col>&lt;dbl&gt;</th><th scope=col>&lt;dbl&gt;</th><th scope=col>&lt;dbl&gt;</th><th scope=col>&lt;int&gt;</th><th scope=col>&lt;dbl&gt;</th><th scope=col>&lt;dbl&gt;</th><th scope=col>&lt;dbl&gt;</th><th scope=col>&lt;dbl&gt;</th><th scope=col>&lt;dbl&gt;</th></tr>\n",
       "</thead>\n",
       "<tbody>\n",
       "\t<tr><th scope=row>417715</th><td>523255</td><td>2.546</td><td>0</td><td>0</td><td>0</td><td>0</td><td>0</td><td>21</td><td>6</td><td>-0.008</td><td>...</td><td>0</td><td>0</td><td>0</td><td>0</td><td>4</td><td>1</td><td>0</td><td>0</td><td>0</td><td>0</td></tr>\n",
       "\t<tr><th scope=row>417716</th><td>523256</td><td>2.543</td><td>0</td><td>0</td><td>0</td><td>0</td><td>0</td><td>21</td><td>6</td><td>-0.003</td><td>...</td><td>0</td><td>0</td><td>0</td><td>0</td><td>4</td><td>1</td><td>0</td><td>0</td><td>0</td><td>0</td></tr>\n",
       "\t<tr><th scope=row>417717</th><td>523257</td><td>2.417</td><td>0</td><td>0</td><td>0</td><td>0</td><td>0</td><td>21</td><td>6</td><td>-0.126</td><td>...</td><td>0</td><td>0</td><td>0</td><td>0</td><td>4</td><td>1</td><td>0</td><td>0</td><td>0</td><td>0</td></tr>\n",
       "\t<tr><th scope=row>417718</th><td>523258</td><td>0.999</td><td>0</td><td>0</td><td>0</td><td>0</td><td>0</td><td>21</td><td>6</td><td>-1.418</td><td>...</td><td>0</td><td>0</td><td>0</td><td>0</td><td>4</td><td>1</td><td>0</td><td>0</td><td>0</td><td>0</td></tr>\n",
       "\t<tr><th scope=row>417719</th><td>523259</td><td>0.966</td><td>0</td><td>0</td><td>0</td><td>0</td><td>0</td><td>21</td><td>6</td><td>-0.033</td><td>...</td><td>0</td><td>0</td><td>0</td><td>0</td><td>4</td><td>1</td><td>0</td><td>0</td><td>0</td><td>0</td></tr>\n",
       "\t<tr><th scope=row>417720</th><td>523260</td><td>0.964</td><td>0</td><td>0</td><td>0</td><td>0</td><td>0</td><td>21</td><td>6</td><td>-0.002</td><td>...</td><td>0</td><td>0</td><td>0</td><td>0</td><td>4</td><td>1</td><td>0</td><td>0</td><td>0</td><td>0</td></tr>\n",
       "</tbody>\n",
       "</table>\n"
      ],
      "text/latex": [
       "A data.frame: 6 × 22\n",
       "\\begin{tabular}{r|lllllllllllllllllllll}\n",
       "  & X & load & ac & ev & oven & wash & dryer & hourofday & dayofweek & dif & ... & var & entropy & nonlinear & hurst & season & our\\_gmm\\_label & lumpiness & my\\_entropy & diff1\\_acf1 & x\\_acf1\\\\\n",
       "  & <int> & <dbl> & <int> & <int> & <int> & <int> & <int> & <int> & <int> & <dbl> & ... & <dbl> & <dbl> & <dbl> & <dbl> & <int> & <dbl> & <dbl> & <dbl> & <dbl> & <dbl>\\\\\n",
       "\\hline\n",
       "\t417715 & 523255 & 2.546 & 0 & 0 & 0 & 0 & 0 & 21 & 6 & -0.008 & ... & 0 & 0 & 0 & 0 & 4 & 1 & 0 & 0 & 0 & 0\\\\\n",
       "\t417716 & 523256 & 2.543 & 0 & 0 & 0 & 0 & 0 & 21 & 6 & -0.003 & ... & 0 & 0 & 0 & 0 & 4 & 1 & 0 & 0 & 0 & 0\\\\\n",
       "\t417717 & 523257 & 2.417 & 0 & 0 & 0 & 0 & 0 & 21 & 6 & -0.126 & ... & 0 & 0 & 0 & 0 & 4 & 1 & 0 & 0 & 0 & 0\\\\\n",
       "\t417718 & 523258 & 0.999 & 0 & 0 & 0 & 0 & 0 & 21 & 6 & -1.418 & ... & 0 & 0 & 0 & 0 & 4 & 1 & 0 & 0 & 0 & 0\\\\\n",
       "\t417719 & 523259 & 0.966 & 0 & 0 & 0 & 0 & 0 & 21 & 6 & -0.033 & ... & 0 & 0 & 0 & 0 & 4 & 1 & 0 & 0 & 0 & 0\\\\\n",
       "\t417720 & 523260 & 0.964 & 0 & 0 & 0 & 0 & 0 & 21 & 6 & -0.002 & ... & 0 & 0 & 0 & 0 & 4 & 1 & 0 & 0 & 0 & 0\\\\\n",
       "\\end{tabular}\n"
      ],
      "text/markdown": [
       "\n",
       "A data.frame: 6 × 22\n",
       "\n",
       "| <!--/--> | X &lt;int&gt; | load &lt;dbl&gt; | ac &lt;int&gt; | ev &lt;int&gt; | oven &lt;int&gt; | wash &lt;int&gt; | dryer &lt;int&gt; | hourofday &lt;int&gt; | dayofweek &lt;int&gt; | dif &lt;dbl&gt; | ... ... | var &lt;dbl&gt; | entropy &lt;dbl&gt; | nonlinear &lt;dbl&gt; | hurst &lt;dbl&gt; | season &lt;int&gt; | our_gmm_label &lt;dbl&gt; | lumpiness &lt;dbl&gt; | my_entropy &lt;dbl&gt; | diff1_acf1 &lt;dbl&gt; | x_acf1 &lt;dbl&gt; |\n",
       "|---|---|---|---|---|---|---|---|---|---|---|---|---|---|---|---|---|---|---|---|---|---|\n",
       "| 417715 | 523255 | 2.546 | 0 | 0 | 0 | 0 | 0 | 21 | 6 | -0.008 | ... | 0 | 0 | 0 | 0 | 4 | 1 | 0 | 0 | 0 | 0 |\n",
       "| 417716 | 523256 | 2.543 | 0 | 0 | 0 | 0 | 0 | 21 | 6 | -0.003 | ... | 0 | 0 | 0 | 0 | 4 | 1 | 0 | 0 | 0 | 0 |\n",
       "| 417717 | 523257 | 2.417 | 0 | 0 | 0 | 0 | 0 | 21 | 6 | -0.126 | ... | 0 | 0 | 0 | 0 | 4 | 1 | 0 | 0 | 0 | 0 |\n",
       "| 417718 | 523258 | 0.999 | 0 | 0 | 0 | 0 | 0 | 21 | 6 | -1.418 | ... | 0 | 0 | 0 | 0 | 4 | 1 | 0 | 0 | 0 | 0 |\n",
       "| 417719 | 523259 | 0.966 | 0 | 0 | 0 | 0 | 0 | 21 | 6 | -0.033 | ... | 0 | 0 | 0 | 0 | 4 | 1 | 0 | 0 | 0 | 0 |\n",
       "| 417720 | 523260 | 0.964 | 0 | 0 | 0 | 0 | 0 | 21 | 6 | -0.002 | ... | 0 | 0 | 0 | 0 | 4 | 1 | 0 | 0 | 0 | 0 |\n",
       "\n"
      ],
      "text/plain": [
       "       X      load  ac ev oven wash dryer hourofday dayofweek dif    ... var\n",
       "417715 523255 2.546 0  0  0    0    0     21        6         -0.008 ... 0  \n",
       "417716 523256 2.543 0  0  0    0    0     21        6         -0.003 ... 0  \n",
       "417717 523257 2.417 0  0  0    0    0     21        6         -0.126 ... 0  \n",
       "417718 523258 0.999 0  0  0    0    0     21        6         -1.418 ... 0  \n",
       "417719 523259 0.966 0  0  0    0    0     21        6         -0.033 ... 0  \n",
       "417720 523260 0.964 0  0  0    0    0     21        6         -0.002 ... 0  \n",
       "       entropy nonlinear hurst season our_gmm_label lumpiness my_entropy\n",
       "417715 0       0         0     4      1             0         0         \n",
       "417716 0       0         0     4      1             0         0         \n",
       "417717 0       0         0     4      1             0         0         \n",
       "417718 0       0         0     4      1             0         0         \n",
       "417719 0       0         0     4      1             0         0         \n",
       "417720 0       0         0     4      1             0         0         \n",
       "       diff1_acf1 x_acf1\n",
       "417715 0          0     \n",
       "417716 0          0     \n",
       "417717 0          0     \n",
       "417718 0          0     \n",
       "417719 0          0     \n",
       "417720 0          0     "
      ]
     },
     "metadata": {},
     "output_type": "display_data"
    }
   ],
   "source": [
    "tail(our_train)"
   ]
  },
  {
   "cell_type": "markdown",
   "metadata": {},
   "source": [
    "Then,I make a backward selection for finding the better model with necessary variables.Then I use exhaustive method to find the best subset."
   ]
  },
  {
   "cell_type": "code",
   "execution_count": 39,
   "metadata": {},
   "outputs": [
    {
     "name": "stderr",
     "output_type": "stream",
     "text": [
      "Installing package into 'C:/Users/Administrator/Documents/R/win-library/4.0'\n",
      "(as 'lib' is unspecified)\n",
      "\n"
     ]
    },
    {
     "name": "stdout",
     "output_type": "stream",
     "text": [
      "package 'leaps' successfully unpacked and MD5 sums checked\n"
     ]
    },
    {
     "name": "stderr",
     "output_type": "stream",
     "text": [
      "Warning message:\n",
      "\"cannot remove prior installation of package 'leaps'\"\n",
      "Warning message in file.copy(savedcopy, lib, recursive = TRUE):\n",
      "\"problem copying C:\\Users\\Administrator\\Documents\\R\\win-library\\4.0\\00LOCK\\leaps\\libs\\x64\\leaps.dll to C:\\Users\\Administrator\\Documents\\R\\win-library\\4.0\\leaps\\libs\\x64\\leaps.dll: Permission denied\"\n",
      "Warning message:\n",
      "\"restored 'leaps'\"\n"
     ]
    },
    {
     "name": "stdout",
     "output_type": "stream",
     "text": [
      "\n",
      "The downloaded binary packages are in\n",
      "\tC:\\Users\\Administrator\\AppData\\Local\\Temp\\RtmpUvpxcB\\downloaded_packages\n"
     ]
    },
    {
     "name": "stderr",
     "output_type": "stream",
     "text": [
      "Warning message:\n",
      "\"package 'leaps' was built under R version 4.0.5\"\n"
     ]
    },
    {
     "data": {
      "text/plain": [
       "Subset selection object\n",
       "Call: regsubsets.formula(ac ~ load + hourofday + dayofweek + dif + \n",
       "    absdif + max + var + entropy + nonlinear + hurst + season + \n",
       "    our_gmm_label + lumpiness + my_entropy + diff1_acf1 + x_acf1, \n",
       "    data = our_train[, -1], nvmax = 10, method = \"backward\")\n",
       "16 Variables  (and intercept)\n",
       "              Forced in Forced out\n",
       "load              FALSE      FALSE\n",
       "hourofday         FALSE      FALSE\n",
       "dayofweek         FALSE      FALSE\n",
       "dif               FALSE      FALSE\n",
       "absdif            FALSE      FALSE\n",
       "max               FALSE      FALSE\n",
       "var               FALSE      FALSE\n",
       "entropy           FALSE      FALSE\n",
       "nonlinear         FALSE      FALSE\n",
       "hurst             FALSE      FALSE\n",
       "season            FALSE      FALSE\n",
       "our_gmm_label     FALSE      FALSE\n",
       "lumpiness         FALSE      FALSE\n",
       "my_entropy        FALSE      FALSE\n",
       "diff1_acf1        FALSE      FALSE\n",
       "x_acf1            FALSE      FALSE\n",
       "1 subsets of each size up to 10\n",
       "Selection Algorithm: backward\n",
       "          load hourofday dayofweek dif absdif max var entropy nonlinear hurst\n",
       "1  ( 1 )  \"*\"  \" \"       \" \"       \" \" \" \"    \" \" \" \" \" \"     \" \"       \" \"  \n",
       "2  ( 1 )  \"*\"  \" \"       \" \"       \" \" \" \"    \" \" \" \" \" \"     \" \"       \" \"  \n",
       "3  ( 1 )  \"*\"  \" \"       \" \"       \" \" \" \"    \"*\" \" \" \" \"     \" \"       \" \"  \n",
       "4  ( 1 )  \"*\"  \" \"       \" \"       \" \" \" \"    \"*\" \"*\" \" \"     \" \"       \" \"  \n",
       "5  ( 1 )  \"*\"  \" \"       \" \"       \" \" \" \"    \"*\" \"*\" \"*\"     \" \"       \" \"  \n",
       "6  ( 1 )  \"*\"  \" \"       \" \"       \" \" \" \"    \"*\" \"*\" \"*\"     \" \"       \" \"  \n",
       "7  ( 1 )  \"*\"  \"*\"       \" \"       \" \" \" \"    \"*\" \"*\" \"*\"     \" \"       \" \"  \n",
       "8  ( 1 )  \"*\"  \"*\"       \" \"       \" \" \"*\"    \"*\" \"*\" \"*\"     \" \"       \" \"  \n",
       "9  ( 1 )  \"*\"  \"*\"       \" \"       \" \" \"*\"    \"*\" \"*\" \"*\"     \" \"       \" \"  \n",
       "10  ( 1 ) \"*\"  \"*\"       \" \"       \" \" \"*\"    \"*\" \"*\" \"*\"     \" \"       \" \"  \n",
       "          season our_gmm_label lumpiness my_entropy diff1_acf1 x_acf1\n",
       "1  ( 1 )  \" \"    \" \"           \" \"       \" \"        \" \"        \" \"   \n",
       "2  ( 1 )  \"*\"    \" \"           \" \"       \" \"        \" \"        \" \"   \n",
       "3  ( 1 )  \"*\"    \" \"           \" \"       \" \"        \" \"        \" \"   \n",
       "4  ( 1 )  \"*\"    \" \"           \" \"       \" \"        \" \"        \" \"   \n",
       "5  ( 1 )  \"*\"    \" \"           \" \"       \" \"        \" \"        \" \"   \n",
       "6  ( 1 )  \"*\"    \" \"           \"*\"       \" \"        \" \"        \" \"   \n",
       "7  ( 1 )  \"*\"    \" \"           \"*\"       \" \"        \" \"        \" \"   \n",
       "8  ( 1 )  \"*\"    \" \"           \"*\"       \" \"        \" \"        \" \"   \n",
       "9  ( 1 )  \"*\"    \" \"           \"*\"       \" \"        \" \"        \"*\"   \n",
       "10  ( 1 ) \"*\"    \" \"           \"*\"       \"*\"        \" \"        \"*\"   "
      ]
     },
     "metadata": {},
     "output_type": "display_data"
    }
   ],
   "source": [
    "install.packages('leaps')\n",
    "library(leaps)\n",
    "# make a backward selection on ac\n",
    "summary(regsubsets(ac ~ load + hourofday + dayofweek + dif + absdif + max + var + entropy + nonlinear + hurst + season + our_gmm_label + lumpiness+my_entropy+diff1_acf1+x_acf1,data = our_train[, -1], nvmax = 10, method = \"backward\"))\n"
   ]
  },
  {
   "cell_type": "markdown",
   "metadata": {},
   "source": [
    "From the summary, we can see that the two most relavant variables to 'ac'are 'load' and 'season' while there are 6 variables are not that relavant.So we can make some selection when we building model.Then I check adjr2 to find the number of variables for modeling. The larger the R-Squared, the better the model fitting effect."
   ]
  },
  {
   "cell_type": "code",
   "execution_count": 40,
   "metadata": {},
   "outputs": [
    {
     "data": {
      "image/png": "[encoded data removed]",
      "text/plain": [
       "plot without title"
      ]
     },
     "metadata": {
      "image/png": {
       "height": 420,
       "width": 420
      }
     },
     "output_type": "display_data"
    }
   ],
   "source": [
    "plot(summary(regsubsets(ac ~ load + hourofday + dayofweek + dif + absdif + max + var + entropy + nonlinear + hurst + season + our_gmm_label + lumpiness+my_entropy+diff1_acf1+x_acf1,data = our_train[, -1], nvmax = 10, method = \"backward\"))$adjr2,xlab='the amount of the variables',ylab='R-Squared')"
   ]
  },
  {
   "cell_type": "markdown",
   "metadata": {},
   "source": [
    "From the plot, we can know that when we use 10 variables for modeling,R-Squared is larger.So we should remove dayofweek,dif,nonlinear,hurst,our_gmm_label and diff1_acf1 as they are not relavant to 'ac'."
   ]
  },
  {
   "cell_type": "code",
   "execution_count": 41,
   "metadata": {},
   "outputs": [
    {
     "data": {
      "text/plain": [
       "Subset selection object\n",
       "Call: regsubsets.formula(ev ~ load + hourofday + dayofweek + dif + \n",
       "    absdif + max + var + entropy + nonlinear + hurst + season + \n",
       "    our_gmm_label + lumpiness + my_entropy + diff1_acf1 + x_acf1, \n",
       "    data = our_train[, -1], nvmax = 10, method = \"backward\")\n",
       "16 Variables  (and intercept)\n",
       "              Forced in Forced out\n",
       "load              FALSE      FALSE\n",
       "hourofday         FALSE      FALSE\n",
       "dayofweek         FALSE      FALSE\n",
       "dif               FALSE      FALSE\n",
       "absdif            FALSE      FALSE\n",
       "max               FALSE      FALSE\n",
       "var               FALSE      FALSE\n",
       "entropy           FALSE      FALSE\n",
       "nonlinear         FALSE      FALSE\n",
       "hurst             FALSE      FALSE\n",
       "season            FALSE      FALSE\n",
       "our_gmm_label     FALSE      FALSE\n",
       "lumpiness         FALSE      FALSE\n",
       "my_entropy        FALSE      FALSE\n",
       "diff1_acf1        FALSE      FALSE\n",
       "x_acf1            FALSE      FALSE\n",
       "1 subsets of each size up to 10\n",
       "Selection Algorithm: backward\n",
       "          load hourofday dayofweek dif absdif max var entropy nonlinear hurst\n",
       "1  ( 1 )  \" \"  \" \"       \" \"       \" \" \" \"    \"*\" \" \" \" \"     \" \"       \" \"  \n",
       "2  ( 1 )  \" \"  \" \"       \" \"       \" \" \" \"    \"*\" \"*\" \" \"     \" \"       \" \"  \n",
       "3  ( 1 )  \"*\"  \" \"       \" \"       \" \" \" \"    \"*\" \"*\" \" \"     \" \"       \" \"  \n",
       "4  ( 1 )  \"*\"  \" \"       \" \"       \" \" \" \"    \"*\" \"*\" \" \"     \" \"       \" \"  \n",
       "5  ( 1 )  \"*\"  \" \"       \" \"       \" \" \" \"    \"*\" \"*\" \" \"     \" \"       \" \"  \n",
       "6  ( 1 )  \"*\"  \" \"       \" \"       \" \" \" \"    \"*\" \"*\" \" \"     \" \"       \" \"  \n",
       "7  ( 1 )  \"*\"  \" \"       \" \"       \" \" \"*\"    \"*\" \"*\" \" \"     \" \"       \" \"  \n",
       "8  ( 1 )  \"*\"  \" \"       \" \"       \" \" \"*\"    \"*\" \"*\" \" \"     \" \"       \" \"  \n",
       "9  ( 1 )  \"*\"  \" \"       \" \"       \" \" \"*\"    \"*\" \"*\" \"*\"     \" \"       \" \"  \n",
       "10  ( 1 ) \"*\"  \" \"       \" \"       \" \" \"*\"    \"*\" \"*\" \"*\"     \"*\"       \" \"  \n",
       "          season our_gmm_label lumpiness my_entropy diff1_acf1 x_acf1\n",
       "1  ( 1 )  \" \"    \" \"           \" \"       \" \"        \" \"        \" \"   \n",
       "2  ( 1 )  \" \"    \" \"           \" \"       \" \"        \" \"        \" \"   \n",
       "3  ( 1 )  \" \"    \" \"           \" \"       \" \"        \" \"        \" \"   \n",
       "4  ( 1 )  \" \"    \" \"           \" \"       \"*\"        \" \"        \" \"   \n",
       "5  ( 1 )  \"*\"    \" \"           \" \"       \"*\"        \" \"        \" \"   \n",
       "6  ( 1 )  \"*\"    \" \"           \"*\"       \"*\"        \" \"        \" \"   \n",
       "7  ( 1 )  \"*\"    \" \"           \"*\"       \"*\"        \" \"        \" \"   \n",
       "8  ( 1 )  \"*\"    \" \"           \"*\"       \"*\"        \" \"        \"*\"   \n",
       "9  ( 1 )  \"*\"    \" \"           \"*\"       \"*\"        \" \"        \"*\"   \n",
       "10  ( 1 ) \"*\"    \" \"           \"*\"       \"*\"        \" \"        \"*\"   "
      ]
     },
     "metadata": {},
     "output_type": "display_data"
    }
   ],
   "source": [
    "# make a backward selection on ev\n",
    "summary(regsubsets(ev ~ load + hourofday + dayofweek + dif + absdif + max + var + entropy + nonlinear + hurst + season + our_gmm_label + lumpiness+my_entropy+diff1_acf1+x_acf1,data = our_train[, -1], nvmax = 10, method = \"backward\"))"
   ]
  },
  {
   "cell_type": "markdown",
   "metadata": {},
   "source": [
    "From the summary, we can see that the two most relavant variables to 'ev'are 'max' and 'var' while there are 6 variables are not that relavant.So we can make some selection when we building model.Then I check adjr2 to find the number of variables for modeling. The larger the R-Squared, the better the model fitting effect."
   ]
  },
  {
   "cell_type": "code",
   "execution_count": 42,
   "metadata": {},
   "outputs": [
    {
     "data": {
      "image/png": "[encoded data removed]",
      "text/plain": [
       "plot without title"
      ]
     },
     "metadata": {
      "image/png": {
       "height": 420,
       "width": 420
      }
     },
     "output_type": "display_data"
    }
   ],
   "source": [
    "plot(summary(regsubsets(ev ~ load + hourofday + dayofweek + dif + absdif + max + var + entropy + nonlinear + hurst + season + our_gmm_label + lumpiness+my_entropy+diff1_acf1+x_acf1,data = our_train[, -1], nvmax = 10, method = \"backward\"))$adjr2,xlab='the amount of the variables',ylab='R-Squared')"
   ]
  },
  {
   "cell_type": "markdown",
   "metadata": {},
   "source": [
    "From the plot, we can know that when we use 10 variables for modeling,R-Squared is larger.So we should remove dayofweek,hourofday,dif,diff1_acf1,hurst and nonlinear as they are not relavant to 'ev'."
   ]
  },
  {
   "cell_type": "code",
   "execution_count": 43,
   "metadata": {},
   "outputs": [
    {
     "data": {
      "text/plain": [
       "Subset selection object\n",
       "Call: regsubsets.formula(oven ~ load + hourofday + dayofweek + dif + \n",
       "    absdif + max + var + entropy + nonlinear + hurst + season + \n",
       "    our_gmm_label + lumpiness + my_entropy + diff1_acf1 + x_acf1, \n",
       "    data = our_train[, -1], nvmax = 10, method = \"backward\")\n",
       "16 Variables  (and intercept)\n",
       "              Forced in Forced out\n",
       "load              FALSE      FALSE\n",
       "hourofday         FALSE      FALSE\n",
       "dayofweek         FALSE      FALSE\n",
       "dif               FALSE      FALSE\n",
       "absdif            FALSE      FALSE\n",
       "max               FALSE      FALSE\n",
       "var               FALSE      FALSE\n",
       "entropy           FALSE      FALSE\n",
       "nonlinear         FALSE      FALSE\n",
       "hurst             FALSE      FALSE\n",
       "season            FALSE      FALSE\n",
       "our_gmm_label     FALSE      FALSE\n",
       "lumpiness         FALSE      FALSE\n",
       "my_entropy        FALSE      FALSE\n",
       "diff1_acf1        FALSE      FALSE\n",
       "x_acf1            FALSE      FALSE\n",
       "1 subsets of each size up to 10\n",
       "Selection Algorithm: backward\n",
       "          load hourofday dayofweek dif absdif max var entropy nonlinear hurst\n",
       "1  ( 1 )  \" \"  \" \"       \" \"       \" \" \" \"    \"*\" \" \" \" \"     \" \"       \" \"  \n",
       "2  ( 1 )  \" \"  \" \"       \" \"       \" \" \" \"    \"*\" \" \" \" \"     \" \"       \" \"  \n",
       "3  ( 1 )  \" \"  \" \"       \" \"       \" \" \"*\"    \"*\" \" \" \" \"     \" \"       \" \"  \n",
       "4  ( 1 )  \" \"  \" \"       \" \"       \" \" \"*\"    \"*\" \" \" \"*\"     \" \"       \" \"  \n",
       "5  ( 1 )  \"*\"  \" \"       \" \"       \" \" \"*\"    \"*\" \" \" \"*\"     \" \"       \" \"  \n",
       "6  ( 1 )  \"*\"  \" \"       \" \"       \" \" \"*\"    \"*\" \" \" \"*\"     \" \"       \" \"  \n",
       "7  ( 1 )  \"*\"  \" \"       \" \"       \" \" \"*\"    \"*\" \" \" \"*\"     \" \"       \" \"  \n",
       "8  ( 1 )  \"*\"  \" \"       \" \"       \" \" \"*\"    \"*\" \" \" \"*\"     \" \"       \" \"  \n",
       "9  ( 1 )  \"*\"  \" \"       \" \"       \" \" \"*\"    \"*\" \" \" \"*\"     \" \"       \"*\"  \n",
       "10  ( 1 ) \"*\"  \" \"       \" \"       \" \" \"*\"    \"*\" \" \" \"*\"     \" \"       \"*\"  \n",
       "          season our_gmm_label lumpiness my_entropy diff1_acf1 x_acf1\n",
       "1  ( 1 )  \" \"    \" \"           \" \"       \" \"        \" \"        \" \"   \n",
       "2  ( 1 )  \"*\"    \" \"           \" \"       \" \"        \" \"        \" \"   \n",
       "3  ( 1 )  \"*\"    \" \"           \" \"       \" \"        \" \"        \" \"   \n",
       "4  ( 1 )  \"*\"    \" \"           \" \"       \" \"        \" \"        \" \"   \n",
       "5  ( 1 )  \"*\"    \" \"           \" \"       \" \"        \" \"        \" \"   \n",
       "6  ( 1 )  \"*\"    \" \"           \"*\"       \" \"        \" \"        \" \"   \n",
       "7  ( 1 )  \"*\"    \" \"           \"*\"       \" \"        \"*\"        \" \"   \n",
       "8  ( 1 )  \"*\"    \" \"           \"*\"       \" \"        \"*\"        \"*\"   \n",
       "9  ( 1 )  \"*\"    \" \"           \"*\"       \" \"        \"*\"        \"*\"   \n",
       "10  ( 1 ) \"*\"    \" \"           \"*\"       \"*\"        \"*\"        \"*\"   "
      ]
     },
     "metadata": {},
     "output_type": "display_data"
    }
   ],
   "source": [
    "# make a backward selection on oven\n",
    "summary(regsubsets(oven ~ load + hourofday + dayofweek + dif + absdif + max + var + entropy + nonlinear + hurst + season + our_gmm_label + lumpiness+my_entropy+diff1_acf1+x_acf1,data = our_train[, -1], nvmax = 10, method = \"backward\"))"
   ]
  },
  {
   "cell_type": "markdown",
   "metadata": {},
   "source": [
    "From the summary, we can see that the two most relavant variables to 'oven'are 'max' and 'our_gmm_label' while there are 6 variables are not that relavant.So we can make some selection when we building model.Then I check adjr2 to find the number of variables for modeling. The larger the R-Squared, the better the model fitting effect."
   ]
  },
  {
   "cell_type": "code",
   "execution_count": 44,
   "metadata": {},
   "outputs": [
    {
     "data": {
      "image/png": "[encoded data removed]",
      "text/plain": [
       "plot without title"
      ]
     },
     "metadata": {
      "image/png": {
       "height": 420,
       "width": 420
      }
     },
     "output_type": "display_data"
    }
   ],
   "source": [
    "plot(summary(regsubsets(oven ~ load + hourofday + dayofweek + dif + absdif + max + var + entropy + nonlinear + hurst + season + our_gmm_label + lumpiness+my_entropy+diff1_acf1+x_acf1,data = our_train[, -1], nvmax = 10, method = \"backward\"))$adjr2,xlab='the amount of the variables',ylab='R-Squared')"
   ]
  },
  {
   "cell_type": "markdown",
   "metadata": {},
   "source": [
    "From the plot, we can know that when we use 10 variables for modeling,R-Squared is larger.So we should remove dayofweek,hourofday,dif,var,nonlinear and season as they are not relavant to 'oven'."
   ]
  },
  {
   "cell_type": "code",
   "execution_count": 45,
   "metadata": {},
   "outputs": [
    {
     "data": {
      "text/plain": [
       "Subset selection object\n",
       "Call: regsubsets.formula(wash ~ load + hourofday + dayofweek + dif + \n",
       "    absdif + max + var + entropy + nonlinear + hurst + season + \n",
       "    our_gmm_label + lumpiness + my_entropy + diff1_acf1 + x_acf1, \n",
       "    data = our_train[, -1], nvmax = 10, method = \"backward\")\n",
       "16 Variables  (and intercept)\n",
       "              Forced in Forced out\n",
       "load              FALSE      FALSE\n",
       "hourofday         FALSE      FALSE\n",
       "dayofweek         FALSE      FALSE\n",
       "dif               FALSE      FALSE\n",
       "absdif            FALSE      FALSE\n",
       "max               FALSE      FALSE\n",
       "var               FALSE      FALSE\n",
       "entropy           FALSE      FALSE\n",
       "nonlinear         FALSE      FALSE\n",
       "hurst             FALSE      FALSE\n",
       "season            FALSE      FALSE\n",
       "our_gmm_label     FALSE      FALSE\n",
       "lumpiness         FALSE      FALSE\n",
       "my_entropy        FALSE      FALSE\n",
       "diff1_acf1        FALSE      FALSE\n",
       "x_acf1            FALSE      FALSE\n",
       "1 subsets of each size up to 10\n",
       "Selection Algorithm: backward\n",
       "          load hourofday dayofweek dif absdif max var entropy nonlinear hurst\n",
       "1  ( 1 )  \" \"  \" \"       \" \"       \" \" \" \"    \" \" \" \" \" \"     \" \"       \" \"  \n",
       "2  ( 1 )  \" \"  \" \"       \" \"       \" \" \" \"    \"*\" \" \" \" \"     \" \"       \" \"  \n",
       "3  ( 1 )  \" \"  \" \"       \" \"       \" \" \" \"    \"*\" \" \" \" \"     \" \"       \" \"  \n",
       "4  ( 1 )  \" \"  \" \"       \" \"       \" \" \" \"    \"*\" \" \" \" \"     \" \"       \"*\"  \n",
       "5  ( 1 )  \" \"  \" \"       \" \"       \" \" \" \"    \"*\" \"*\" \" \"     \" \"       \"*\"  \n",
       "6  ( 1 )  \" \"  \" \"       \" \"       \" \" \" \"    \"*\" \"*\" \" \"     \"*\"       \"*\"  \n",
       "7  ( 1 )  \"*\"  \" \"       \" \"       \" \" \" \"    \"*\" \"*\" \" \"     \"*\"       \"*\"  \n",
       "8  ( 1 )  \"*\"  \" \"       \" \"       \" \" \" \"    \"*\" \"*\" \" \"     \"*\"       \"*\"  \n",
       "9  ( 1 )  \"*\"  \"*\"       \" \"       \" \" \" \"    \"*\" \"*\" \" \"     \"*\"       \"*\"  \n",
       "10  ( 1 ) \"*\"  \"*\"       \" \"       \" \" \" \"    \"*\" \"*\" \" \"     \"*\"       \"*\"  \n",
       "          season our_gmm_label lumpiness my_entropy diff1_acf1 x_acf1\n",
       "1  ( 1 )  \" \"    \"*\"           \" \"       \" \"        \" \"        \" \"   \n",
       "2  ( 1 )  \" \"    \"*\"           \" \"       \" \"        \" \"        \" \"   \n",
       "3  ( 1 )  \" \"    \"*\"           \" \"       \" \"        \"*\"        \" \"   \n",
       "4  ( 1 )  \" \"    \"*\"           \" \"       \" \"        \"*\"        \" \"   \n",
       "5  ( 1 )  \" \"    \"*\"           \" \"       \" \"        \"*\"        \" \"   \n",
       "6  ( 1 )  \" \"    \"*\"           \" \"       \" \"        \"*\"        \" \"   \n",
       "7  ( 1 )  \" \"    \"*\"           \" \"       \" \"        \"*\"        \" \"   \n",
       "8  ( 1 )  \"*\"    \"*\"           \" \"       \" \"        \"*\"        \" \"   \n",
       "9  ( 1 )  \"*\"    \"*\"           \" \"       \" \"        \"*\"        \" \"   \n",
       "10  ( 1 ) \"*\"    \"*\"           \"*\"       \" \"        \"*\"        \" \"   "
      ]
     },
     "metadata": {},
     "output_type": "display_data"
    }
   ],
   "source": [
    "# make a backward selection on wash\n",
    "summary(regsubsets(wash ~ load + hourofday + dayofweek + dif + absdif + max + var + entropy + nonlinear + hurst + season + our_gmm_label + lumpiness+my_entropy+diff1_acf1+x_acf1,data = our_train[, -1], nvmax = 10, method = \"backward\"))"
   ]
  },
  {
   "cell_type": "markdown",
   "metadata": {},
   "source": [
    "From the summary, we can see that the two most relavant variables to 'wash'are 'max' and 'season' while there are 6 variables are not that relavant.So we can make some selection when we building model.Then I check adjr2 to find the number of variables for modeling. The larger the R-Squared, the better the model fitting effect."
   ]
  },
  {
   "cell_type": "code",
   "execution_count": 46,
   "metadata": {},
   "outputs": [
    {
     "data": {
      "image/png": "[encoded data removed]",
      "text/plain": [
       "plot without title"
      ]
     },
     "metadata": {
      "image/png": {
       "height": 420,
       "width": 420
      }
     },
     "output_type": "display_data"
    }
   ],
   "source": [
    "plot(summary(regsubsets(wash ~ load + hourofday + dayofweek + dif + absdif + max + var + entropy + nonlinear + hurst + season + our_gmm_label + lumpiness+my_entropy+diff1_acf1+x_acf1,data = our_train[, -1], nvmax = 10, method = \"backward\"))$adjr2,xlab='the amount of the variables',ylab='R-Squared')"
   ]
  },
  {
   "cell_type": "markdown",
   "metadata": {},
   "source": [
    "From the plot, we can know that when we use 10 variables for modeling,R-Squared is larger.So we should remove my_entropy,entropy,dif,absdif,x_acf1 and dayofweek as they are not relavant to 'wash'."
   ]
  },
  {
   "cell_type": "code",
   "execution_count": 47,
   "metadata": {},
   "outputs": [
    {
     "data": {
      "text/plain": [
       "Subset selection object\n",
       "Call: regsubsets.formula(dryer ~ load + hourofday + dayofweek + dif + \n",
       "    absdif + max + var + entropy + nonlinear + hurst + season + \n",
       "    our_gmm_label + lumpiness + my_entropy + diff1_acf1 + x_acf1, \n",
       "    data = our_train[, -1], nvmax = 10, method = \"backward\")\n",
       "16 Variables  (and intercept)\n",
       "              Forced in Forced out\n",
       "load              FALSE      FALSE\n",
       "hourofday         FALSE      FALSE\n",
       "dayofweek         FALSE      FALSE\n",
       "dif               FALSE      FALSE\n",
       "absdif            FALSE      FALSE\n",
       "max               FALSE      FALSE\n",
       "var               FALSE      FALSE\n",
       "entropy           FALSE      FALSE\n",
       "nonlinear         FALSE      FALSE\n",
       "hurst             FALSE      FALSE\n",
       "season            FALSE      FALSE\n",
       "our_gmm_label     FALSE      FALSE\n",
       "lumpiness         FALSE      FALSE\n",
       "my_entropy        FALSE      FALSE\n",
       "diff1_acf1        FALSE      FALSE\n",
       "x_acf1            FALSE      FALSE\n",
       "1 subsets of each size up to 10\n",
       "Selection Algorithm: backward\n",
       "          load hourofday dayofweek dif absdif max var entropy nonlinear hurst\n",
       "1  ( 1 )  \" \"  \" \"       \" \"       \" \" \" \"    \" \" \" \" \" \"     \" \"       \" \"  \n",
       "2  ( 1 )  \" \"  \" \"       \" \"       \" \" \" \"    \"*\" \" \" \" \"     \" \"       \" \"  \n",
       "3  ( 1 )  \" \"  \" \"       \" \"       \" \" \" \"    \"*\" \"*\" \" \"     \" \"       \" \"  \n",
       "4  ( 1 )  \" \"  \" \"       \" \"       \" \" \" \"    \"*\" \"*\" \" \"     \" \"       \" \"  \n",
       "5  ( 1 )  \" \"  \"*\"       \" \"       \" \" \" \"    \"*\" \"*\" \" \"     \" \"       \" \"  \n",
       "6  ( 1 )  \" \"  \"*\"       \" \"       \" \" \" \"    \"*\" \"*\" \" \"     \"*\"       \" \"  \n",
       "7  ( 1 )  \" \"  \"*\"       \" \"       \" \" \" \"    \"*\" \"*\" \" \"     \"*\"       \" \"  \n",
       "8  ( 1 )  \"*\"  \"*\"       \" \"       \" \" \" \"    \"*\" \"*\" \" \"     \"*\"       \" \"  \n",
       "9  ( 1 )  \"*\"  \"*\"       \" \"       \" \" \" \"    \"*\" \"*\" \" \"     \"*\"       \" \"  \n",
       "10  ( 1 ) \"*\"  \"*\"       \" \"       \" \" \" \"    \"*\" \"*\" \" \"     \"*\"       \" \"  \n",
       "          season our_gmm_label lumpiness my_entropy diff1_acf1 x_acf1\n",
       "1  ( 1 )  \" \"    \" \"           \" \"       \" \"        \"*\"        \" \"   \n",
       "2  ( 1 )  \" \"    \" \"           \" \"       \" \"        \"*\"        \" \"   \n",
       "3  ( 1 )  \" \"    \" \"           \" \"       \" \"        \"*\"        \" \"   \n",
       "4  ( 1 )  \" \"    \" \"           \" \"       \"*\"        \"*\"        \" \"   \n",
       "5  ( 1 )  \" \"    \" \"           \" \"       \"*\"        \"*\"        \" \"   \n",
       "6  ( 1 )  \" \"    \" \"           \" \"       \"*\"        \"*\"        \" \"   \n",
       "7  ( 1 )  \" \"    \"*\"           \" \"       \"*\"        \"*\"        \" \"   \n",
       "8  ( 1 )  \" \"    \"*\"           \" \"       \"*\"        \"*\"        \" \"   \n",
       "9  ( 1 )  \" \"    \"*\"           \"*\"       \"*\"        \"*\"        \" \"   \n",
       "10  ( 1 ) \"*\"    \"*\"           \"*\"       \"*\"        \"*\"        \" \"   "
      ]
     },
     "metadata": {},
     "output_type": "display_data"
    }
   ],
   "source": [
    "# make a backward selection on dryer\n",
    "summary(regsubsets(dryer ~ load + hourofday + dayofweek + dif + absdif + max + var + entropy + nonlinear + hurst + season + our_gmm_label + lumpiness+my_entropy+diff1_acf1+x_acf1,data = our_train[, -1], nvmax = 10, method = \"backward\"))"
   ]
  },
  {
   "cell_type": "markdown",
   "metadata": {},
   "source": [
    "From the summary, we can see that the two most relavant variables to 'dryer'are 'max' and 'diff1_acf1' while there are 6 variables are not that relavant.So we can make some selection when we building model.Then I check adjr2 to find the number of variables for modeling. The larger the R-Squared, the better the model fitting effect."
   ]
  },
  {
   "cell_type": "code",
   "execution_count": 48,
   "metadata": {},
   "outputs": [
    {
     "data": {
      "image/png": "[encoded data removed]",
      "text/plain": [
       "plot without title"
      ]
     },
     "metadata": {
      "image/png": {
       "height": 420,
       "width": 420
      }
     },
     "output_type": "display_data"
    }
   ],
   "source": [
    "plot(summary(regsubsets(dryer ~ load + hourofday + dayofweek + dif + absdif + max + var + entropy + nonlinear + hurst + season + our_gmm_label + lumpiness+my_entropy+diff1_acf1+x_acf1,data = our_train[, -1], nvmax = 10, method = \"backward\"))$adjr2,xlab='the amount of the variables',ylab='R-Squared')"
   ]
  },
  {
   "cell_type": "markdown",
   "metadata": {},
   "source": [
    "From the plot, we can know that when we use 10 variables for modeling,R-Squared is larger.So we should remove entropy,our_gmm_label,dif,absdif,dayofweek and hurst as they are not relavant to 'dryer'."
   ]
  },
  {
   "cell_type": "code",
   "execution_count": 49,
   "metadata": {},
   "outputs": [],
   "source": [
    "# Model statistics function\n",
    "mod.stat <- function(predict.label, truth.label){\n",
    "    # instantiate the variables\n",
    "    accuracy <- NULL\n",
    "    precision <- NULL\n",
    "    recall <- NULL\n",
    "    F1 <- NULL\n",
    "    \n",
    "    # make a data frame for easily calculating\n",
    "    my.df = data.frame(truth.label,predict.label)\n",
    "    # calculate TN,TP.FN,FP based on formula\n",
    "    TP = nrow(subset(my.df,(truth.label == TRUE) & (predict.label == TRUE)))\n",
    "    TN = nrow(subset(my.df,(truth.label == FALSE) & (predict.label == FALSE)))\n",
    "    FP = nrow(subset(my.df,(truth.label == FALSE) & (predict.label == TRUE)))\n",
    "    FN = nrow(subset(my.df,(truth.label == TRUE) & (predict.label == FALSE)))\n",
    "    \n",
    "    # calculate accuracy,precision,recall,F1 based on formula\n",
    "    precision = round(TP/(TP+FP),4)\n",
    "    accuracy = round((TP+TN)/(TP+TN+FP+FN),4)\n",
    "    recall = round(TP/(TP+FN),4)\n",
    "    F1 = round(2/((1/recall)+(1/precision)),4)\n",
    "    \n",
    "    # Return a list of value\n",
    "    return(list(\"accuracy\" = accuracy, \"precision\" = precision, \"recall\" = recall, \"fscore\" = F1))\n",
    "}"
   ]
  },
  {
   "cell_type": "markdown",
   "metadata": {},
   "source": [
    "In the prediction task,for each appliance,we built 2 different classifer with accordingly different feature selections and select better one after comparing with rmse and F1score."
   ]
  },
  {
   "cell_type": "code",
   "execution_count": 50,
   "metadata": {},
   "outputs": [],
   "source": [
    "# my_glm = function(our_train.x, our_train.y, our_test.x){\n",
    "\n",
    "#     our_train = as.data.frame(our_train.x)\n",
    "#     our_train$y = our_train.y\n",
    "#     glm.fit = glm(y~load + hourofday + absdif + max + var + entropy + season + lumpiness+my_entropy+x_acf1,data = our_train, family=binomial)\n",
    "\n",
    "#     my_prediction = predict(glm.fit, as.data.frame(our_test.x))\n",
    "    \n",
    "#     # calculate quantile\n",
    "#     my_quantile = length(our_train.y[our_train.y==0]) / length(our_train.y)\n",
    "#     quantile_value = quantile(my_prediction, my_quantile)\n",
    "#     my_prediction = ifelse(my_prediction > quantile_value, 1, 0)\n",
    "    \n",
    "#     return(my_prediction)\n",
    "# }"
   ]
  },
  {
   "cell_type": "code",
   "execution_count": 51,
   "metadata": {},
   "outputs": [],
   "source": [
    "# run the glm model to predict ac appliance\n",
    "# glm.ac = my_glm(our_train[c(-1,-3:-7)], our_train$ac, our_train[c(-1,-3:-7)])"
   ]
  },
  {
   "cell_type": "code",
   "execution_count": 52,
   "metadata": {},
   "outputs": [],
   "source": [
    "# check the statistics information\n",
    "# mod.stat(glm.ac,our_train$ac)"
   ]
  },
  {
   "cell_type": "code",
   "execution_count": 53,
   "metadata": {},
   "outputs": [],
   "source": [
    "rmse <- function(pred.label, truth.label){\n",
    " \n",
    "    return(sqrt(mean((pred.label - truth.label)^2)))\n",
    "}\n",
    "\n",
    "# RMSE.ac <- rmse(glm.ac, our_train$ac)\n",
    "# cat(paste(\"RMSE is\", RMSE.ac))"
   ]
  },
  {
   "cell_type": "code",
   "execution_count": 54,
   "metadata": {},
   "outputs": [
    {
     "name": "stderr",
     "output_type": "stream",
     "text": [
      "Installing package into 'C:/Users/Administrator/Documents/R/win-library/4.0'\n",
      "(as 'lib' is unspecified)\n",
      "\n"
     ]
    },
    {
     "name": "stdout",
     "output_type": "stream",
     "text": [
      "package 'xgboost' successfully unpacked and MD5 sums checked\n"
     ]
    },
    {
     "name": "stderr",
     "output_type": "stream",
     "text": [
      "Warning message:\n",
      "\"cannot remove prior installation of package 'xgboost'\"\n",
      "Warning message in file.copy(savedcopy, lib, recursive = TRUE):\n",
      "\"problem copying C:\\Users\\Administrator\\Documents\\R\\win-library\\4.0\\00LOCK\\xgboost\\libs\\x64\\xgboost.dll to C:\\Users\\Administrator\\Documents\\R\\win-library\\4.0\\xgboost\\libs\\x64\\xgboost.dll: Permission denied\"\n",
      "Warning message:\n",
      "\"restored 'xgboost'\"\n"
     ]
    },
    {
     "name": "stdout",
     "output_type": "stream",
     "text": [
      "\n",
      "The downloaded binary packages are in\n",
      "\tC:\\Users\\Administrator\\AppData\\Local\\Temp\\RtmpUvpxcB\\downloaded_packages\n"
     ]
    },
    {
     "name": "stderr",
     "output_type": "stream",
     "text": [
      "Warning message:\n",
      "\"package 'xgboost' was built under R version 4.0.5\"\n",
      "\n",
      "Attaching package: 'xgboost'\n",
      "\n",
      "\n",
      "The following object is masked from 'package:dplyr':\n",
      "\n",
      "    slice\n",
      "\n",
      "\n"
     ]
    }
   ],
   "source": [
    "install.packages('xgboost')\n",
    "library(xgboost)\n",
    "\n",
    "my_xgb = function(our_train.x, our_train.y, our_test.x){\n",
    "    # as matrix for using xgboost\n",
    "    our_train.x = as.matrix(our_train.x)\n",
    "    # modeling with xgboost with tuning parameters\n",
    "    xgb.fit = xgboost(data = our_train.x,label=our_train.y,eta=0.02,nrounds=200,verbose=0)\n",
    "    # make prediction with xgboost\n",
    "    my_prediction = predict(xgb.fit, as.matrix(our_test.x))\n",
    "    \n",
    "    # calculate quantile percentage\n",
    "    my_quantile = length(our_train.y[our_train.y==0]) / length(our_train.y)\n",
    "    # find the quantile value\n",
    "    quantile_value = quantile(my_prediction, my_quantile)\n",
    "    # classify the prediction with quantile value\n",
    "    my_prediction = ifelse(my_prediction > quantile_value, 1, 0)\n",
    "    \n",
    "    return(my_prediction)\n",
    "}"
   ]
  },
  {
   "cell_type": "code",
   "execution_count": 55,
   "metadata": {},
   "outputs": [],
   "source": [
    "# run the xgb model to predict ac appliance\n",
    "xgb.ac = my_xgb(our_train[c(-1,-3:-7)], our_train$ac, our_train[c(-1,-3:-7)])"
   ]
  },
  {
   "cell_type": "code",
   "execution_count": 56,
   "metadata": {},
   "outputs": [
    {
     "data": {
      "text/html": [
       "<dl>\n",
       "\t<dt>$accuracy</dt>\n",
       "\t\t<dd>0.9951</dd>\n",
       "\t<dt>$precision</dt>\n",
       "\t\t<dd>0.99</dd>\n",
       "\t<dt>$recall</dt>\n",
       "\t\t<dd>0.99</dd>\n",
       "\t<dt>$fscore</dt>\n",
       "\t\t<dd>0.99</dd>\n",
       "</dl>\n"
      ],
      "text/latex": [
       "\\begin{description}\n",
       "\\item[\\$accuracy] 0.9951\n",
       "\\item[\\$precision] 0.99\n",
       "\\item[\\$recall] 0.99\n",
       "\\item[\\$fscore] 0.99\n",
       "\\end{description}\n"
      ],
      "text/markdown": [
       "$accuracy\n",
       ":   0.9951\n",
       "$precision\n",
       ":   0.99\n",
       "$recall\n",
       ":   0.99\n",
       "$fscore\n",
       ":   0.99\n",
       "\n",
       "\n"
      ],
      "text/plain": [
       "$accuracy\n",
       "[1] 0.9951\n",
       "\n",
       "$precision\n",
       "[1] 0.99\n",
       "\n",
       "$recall\n",
       "[1] 0.99\n",
       "\n",
       "$fscore\n",
       "[1] 0.99\n"
      ]
     },
     "metadata": {},
     "output_type": "display_data"
    }
   ],
   "source": [
    "# check the statistics information\n",
    "acbest = mod.stat(xgb.ac,our_train$ac)\n",
    "acbest"
   ]
  },
  {
   "cell_type": "code",
   "execution_count": 57,
   "metadata": {},
   "outputs": [
    {
     "name": "stdout",
     "output_type": "stream",
     "text": [
      "RMSE is 0.0697803011872506"
     ]
    }
   ],
   "source": [
    "RMSE.xgb <- rmse(xgb.ac, our_train$ac)\n",
    "cat(paste(\"RMSE is\", RMSE.xgb))"
   ]
  },
  {
   "cell_type": "markdown",
   "metadata": {},
   "source": [
    "For ac, we use xgboost and glm classifier to make prediction.The result shows that the accuracy of xgboost on ac is 0.9951 while f1 is 0.99 and those of glm are 0.9878 and 0.9848.xgboost has higher accuracy and f1 than glm.Also, the rmse of xgboost is 0.07 which is lower than glm(0.11).Model is better with lower rmse.So we select xgboost as classifier of ac."
   ]
  },
  {
   "cell_type": "code",
   "execution_count": 58,
   "metadata": {
    "scrolled": true
   },
   "outputs": [
    {
     "name": "stderr",
     "output_type": "stream",
     "text": [
      "Installing package into 'C:/Users/Administrator/Documents/R/win-library/4.0'\n",
      "(as 'lib' is unspecified)\n",
      "\n"
     ]
    },
    {
     "name": "stdout",
     "output_type": "stream",
     "text": [
      "package 'randomForest' successfully unpacked and MD5 sums checked\n"
     ]
    },
    {
     "name": "stderr",
     "output_type": "stream",
     "text": [
      "Warning message:\n",
      "\"cannot remove prior installation of package 'randomForest'\"\n",
      "Warning message in file.copy(savedcopy, lib, recursive = TRUE):\n",
      "\"problem copying C:\\Users\\Administrator\\Documents\\R\\win-library\\4.0\\00LOCK\\randomForest\\libs\\x64\\randomForest.dll to C:\\Users\\Administrator\\Documents\\R\\win-library\\4.0\\randomForest\\libs\\x64\\randomForest.dll: Permission denied\"\n",
      "Warning message:\n",
      "\"restored 'randomForest'\"\n"
     ]
    },
    {
     "name": "stdout",
     "output_type": "stream",
     "text": [
      "\n",
      "The downloaded binary packages are in\n",
      "\tC:\\Users\\Administrator\\AppData\\Local\\Temp\\RtmpUvpxcB\\downloaded_packages\n"
     ]
    },
    {
     "name": "stderr",
     "output_type": "stream",
     "text": [
      "Warning message:\n",
      "\"package 'randomForest' was built under R version 4.0.5\"\n",
      "randomForest 4.6-14\n",
      "\n",
      "Type rfNews() to see new features/changes/bug fixes.\n",
      "\n",
      "\n",
      "Attaching package: 'randomForest'\n",
      "\n",
      "\n",
      "The following object is masked from 'package:ggplot2':\n",
      "\n",
      "    margin\n",
      "\n",
      "\n",
      "The following object is masked from 'package:dplyr':\n",
      "\n",
      "    combine\n",
      "\n",
      "\n"
     ]
    }
   ],
   "source": [
    "install.packages('randomForest')\n",
    "library(randomForest)\n",
    "\n",
    "my_rf = function(our_train.x, our_train.y, our_test.x){\n",
    "    our_train = as.data.frame(our_train.x)\n",
    "    our_train$y = as.factor(our_train.y)\n",
    "    \n",
    "    rf <- randomForest(y ~ ., data = our_train, ntree =3)\n",
    "    \n",
    "    varImpPlot(rf, main = \"variable importance\")\n",
    "    \n",
    "    pred <- predict(rf, newdata = as.data.frame(our_test.x))\n",
    "    \n",
    "    return(pred)\n",
    "}"
   ]
  },
  {
   "cell_type": "code",
   "execution_count": 59,
   "metadata": {},
   "outputs": [
    {
     "data": {
      "image/png": "[encoded data removed]",
      "text/plain": [
       "Plot with title \"variable importance\""
      ]
     },
     "metadata": {
      "image/png": {
       "height": 420,
       "width": 420
      }
     },
     "output_type": "display_data"
    }
   ],
   "source": [
    "rf.ac = my_rf(our_train[c(-1,-3:-7)], our_train$ac, our_train[c(-1,-3:-7)])"
   ]
  },
  {
   "cell_type": "markdown",
   "metadata": {},
   "source": [
    "From variable importance plot,we can know that load and season are the most two important features to ac."
   ]
  },
  {
   "cell_type": "code",
   "execution_count": 60,
   "metadata": {},
   "outputs": [
    {
     "name": "stderr",
     "output_type": "stream",
     "text": [
      "Installing package into 'C:/Users/Administrator/Documents/R/win-library/4.0'\n",
      "(as 'lib' is unspecified)\n",
      "\n"
     ]
    },
    {
     "name": "stdout",
     "output_type": "stream",
     "text": [
      "package 'measures' successfully unpacked and MD5 sums checked\n",
      "\n",
      "The downloaded binary packages are in\n",
      "\tC:\\Users\\Administrator\\AppData\\Local\\Temp\\RtmpUvpxcB\\downloaded_packages\n"
     ]
    },
    {
     "name": "stderr",
     "output_type": "stream",
     "text": [
      "Warning message:\n",
      "\"package 'measures' was built under R version 4.0.5\"\n"
     ]
    }
   ],
   "source": [
    "install.packages('measures')\n",
    "library(measures)\n"
   ]
  },
  {
   "cell_type": "code",
   "execution_count": 61,
   "metadata": {},
   "outputs": [],
   "source": [
    "# run the xgb model to predict oven appliance\n",
    "xgb.oven = my_xgb(our_train[c(-1,-3:-7)], our_train$oven, our_train[c(-1,-3:-7)])"
   ]
  },
  {
   "cell_type": "code",
   "execution_count": 62,
   "metadata": {},
   "outputs": [
    {
     "data": {
      "text/html": [
       "<dl>\n",
       "\t<dt>$accuracy</dt>\n",
       "\t\t<dd>0.9946</dd>\n",
       "\t<dt>$precision</dt>\n",
       "\t\t<dd>0.8096</dd>\n",
       "\t<dt>$recall</dt>\n",
       "\t\t<dd>0.8094</dd>\n",
       "\t<dt>$fscore</dt>\n",
       "\t\t<dd>0.8095</dd>\n",
       "</dl>\n"
      ],
      "text/latex": [
       "\\begin{description}\n",
       "\\item[\\$accuracy] 0.9946\n",
       "\\item[\\$precision] 0.8096\n",
       "\\item[\\$recall] 0.8094\n",
       "\\item[\\$fscore] 0.8095\n",
       "\\end{description}\n"
      ],
      "text/markdown": [
       "$accuracy\n",
       ":   0.9946\n",
       "$precision\n",
       ":   0.8096\n",
       "$recall\n",
       ":   0.8094\n",
       "$fscore\n",
       ":   0.8095\n",
       "\n",
       "\n"
      ],
      "text/plain": [
       "$accuracy\n",
       "[1] 0.9946\n",
       "\n",
       "$precision\n",
       "[1] 0.8096\n",
       "\n",
       "$recall\n",
       "[1] 0.8094\n",
       "\n",
       "$fscore\n",
       "[1] 0.8095\n"
      ]
     },
     "metadata": {},
     "output_type": "display_data"
    }
   ],
   "source": [
    "ovenbest=mod.stat(xgb.oven ,our_train$oven)\n",
    "ovenbest"
   ]
  },
  {
   "cell_type": "code",
   "execution_count": 63,
   "metadata": {},
   "outputs": [
    {
     "name": "stdout",
     "output_type": "stream",
     "text": [
      "RMSE is 0.0737012091969773"
     ]
    }
   ],
   "source": [
    "RMSE.xgb <- rmse(xgb.oven, our_train$oven)\n",
    "cat(paste(\"RMSE is\", RMSE.xgb))"
   ]
  },
  {
   "cell_type": "code",
   "execution_count": 64,
   "metadata": {
    "scrolled": true
   },
   "outputs": [],
   "source": [
    "# install.packages('gbm')\n",
    "# library(gbm)\n",
    "\n",
    "# my_gbm = function(our_train.x, our_train.y, our_test.x){\n",
    "#     our_train = as.data.frame(our_train.x)\n",
    "#     our_train$y = our_train.y\n",
    "    \n",
    "#     gbm.fit = gbm(y ~ load + absdif + max + entropy + hurst + our_gmm_label + lumpiness+my_entropy+diff1_acf1+x_acf1 , data = our_train,distribution = \"gaussian\", interaction.depth = c(3,6,9),\n",
    "#                          shrinkage = 0.1,n.trees = 100,n.minobsinnode = 30,verbose=FALSE)\n",
    "\n",
    "#     my_prediction <- predict(gbm.fit, our_test.x)\n",
    "    \n",
    "   \n",
    "#     my_quantile = length(our_train.y[our_train.y==0]) / length(our_train.y)\n",
    "#     my_value = quantile(my_prediction, my_quantile)\n",
    "#     my_prediction = ifelse(my_prediction > my_value, 1, 0)\n",
    "    \n",
    "#     return(my_prediction)\n",
    "# }"
   ]
  },
  {
   "cell_type": "code",
   "execution_count": 65,
   "metadata": {},
   "outputs": [],
   "source": [
    "# run the gbm model to predict oven appliance\n",
    "# gbm.oven = my_gbm(our_train[c(-1,-3:-7)], our_train$oven, our_train[c(-1,-3:-7)])"
   ]
  },
  {
   "cell_type": "code",
   "execution_count": 66,
   "metadata": {},
   "outputs": [],
   "source": [
    "# mod.stat(gbm.oven ,our_train$oven)"
   ]
  },
  {
   "cell_type": "code",
   "execution_count": 67,
   "metadata": {},
   "outputs": [],
   "source": [
    "# RMSE.gbm <- rmse(gbm.oven, our_train$oven)\n",
    "# cat(paste(\"RMSE is\", RMSE.gbm))"
   ]
  },
  {
   "cell_type": "markdown",
   "metadata": {},
   "source": [
    "For oven, we use xgboost and gbm classifier to make prediction.The result shows that the accuracy of xgboost on oven is 0.9946 while f1 is 0.81 and those of gbm are 0.9892 and 0.062.xgboost has higher accuracy and f1 than gbm.Also, the rmse of xgboost is 0.07 which is lower than gbm(0.1).Model is better with lower rmse.So we select xgboost as classifier of oven."
   ]
  },
  {
   "cell_type": "code",
   "execution_count": 68,
   "metadata": {},
   "outputs": [
    {
     "data": {
      "image/png": "[encoded data removed]",
      "text/plain": [
       "Plot with title \"variable importance\""
      ]
     },
     "metadata": {
      "image/png": {
       "height": 420,
       "width": 420
      }
     },
     "output_type": "display_data"
    }
   ],
   "source": [
    "rf.oven = my_rf(our_train[c(-1,-3:-7)], our_train$oven, our_train[c(-1,-3:-7)])"
   ]
  },
  {
   "cell_type": "markdown",
   "metadata": {},
   "source": [
    "From variable importance plot,we can know that load and var are the most two important features to oven."
   ]
  },
  {
   "cell_type": "code",
   "execution_count": 69,
   "metadata": {},
   "outputs": [],
   "source": [
    "# f1.oven = F1(response = rf.oven, truth = our_train$oven, positive = '1')\n",
    "# f1.oven"
   ]
  },
  {
   "cell_type": "code",
   "execution_count": 70,
   "metadata": {},
   "outputs": [],
   "source": [
    "# run the xgb model to predict ev appliance\n",
    "xgb.ev = my_xgb(our_train[c(-1,-3:-7)], our_train$ev, our_train[c(-1,-3:-7)])"
   ]
  },
  {
   "cell_type": "code",
   "execution_count": 71,
   "metadata": {},
   "outputs": [
    {
     "data": {
      "text/html": [
       "<dl>\n",
       "\t<dt>$accuracy</dt>\n",
       "\t\t<dd>0.9988</dd>\n",
       "\t<dt>$precision</dt>\n",
       "\t\t<dd>0.8964</dd>\n",
       "\t<dt>$recall</dt>\n",
       "\t\t<dd>0.8964</dd>\n",
       "\t<dt>$fscore</dt>\n",
       "\t\t<dd>0.8964</dd>\n",
       "</dl>\n"
      ],
      "text/latex": [
       "\\begin{description}\n",
       "\\item[\\$accuracy] 0.9988\n",
       "\\item[\\$precision] 0.8964\n",
       "\\item[\\$recall] 0.8964\n",
       "\\item[\\$fscore] 0.8964\n",
       "\\end{description}\n"
      ],
      "text/markdown": [
       "$accuracy\n",
       ":   0.9988\n",
       "$precision\n",
       ":   0.8964\n",
       "$recall\n",
       ":   0.8964\n",
       "$fscore\n",
       ":   0.8964\n",
       "\n",
       "\n"
      ],
      "text/plain": [
       "$accuracy\n",
       "[1] 0.9988\n",
       "\n",
       "$precision\n",
       "[1] 0.8964\n",
       "\n",
       "$recall\n",
       "[1] 0.8964\n",
       "\n",
       "$fscore\n",
       "[1] 0.8964\n"
      ]
     },
     "metadata": {},
     "output_type": "display_data"
    }
   ],
   "source": [
    "evbest=mod.stat(xgb.ev ,our_train$ev)\n",
    "evbest"
   ]
  },
  {
   "cell_type": "code",
   "execution_count": 72,
   "metadata": {},
   "outputs": [
    {
     "name": "stdout",
     "output_type": "stream",
     "text": [
      "RMSE is 0.0340392549861968"
     ]
    }
   ],
   "source": [
    "RMSE.xgb <- rmse(xgb.ev, our_train$ev)\n",
    "cat(paste(\"RMSE is\", RMSE.xgb))"
   ]
  },
  {
   "cell_type": "code",
   "execution_count": 73,
   "metadata": {},
   "outputs": [],
   "source": [
    "# my_gbm = function(our_train.x, our_train.y, our_test.x){\n",
    "#     our_train = as.data.frame(our_train.x)\n",
    "#     our_train$y = our_train.y\n",
    "    \n",
    "#     gbm.fit = gbm(y ~ load + absdif + max + var + entropy + season + our_gmm_label + lumpiness+my_entropy+x_acf1 , data = our_train,distribution = \"gaussian\", interaction.depth = c(3,6,9),\n",
    "#                          shrinkage = 0.1,n.trees = 100,n.minobsinnode = 30,verbose=FALSE)\n",
    "\n",
    "#     my_prediction <- predict(gbm.fit, our_test.x)\n",
    "    \n",
    "  \n",
    "#     my_quantile = length(our_train.y[our_train.y==0]) / length(our_train.y)\n",
    "#     my_value = quantile(my_prediction, my_quantile)\n",
    "#     my_prediction = ifelse(my_prediction > my_value, 1, 0)\n",
    "    \n",
    "#     return(my_prediction)\n",
    "# }"
   ]
  },
  {
   "cell_type": "code",
   "execution_count": 74,
   "metadata": {},
   "outputs": [],
   "source": [
    "# run the gbm model to predict ev appliance\n",
    "# gbm.ev = my_gbm(our_train[c(-1,-3:-7)], our_train$ev, our_train[c(-1,-3:-7)])"
   ]
  },
  {
   "cell_type": "code",
   "execution_count": 75,
   "metadata": {},
   "outputs": [],
   "source": [
    "# mod.stat(gbm.ev ,our_train$ev)"
   ]
  },
  {
   "cell_type": "code",
   "execution_count": 76,
   "metadata": {},
   "outputs": [],
   "source": [
    "# RMSE.gbm <- rmse(gbm.ev, our_train$ev)\n",
    "# cat(paste(\"RMSE is\", RMSE.gbm))"
   ]
  },
  {
   "cell_type": "markdown",
   "metadata": {},
   "source": [
    "For ev, we use xgboost and gbm classifier to make prediction.The result shows that the accuracy of xgboost on ev is 0.9988 while f1 is 0.9 and those of glm are 0.9967 and 0.7.xgboost has higher accuracy and f1 than gbm.Also, the rmse of xgboost is 0.03 which is lower than gbm(0.05).Model is better with lower rmse.So we select xgboost as classifier of ev."
   ]
  },
  {
   "cell_type": "code",
   "execution_count": 77,
   "metadata": {},
   "outputs": [
    {
     "data": {
      "image/png": "[encoded data removed]",
      "text/plain": [
       "Plot with title \"variable importance\""
      ]
     },
     "metadata": {
      "image/png": {
       "height": 420,
       "width": 420
      }
     },
     "output_type": "display_data"
    }
   ],
   "source": [
    "rf.ev = my_rf(our_train[c(-1,-3:-7)], our_train$ev, our_train[c(-1,-3:-7)])"
   ]
  },
  {
   "cell_type": "markdown",
   "metadata": {},
   "source": [
    "From variable importance plot,we can know that load and var are the most two important features to ev."
   ]
  },
  {
   "cell_type": "code",
   "execution_count": 78,
   "metadata": {},
   "outputs": [],
   "source": [
    "# f1.ev = F1(response = rf.ev, truth = our_train$ev, positive = '1')\n",
    "# f1.ev"
   ]
  },
  {
   "cell_type": "code",
   "execution_count": 79,
   "metadata": {},
   "outputs": [],
   "source": [
    "# run the xgb model to predict wash appliance\n",
    "# xgb.wash = my_xgb(our_train[c(-1,-3:-7)], our_train$wash, our_train[c(-1,-3:-7)])\n"
   ]
  },
  {
   "cell_type": "code",
   "execution_count": 80,
   "metadata": {},
   "outputs": [],
   "source": [
    "# mod.stat(xgb.wash ,our_train$wash)"
   ]
  },
  {
   "cell_type": "code",
   "execution_count": 81,
   "metadata": {},
   "outputs": [],
   "source": [
    "# RMSE.xgb <- rmse(xgb.wash, our_train$wash)\n",
    "# cat(paste(\"RMSE is\", RMSE.xgb))"
   ]
  },
  {
   "cell_type": "code",
   "execution_count": 82,
   "metadata": {},
   "outputs": [],
   "source": [
    "# install.packages('party')\n",
    "# library(party)"
   ]
  },
  {
   "cell_type": "code",
   "execution_count": 83,
   "metadata": {},
   "outputs": [],
   "source": [
    "# my_ctree = function(our_train.x, our_train.y, our_test.x){\n",
    "#     our_train = as.data.frame(our_train.x)\n",
    "#     our_train$y = our_train.y\n",
    "    \n",
    "#     ct.fit <- ctree(y ~ load + hourofday + max + var  + nonlinear + hurst + season + our_gmm_label + lumpiness+diff1_acf1, data = our_train)\n",
    "\n",
    "\n",
    "#     my_prediction <- predict(ct.fit, our_test.x)\n",
    "    \n",
    "#     # calculate quantile\n",
    "#     my_quantile = length(our_train.y[our_train.y==0]) / length(our_train.y)\n",
    "#     my_value = quantile(my_prediction, my_quantile)\n",
    "#     my_prediction = ifelse(my_prediction > my_value, 1, 0)\n",
    "    \n",
    "#     return(my_prediction)\n",
    "# }"
   ]
  },
  {
   "cell_type": "code",
   "execution_count": 84,
   "metadata": {},
   "outputs": [],
   "source": [
    "# run the xgb model to predict oven appliance\n",
    "# ctree.wash = my_ctree(our_train[c(-1,-3:-7)], our_train$wash, our_train[c(-1,-3:-7)])"
   ]
  },
  {
   "cell_type": "code",
   "execution_count": 85,
   "metadata": {},
   "outputs": [],
   "source": [
    "# washbest=mod.stat(ctree.wash ,our_train$wash)\n",
    "# washbest"
   ]
  },
  {
   "cell_type": "code",
   "execution_count": 86,
   "metadata": {},
   "outputs": [],
   "source": [
    "# RMSE.ctree <- rmse(ctree.wash, our_train$wash)\n",
    "# cat(paste(\"RMSE is\", RMSE.ctree))"
   ]
  },
  {
   "cell_type": "code",
   "execution_count": 87,
   "metadata": {},
   "outputs": [
    {
     "data": {
      "image/png": "[encoded data removed]",
      "text/plain": [
       "Plot with title \"variable importance\""
      ]
     },
     "metadata": {
      "image/png": {
       "height": 420,
       "width": 420
      }
     },
     "output_type": "display_data"
    }
   ],
   "source": [
    "rf.wash = my_rf(our_train[c(-1,-3:-7)], our_train$wash, our_train[c(-1,-3:-7)])"
   ]
  },
  {
   "cell_type": "markdown",
   "metadata": {},
   "source": [
    "From variable importance plot,we can know that max and load are the most two important features to wash."
   ]
  },
  {
   "cell_type": "code",
   "execution_count": 88,
   "metadata": {},
   "outputs": [
    {
     "data": {
      "text/html": [
       "0.918609297988544"
      ],
      "text/latex": [
       "0.918609297988544"
      ],
      "text/markdown": [
       "0.918609297988544"
      ],
      "text/plain": [
       "[1] 0.9186093"
      ]
     },
     "metadata": {},
     "output_type": "display_data"
    }
   ],
   "source": [
    "f1.wash = F1(response = rf.wash, truth = our_train$wash, positive = '1')\n",
    "f1.wash"
   ]
  },
  {
   "cell_type": "markdown",
   "metadata": {},
   "source": [
    "For wash, we use ctree and randomforest classifier to make prediction.The result shows that the accuracy of ctree on wash is 0.9801 while f1 is 0.48 and f1 of randomforest is 0.92.randomforest has higher f1 than ctree.Also, the rmse of ctree is 0.14 which is relatively high.Model is better with lower rmse.So we select randomforest as classifier of wash."
   ]
  },
  {
   "cell_type": "code",
   "execution_count": 89,
   "metadata": {},
   "outputs": [],
   "source": [
    "# run the xgb model to predict wash appliance\n",
    "# xgb.dryer = my_xgb(our_train[c(-1,-3:-7)], our_train$dryer, our_train[c(-1,-3:-7)])\n",
    "# dryerbest=mod.stat(xgb.dryer ,our_train$dryer)\n",
    "# dryerbest"
   ]
  },
  {
   "cell_type": "code",
   "execution_count": 90,
   "metadata": {},
   "outputs": [],
   "source": [
    "# RMSE.xgb <- rmse(xgb.dryer, our_train$dryer)\n",
    "# cat(paste(\"RMSE is\", RMSE.xgb))"
   ]
  },
  {
   "cell_type": "code",
   "execution_count": 91,
   "metadata": {},
   "outputs": [
    {
     "data": {
      "image/png": "[encoded data removed]",
      "text/plain": [
       "Plot with title \"variable importance\""
      ]
     },
     "metadata": {
      "image/png": {
       "height": 420,
       "width": 420
      }
     },
     "output_type": "display_data"
    }
   ],
   "source": [
    "rf.dryer = my_rf(our_train[c(-1,-3:-7)], our_train$dryer, our_train[c(-1,-3:-7)])"
   ]
  },
  {
   "cell_type": "markdown",
   "metadata": {},
   "source": [
    "From variable importance plot,we can know that max and hourofday are the most two important features to dryer."
   ]
  },
  {
   "cell_type": "code",
   "execution_count": 92,
   "metadata": {},
   "outputs": [
    {
     "data": {
      "text/html": [
       "0.959033772527639"
      ],
      "text/latex": [
       "0.959033772527639"
      ],
      "text/markdown": [
       "0.959033772527639"
      ],
      "text/plain": [
       "[1] 0.9590338"
      ]
     },
     "metadata": {},
     "output_type": "display_data"
    }
   ],
   "source": [
    "f1.dryer = F1(response = rf.dryer, truth = our_train$dryer, positive = '1')\n",
    "f1.dryer"
   ]
  },
  {
   "cell_type": "markdown",
   "metadata": {},
   "source": [
    "For dryer, we use xgboost and randomforest classifier to make prediction.The result shows that the accuracy of xgboost on dryer is 0.97 while f1 is 0.54 and f1 of randomforest is 0.95.randomforest has higher f1 than xgboost.Also, the rmse of xgboost is 0.17 which is relatively high.Model is better with lower rmse.So we select randomforest as classifier of dryer."
   ]
  },
  {
   "cell_type": "code",
   "execution_count": 93,
   "metadata": {},
   "outputs": [
    {
     "data": {
      "text/html": [
       "0.914708614103237"
      ],
      "text/latex": [
       "0.914708614103237"
      ],
      "text/markdown": [
       "0.914708614103237"
      ],
      "text/plain": [
       "[1] 0.9147086"
      ]
     },
     "metadata": {},
     "output_type": "display_data"
    }
   ],
   "source": [
    "F1_mean = (f1.dryer + f1.wash + acbest$fscore + evbest$fscore + ovenbest$fscore)/5\n",
    "F1_mean"
   ]
  },
  {
   "cell_type": "markdown",
   "metadata": {},
   "source": [
    "Finally, we can calculate the mean of the best F1 of each appliance and the mean of F1 is 0.92."
   ]
  },
  {
   "cell_type": "code",
   "execution_count": 94,
   "metadata": {},
   "outputs": [
    {
     "data": {
      "image/png": "[encoded data removed]",
      "text/plain": [
       "Plot with title \"variable importance\""
      ]
     },
     "metadata": {
      "image/png": {
       "height": 420,
       "width": 420
      }
     },
     "output_type": "display_data"
    },
    {
     "data": {
      "image/png": "[encoded data removed]",
      "text/plain": [
       "Plot with title \"variable importance\""
      ]
     },
     "metadata": {
      "image/png": {
       "height": 420,
       "width": 420
      }
     },
     "output_type": "display_data"
    }
   ],
   "source": [
    "# find out the best model for each appliance\n",
    "our.ac = my_xgb(our_train[c(-1,-3:-7)], our_train$ac, our_test[-1])\n",
    "our.ev = my_xgb(our_train[c(-1,-3:-7)], our_train$ev, our_test[-1])\n",
    "our.oven = my_xgb(our_train[c(-1,-3:-7)], our_train$oven, our_test[-1])\n",
    "our.wash = my_rf(our_train[c(-1,-3:-7)], our_train$wash, our_test[-1])\n",
    "our.dryer = my_rf(our_train[c(-1,-3:-7)], our_train$dryer, our_test[-1])\n",
    "# build a subset for output \n",
    "pred.labels = data.frame(our_test$X, our.ac, our.ev, our.oven, our.wash, our.dryer)\n",
    "colnames(pred.labels) = c('col_index','ac','ev','oven','wash','dryer')"
   ]
  },
  {
   "cell_type": "code",
   "execution_count": 95,
   "metadata": {},
   "outputs": [],
   "source": [
    "# write to file\n",
    "write.csv(pred.labels, 'pred_labels.csv', row.names=FALSE)"
   ]
  }
 ],
 "metadata": {
  "kernelspec": {
   "display_name": "R",
   "language": "R",
   "name": "ir"
  },
  "language_info": {
   "codemirror_mode": "r",
   "file_extension": ".r",
   "mimetype": "text/x-r-source",
   "name": "R",
   "pygments_lexer": "r",
   "version": "4.0.2"
  }
 },
 "nbformat": 4,
 "nbformat_minor": 2
}
